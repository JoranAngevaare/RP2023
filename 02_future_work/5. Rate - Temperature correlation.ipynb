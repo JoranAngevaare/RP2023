{
 "cells": [
  {
   "cell_type": "markdown",
   "metadata": {
    "pycharm": {
     "name": "#%% md\n"
    }
   },
   "source": [
    "#  Rate vs. temperature\n",
    "Author:\n",
    "\n",
    "J. Angevaare // <j.angevaare@nikhef.nl> // 2020-06-11\n",
    "\n",
    "As elucidated in the instrumentation paper (see ``0. before getting started`` for reference), we observed a temperature dependent rate. Here we show this correlation by loading data that was generated using ``03_stoomboot_data_access/5. Get Data`` in this folder"
   ]
  },
  {
   "cell_type": "code",
   "execution_count": 1,
   "metadata": {
    "ExecuteTime": {
     "end_time": "2023-01-09T08:53:52.539020Z",
     "start_time": "2023-01-09T08:53:50.747028Z"
    },
    "pycharm": {
     "name": "#%%\n"
    }
   },
   "outputs": [],
   "source": [
    "import socket\n",
    "import pandas as pd\n",
    "import numpy as np\n",
    "import matplotlib.pyplot as plt\n",
    "from matplotlib.colors import LogNorm\n",
    "import numba\n",
    "import uproot3\n",
    "import os\n",
    "import shutil\n",
    "from matplotlib import rc\n",
    "from scipy import optimize\n",
    "# Set nice big fonts for plots\n",
    "rc('font', size = 15)\n"
   ]
  },
  {
   "cell_type": "code",
   "execution_count": 2,
   "metadata": {
    "ExecuteTime": {
     "end_time": "2023-01-09T08:53:52.582951Z",
     "start_time": "2023-01-09T08:53:52.543279Z"
    },
    "pycharm": {
     "name": "#%%\n"
    }
   },
   "outputs": [],
   "source": [
    "try:\n",
    "    import RP2023 as rp\n",
    "except ModuleNotFoundError:\n",
    "    # This module is not installed correctly, let's hack it in\n",
    "    import sys\n",
    "    import os\n",
    "    path = os.path.join(os.path.abspath('.'), '..')\n",
    "    sys.path.append(path) \n",
    "    import RP2023 as rp"
   ]
  },
  {
   "cell_type": "markdown",
   "metadata": {
    "pycharm": {
     "name": "#%% md\n"
    }
   },
   "source": [
    "## Get the data.\n",
    "You first need to download the data in order to be able to continue. Since the files are large, we could not save it together with the other files in this github repository. You can download the files from:\n",
    "https://surfdrive.surf.nl/files/index.php/s/6CBbzKGvCrttLkp and move it to the `../data/` directory. Thereafter you should be able to continue with the cells below. Make sure to extract the zip file you download via the link!"
   ]
  },
  {
   "cell_type": "markdown",
   "metadata": {
    "pycharm": {
     "name": "#%% md\n"
    }
   },
   "source": [
    "## Great lets open that data!"
   ]
  },
  {
   "cell_type": "code",
   "execution_count": 3,
   "metadata": {
    "ExecuteTime": {
     "end_time": "2023-01-09T08:53:53.718980Z",
     "start_time": "2023-01-09T08:53:52.585381Z"
    },
    "pycharm": {
     "name": "#%%\n"
    }
   },
   "outputs": [],
   "source": [
    "# Here we will loop over all datasets in the Ti44 folder! \n",
    "# We append each of the datasets seperately since that allows us to calculate the rate in that dataset\n",
    "dsets = []\n",
    "zip_files = '../data/temperature/ti44/'\n",
    "for dset in os.listdir(zip_files):\n",
    "    if 'zip' in dset:\n",
    "        _path = os.path.join(zip_files, dset)\n",
    "        d = pd.read_parquet(_path)\n",
    "        dsets.append(d)\n",
    "        del d"
   ]
  },
  {
   "cell_type": "code",
   "execution_count": 4,
   "metadata": {
    "ExecuteTime": {
     "end_time": "2023-01-09T08:53:53.750349Z",
     "start_time": "2023-01-09T08:53:53.721723Z"
    },
    "pycharm": {
     "name": "#%%\n"
    }
   },
   "outputs": [
    {
     "data": {
      "text/html": [
       "<div>\n",
       "<style scoped>\n",
       "    .dataframe tbody tr th:only-of-type {\n",
       "        vertical-align: middle;\n",
       "    }\n",
       "\n",
       "    .dataframe tbody tr th {\n",
       "        vertical-align: top;\n",
       "    }\n",
       "\n",
       "    .dataframe thead th {\n",
       "        text-align: right;\n",
       "    }\n",
       "</style>\n",
       "<table border=\"1\" class=\"dataframe\">\n",
       "  <thead>\n",
       "    <tr style=\"text-align: right;\">\n",
       "      <th></th>\n",
       "      <th>channel</th>\n",
       "      <th>integral</th>\n",
       "      <th>time</th>\n",
       "      <th>temp</th>\n",
       "    </tr>\n",
       "  </thead>\n",
       "  <tbody>\n",
       "    <tr>\n",
       "      <th>0</th>\n",
       "      <td>2</td>\n",
       "      <td>507.140594</td>\n",
       "      <td>3.670560e+09</td>\n",
       "      <td>28.5</td>\n",
       "    </tr>\n",
       "    <tr>\n",
       "      <th>1</th>\n",
       "      <td>3</td>\n",
       "      <td>354.686768</td>\n",
       "      <td>3.670560e+09</td>\n",
       "      <td>28.5</td>\n",
       "    </tr>\n",
       "    <tr>\n",
       "      <th>2</th>\n",
       "      <td>2</td>\n",
       "      <td>505.350769</td>\n",
       "      <td>3.670560e+09</td>\n",
       "      <td>28.5</td>\n",
       "    </tr>\n",
       "    <tr>\n",
       "      <th>3</th>\n",
       "      <td>3</td>\n",
       "      <td>461.941132</td>\n",
       "      <td>3.670560e+09</td>\n",
       "      <td>28.5</td>\n",
       "    </tr>\n",
       "    <tr>\n",
       "      <th>4</th>\n",
       "      <td>3</td>\n",
       "      <td>509.511261</td>\n",
       "      <td>3.670560e+09</td>\n",
       "      <td>28.5</td>\n",
       "    </tr>\n",
       "    <tr>\n",
       "      <th>...</th>\n",
       "      <td>...</td>\n",
       "      <td>...</td>\n",
       "      <td>...</td>\n",
       "      <td>...</td>\n",
       "    </tr>\n",
       "    <tr>\n",
       "      <th>1924710</th>\n",
       "      <td>3</td>\n",
       "      <td>496.046417</td>\n",
       "      <td>3.670561e+09</td>\n",
       "      <td>28.5</td>\n",
       "    </tr>\n",
       "    <tr>\n",
       "      <th>1924711</th>\n",
       "      <td>3</td>\n",
       "      <td>961.744019</td>\n",
       "      <td>3.670561e+09</td>\n",
       "      <td>28.5</td>\n",
       "    </tr>\n",
       "    <tr>\n",
       "      <th>1924712</th>\n",
       "      <td>2</td>\n",
       "      <td>487.761169</td>\n",
       "      <td>3.670561e+09</td>\n",
       "      <td>28.5</td>\n",
       "    </tr>\n",
       "    <tr>\n",
       "      <th>1924713</th>\n",
       "      <td>3</td>\n",
       "      <td>490.770233</td>\n",
       "      <td>3.670561e+09</td>\n",
       "      <td>28.5</td>\n",
       "    </tr>\n",
       "    <tr>\n",
       "      <th>1924714</th>\n",
       "      <td>2</td>\n",
       "      <td>1143.576416</td>\n",
       "      <td>3.670561e+09</td>\n",
       "      <td>28.5</td>\n",
       "    </tr>\n",
       "  </tbody>\n",
       "</table>\n",
       "<p>1924715 rows × 4 columns</p>\n",
       "</div>"
      ],
      "text/plain": [
       "         channel     integral          time  temp\n",
       "0              2   507.140594  3.670560e+09  28.5\n",
       "1              3   354.686768  3.670560e+09  28.5\n",
       "2              2   505.350769  3.670560e+09  28.5\n",
       "3              3   461.941132  3.670560e+09  28.5\n",
       "4              3   509.511261  3.670560e+09  28.5\n",
       "...          ...          ...           ...   ...\n",
       "1924710        3   496.046417  3.670561e+09  28.5\n",
       "1924711        3   961.744019  3.670561e+09  28.5\n",
       "1924712        2   487.761169  3.670561e+09  28.5\n",
       "1924713        3   490.770233  3.670561e+09  28.5\n",
       "1924714        2  1143.576416  3.670561e+09  28.5\n",
       "\n",
       "[1924715 rows x 4 columns]"
      ]
     },
     "execution_count": 4,
     "metadata": {},
     "output_type": "execute_result"
    }
   ],
   "source": [
    "# Now we have a list of datasets. See for example the first one: \n",
    "dsets[0]"
   ]
  },
  {
   "cell_type": "markdown",
   "metadata": {
    "pycharm": {
     "name": "#%% md\n"
    }
   },
   "source": [
    "## Calculate the efficiency for a given dataset. \n",
    "\n",
    "Below you insert how you want to calculate the efficiency. \n",
    "\n",
    "If you get stuck here, please ask questions!\n",
    "\n",
    "The goal is to automatically calculate the efficiency for a given dataset. This you then add as a prpoerty to the dataframe that is being created inside ``parse_datasets``. "
   ]
  },
  {
   "cell_type": "code",
   "execution_count": 5,
   "metadata": {
    "ExecuteTime": {
     "end_time": "2023-01-09T08:53:53.759596Z",
     "start_time": "2023-01-09T08:53:53.754101Z"
    },
    "pycharm": {
     "name": "#%%\n"
    }
   },
   "outputs": [],
   "source": [
    "def your_efficiency_function(data, normalization_factor = 1):\n",
    "    \"\"\"\n",
    "    automatically calculate the effiency for a given dataset.\n",
    "    \"\"\"\n",
    "    # You can add how you calculate the efficiency here for a given dataset. \n",
    "    # Plese note that both channels are in the \n",
    "    matched_data = rp.easy_coincidence_matching(data, source = 'Ti44', check_time_order = True)\n",
    "    \n",
    "    # Efficiency = ??\n",
    "    \n",
    "    # For now we will just return one for as a placeholder\n",
    "    return 1 / normalization_factor"
   ]
  },
  {
   "cell_type": "code",
   "execution_count": 6,
   "metadata": {
    "ExecuteTime": {
     "end_time": "2023-01-09T08:53:53.773927Z",
     "start_time": "2023-01-09T08:53:53.764671Z"
    },
    "pycharm": {
     "name": "#%%\n"
    }
   },
   "outputs": [],
   "source": [
    "def parse_datasets(dsets):\n",
    "    \"\"\"\n",
    "    Extract data from the datasets. \n",
    "    \n",
    "    return: table containing the data of interest.\n",
    "    \"\"\"\n",
    "    res = {'time':[],\n",
    "           'temp':[],\n",
    "           'dtemp':[],\n",
    "           'counts':[],\n",
    "           'dt':[],\n",
    "           'efficiency':[]}\n",
    "\n",
    "    for d in dsets:\n",
    "        # CHANGE THIS. For now I will only show the 511 keV peak to calculate the rate for this energy.\n",
    "        selected_data = rp.select_peak(d, 'integral', 511, 25)\n",
    "        \n",
    "        # This is a crude approximation as you have seen before. Can we do a better job?\n",
    "        counts = len(selected_data)\n",
    "        \n",
    "        # For this dataset, just take the mean and standard deviation and save those values\n",
    "        res['time'].append(np.mean(selected_data['time']))\n",
    "        res['temp'].append(np.mean(selected_data['temp']))\n",
    "        res['dtemp'].append(np.std(selected_data['temp']))\n",
    "        \n",
    "        # Save the counts. NB: this is the combined count for both channels!!!\n",
    "        res['counts'].append(counts)\n",
    "        \n",
    "        # Calculate the duration of the dataset (needed to convert counts to a rate)\n",
    "        res['dt'].append(selected_data['time'].max() - selected_data['time'].min())\n",
    "        \n",
    "        # Most importantly calculate the efficiency for the given dataset\n",
    "        efficiency = your_efficiency_function(selected_data, normalization_factor = 1)\n",
    "        res['efficiency'].append(efficiency)\n",
    "    return pd.DataFrame(res)"
   ]
  },
  {
   "cell_type": "code",
   "execution_count": 7,
   "metadata": {
    "ExecuteTime": {
     "end_time": "2023-01-09T08:54:02.274409Z",
     "start_time": "2023-01-09T08:53:53.778401Z"
    },
    "pycharm": {
     "name": "#%%\n"
    }
   },
   "outputs": [
    {
     "name": "stdout",
     "output_type": "stream",
     "text": [
      "Checking time order of your data. This can take a while. Disable with check_time_order = False\n",
      "Warning! Your data was not time ordered, doing that now. May take a while\n",
      "Checking time order of your data. This can take a while. Disable with check_time_order = False\n",
      "Warning! Your data was not time ordered, doing that now. May take a while\n",
      "Checking time order of your data. This can take a while. Disable with check_time_order = False\n",
      "Warning! Your data was not time ordered, doing that now. May take a while\n",
      "Checking time order of your data. This can take a while. Disable with check_time_order = False\n",
      "Warning! Your data was not time ordered, doing that now. May take a while\n",
      "Checking time order of your data. This can take a while. Disable with check_time_order = False\n",
      "Warning! Your data was not time ordered, doing that now. May take a while\n",
      "Checking time order of your data. This can take a while. Disable with check_time_order = False\n",
      "Warning! Your data was not time ordered, doing that now. May take a while\n",
      "Checking time order of your data. This can take a while. Disable with check_time_order = False\n",
      "Warning! Your data was not time ordered, doing that now. May take a while\n",
      "Checking time order of your data. This can take a while. Disable with check_time_order = False\n",
      "Warning! Your data was not time ordered, doing that now. May take a while\n",
      "Checking time order of your data. This can take a while. Disable with check_time_order = False\n",
      "Warning! Your data was not time ordered, doing that now. May take a while\n",
      "Checking time order of your data. This can take a while. Disable with check_time_order = False\n",
      "Warning! Your data was not time ordered, doing that now. May take a while\n",
      "Checking time order of your data. This can take a while. Disable with check_time_order = False\n",
      "Warning! Your data was not time ordered, doing that now. May take a while\n",
      "Checking time order of your data. This can take a while. Disable with check_time_order = False\n",
      "Warning! Your data was not time ordered, doing that now. May take a while\n",
      "Checking time order of your data. This can take a while. Disable with check_time_order = False\n",
      "Warning! Your data was not time ordered, doing that now. May take a while\n",
      "Checking time order of your data. This can take a while. Disable with check_time_order = False\n",
      "Warning! Your data was not time ordered, doing that now. May take a while\n"
     ]
    },
    {
     "data": {
      "text/html": [
       "<div>\n",
       "<style scoped>\n",
       "    .dataframe tbody tr th:only-of-type {\n",
       "        vertical-align: middle;\n",
       "    }\n",
       "\n",
       "    .dataframe tbody tr th {\n",
       "        vertical-align: top;\n",
       "    }\n",
       "\n",
       "    .dataframe thead th {\n",
       "        text-align: right;\n",
       "    }\n",
       "</style>\n",
       "<table border=\"1\" class=\"dataframe\">\n",
       "  <thead>\n",
       "    <tr style=\"text-align: right;\">\n",
       "      <th></th>\n",
       "      <th>time</th>\n",
       "      <th>temp</th>\n",
       "      <th>dtemp</th>\n",
       "      <th>counts</th>\n",
       "      <th>dt</th>\n",
       "      <th>efficiency</th>\n",
       "    </tr>\n",
       "  </thead>\n",
       "  <tbody>\n",
       "    <tr>\n",
       "      <th>0</th>\n",
       "      <td>3.670560e+09</td>\n",
       "      <td>28.500000</td>\n",
       "      <td>0.000000e+00</td>\n",
       "      <td>684542</td>\n",
       "      <td>1836.196517</td>\n",
       "      <td>1.0</td>\n",
       "    </tr>\n",
       "    <tr>\n",
       "      <th>1</th>\n",
       "      <td>3.670820e+09</td>\n",
       "      <td>32.500000</td>\n",
       "      <td>0.000000e+00</td>\n",
       "      <td>677204</td>\n",
       "      <td>1819.315351</td>\n",
       "      <td>1.0</td>\n",
       "    </tr>\n",
       "    <tr>\n",
       "      <th>2</th>\n",
       "      <td>3.662180e+09</td>\n",
       "      <td>29.500000</td>\n",
       "      <td>0.000000e+00</td>\n",
       "      <td>675126</td>\n",
       "      <td>1806.004872</td>\n",
       "      <td>1.0</td>\n",
       "    </tr>\n",
       "    <tr>\n",
       "      <th>3</th>\n",
       "      <td>3.671538e+09</td>\n",
       "      <td>27.375143</td>\n",
       "      <td>4.321815e-02</td>\n",
       "      <td>687854</td>\n",
       "      <td>1843.661346</td>\n",
       "      <td>1.0</td>\n",
       "    </tr>\n",
       "    <tr>\n",
       "      <th>4</th>\n",
       "      <td>3.661271e+09</td>\n",
       "      <td>23.494801</td>\n",
       "      <td>2.220039e-02</td>\n",
       "      <td>684747</td>\n",
       "      <td>1826.877166</td>\n",
       "      <td>1.0</td>\n",
       "    </tr>\n",
       "    <tr>\n",
       "      <th>5</th>\n",
       "      <td>3.670995e+09</td>\n",
       "      <td>31.100000</td>\n",
       "      <td>4.618528e-14</td>\n",
       "      <td>680907</td>\n",
       "      <td>1826.881777</td>\n",
       "      <td>1.0</td>\n",
       "    </tr>\n",
       "    <tr>\n",
       "      <th>6</th>\n",
       "      <td>3.661678e+09</td>\n",
       "      <td>22.911990</td>\n",
       "      <td>3.248448e-02</td>\n",
       "      <td>687230</td>\n",
       "      <td>1830.551403</td>\n",
       "      <td>1.0</td>\n",
       "    </tr>\n",
       "    <tr>\n",
       "      <th>7</th>\n",
       "      <td>3.671165e+09</td>\n",
       "      <td>29.800000</td>\n",
       "      <td>7.105427e-15</td>\n",
       "      <td>683156</td>\n",
       "      <td>1830.939208</td>\n",
       "      <td>1.0</td>\n",
       "    </tr>\n",
       "    <tr>\n",
       "      <th>8</th>\n",
       "      <td>3.662468e+09</td>\n",
       "      <td>32.282838</td>\n",
       "      <td>3.770483e-02</td>\n",
       "      <td>672306</td>\n",
       "      <td>1798.412015</td>\n",
       "      <td>1.0</td>\n",
       "    </tr>\n",
       "    <tr>\n",
       "      <th>9</th>\n",
       "      <td>3.661158e+09</td>\n",
       "      <td>28.705805</td>\n",
       "      <td>2.338422e-02</td>\n",
       "      <td>676322</td>\n",
       "      <td>1806.450096</td>\n",
       "      <td>1.0</td>\n",
       "    </tr>\n",
       "    <tr>\n",
       "      <th>10</th>\n",
       "      <td>3.671341e+09</td>\n",
       "      <td>28.394972</td>\n",
       "      <td>2.185220e-02</td>\n",
       "      <td>684786</td>\n",
       "      <td>1838.524769</td>\n",
       "      <td>1.0</td>\n",
       "    </tr>\n",
       "    <tr>\n",
       "      <th>11</th>\n",
       "      <td>3.661927e+09</td>\n",
       "      <td>27.399189</td>\n",
       "      <td>8.966736e-03</td>\n",
       "      <td>677281</td>\n",
       "      <td>1816.015609</td>\n",
       "      <td>1.0</td>\n",
       "    </tr>\n",
       "    <tr>\n",
       "      <th>12</th>\n",
       "      <td>3.671771e+09</td>\n",
       "      <td>23.000000</td>\n",
       "      <td>0.000000e+00</td>\n",
       "      <td>695451</td>\n",
       "      <td>1862.082153</td>\n",
       "      <td>1.0</td>\n",
       "    </tr>\n",
       "    <tr>\n",
       "      <th>13</th>\n",
       "      <td>3.670646e+09</td>\n",
       "      <td>32.200000</td>\n",
       "      <td>2.131628e-14</td>\n",
       "      <td>677151</td>\n",
       "      <td>1820.931508</td>\n",
       "      <td>1.0</td>\n",
       "    </tr>\n",
       "  </tbody>\n",
       "</table>\n",
       "</div>"
      ],
      "text/plain": [
       "            time       temp         dtemp  counts           dt  efficiency\n",
       "0   3.670560e+09  28.500000  0.000000e+00  684542  1836.196517         1.0\n",
       "1   3.670820e+09  32.500000  0.000000e+00  677204  1819.315351         1.0\n",
       "2   3.662180e+09  29.500000  0.000000e+00  675126  1806.004872         1.0\n",
       "3   3.671538e+09  27.375143  4.321815e-02  687854  1843.661346         1.0\n",
       "4   3.661271e+09  23.494801  2.220039e-02  684747  1826.877166         1.0\n",
       "5   3.670995e+09  31.100000  4.618528e-14  680907  1826.881777         1.0\n",
       "6   3.661678e+09  22.911990  3.248448e-02  687230  1830.551403         1.0\n",
       "7   3.671165e+09  29.800000  7.105427e-15  683156  1830.939208         1.0\n",
       "8   3.662468e+09  32.282838  3.770483e-02  672306  1798.412015         1.0\n",
       "9   3.661158e+09  28.705805  2.338422e-02  676322  1806.450096         1.0\n",
       "10  3.671341e+09  28.394972  2.185220e-02  684786  1838.524769         1.0\n",
       "11  3.661927e+09  27.399189  8.966736e-03  677281  1816.015609         1.0\n",
       "12  3.671771e+09  23.000000  0.000000e+00  695451  1862.082153         1.0\n",
       "13  3.670646e+09  32.200000  2.131628e-14  677151  1820.931508         1.0"
      ]
     },
     "execution_count": 7,
     "metadata": {},
     "output_type": "execute_result"
    }
   ],
   "source": [
    "res = parse_datasets(dsets)\n",
    "# Our results are saved in the following dataframe:\n",
    "res"
   ]
  },
  {
   "cell_type": "markdown",
   "metadata": {
    "pycharm": {
     "name": "#%% md\n"
    }
   },
   "source": [
    "# Check temperature rate - temperature correlation\n",
    "To illustrate the correlation I'll plot the rate vs temperature below. Can you make a similar plot for the efficiency?"
   ]
  },
  {
   "cell_type": "code",
   "execution_count": 8,
   "metadata": {
    "ExecuteTime": {
     "end_time": "2023-01-09T08:54:02.281984Z",
     "start_time": "2023-01-09T08:54:02.277787Z"
    },
    "pycharm": {
     "name": "#%%\n"
    }
   },
   "outputs": [],
   "source": [
    "def lin_function(x, a, b):\n",
    "    return a * x + b "
   ]
  },
  {
   "cell_type": "code",
   "execution_count": 9,
   "metadata": {
    "ExecuteTime": {
     "end_time": "2023-01-09T08:54:02.647296Z",
     "start_time": "2023-01-09T08:54:02.284287Z"
    },
    "pycharm": {
     "name": "#%%\n"
    }
   },
   "outputs": [
    {
     "data": {
      "image/png": "[encoded data removed]",
      "text/plain": [
       "<Figure size 1000x800 with 2 Axes>"
      ]
     },
     "metadata": {},
     "output_type": "display_data"
    }
   ],
   "source": [
    "def plot_res():\n",
    "    \"\"\"\n",
    "    Make a plot of the temperature versus rate (uncorrected for the normal exponential decay).\n",
    "    \"\"\"\n",
    "    \n",
    "    plt.figure(figsize = (10,8))\n",
    "    # Select the values to plot\n",
    "    temp = res['temp']\n",
    "    dtemp = res['dtemp']\n",
    "    rate = res['counts'] / res['dt']\n",
    "    drate = np.sqrt(res['counts']) / res['dt']\n",
    "    time = (res['time']-res['time'].values.min())/(3600*24)\n",
    "    \n",
    "    # Plot (plot first the uncertainties, then the points with the colorcoding indicating the time)\n",
    "    plt.errorbar(temp, rate, xerr = dtemp, yerr = drate, c = 'k', marker = 'o',\n",
    "                 label = 'data', linestyle = 'None', capsize = 5)\n",
    "\n",
    "    cm = plt.get_cmap('rainbow')\n",
    "    plt.scatter(temp, rate, c = time, cmap=cm,\n",
    "                 zorder = 1000, s= 100, linestyle = 'None', marker = 'o')\n",
    "    # plot the colorbar. Note this is in days since first dataset\n",
    "    plt.colorbar(label = 'Time since first dataset [days]')\n",
    "    \n",
    "    # Add labels\n",
    "    plt.xlabel('Temperature [$^{\\circ}$C]')\n",
    "    plt.ylabel('(uncorrected) Rate [Hz]')\n",
    "    \n",
    "    # Do a simple fit and show the best fit. This syntax may be confusing.\n",
    "    # Please ask questions if you don't understand. \n",
    "    # The most important take away message is that this shows that the rate decreases \n",
    "    # for higher temperatures.\n",
    "    fit_res = optimize.curve_fit(lin_function, temp, rate, sigma = drate)\n",
    "    plt.plot(temp, lin_function(temp, *fit_res[0]), c = 'red', label = 'linear fit')\n",
    "    print_res = ('Fit res: $a x + b$\\n' +\n",
    "                 '$a$ = %.2f +/- %.2f [Hz/${}^\\circ$C]\\n'%(fit_res[0][0], np.sqrt(fit_res[1][0][0])) +\n",
    "                 '$b$ = %.1f +/- %.1f Hz'% (fit_res[0][1], np.sqrt(fit_res[1][1][1])))\n",
    "    plt.text(np.min(temp), np.min(rate), print_res, verticalalignment = 'center')\n",
    "    plt.legend()\n",
    "plot_res()"
   ]
  }
 ],
 "metadata": {
  "kernelspec": {
   "display_name": "Python 3 (ipykernel)",
   "language": "python",
   "name": "python3"
  },
  "language_info": {
   "codemirror_mode": {
    "name": "ipython",
    "version": 3
   },
   "file_extension": ".py",
   "mimetype": "text/x-python",
   "name": "python",
   "nbconvert_exporter": "python",
   "pygments_lexer": "ipython3",
   "version": "3.10.8"
  },
  "varInspector": {
   "cols": {
    "lenName": 16,
    "lenType": 16,
    "lenVar": 40
   },
   "kernels_config": {
    "python": {
     "delete_cmd_postfix": "",
     "delete_cmd_prefix": "del ",
     "library": "var_list.py",
     "varRefreshCmd": "print(var_dic_list())"
    },
    "r": {
     "delete_cmd_postfix": ") ",
     "delete_cmd_prefix": "rm(",
     "library": "var_list.r",
     "varRefreshCmd": "cat(var_dic_list()) "
    }
   },
   "types_to_exclude": [
    "module",
    "function",
    "builtin_function_or_method",
    "instance",
    "_Feature"
   ],
   "window_display": false
  }
 },
 "nbformat": 4,
 "nbformat_minor": 4
}
