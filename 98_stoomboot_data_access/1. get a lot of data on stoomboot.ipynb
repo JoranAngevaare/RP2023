{
 "cells": [
  {
   "cell_type": "markdown",
   "metadata": {
    "pycharm": {
     "name": "#%% md\n"
    }
   },
   "source": [
    "# Getting temperature dependent data.\n",
    "\n",
    "# Not an exercise for students! \n",
    "Author:\n",
    "\n",
    "J. Angevaare // <j.angevaare@nikhef.nl> // 2020-06-11\n",
    "\n",
    "This is mostly for getting the data in the right place. May not be too interesting for the students.\n",
    "\n",
    "## Temperature calibrations:\n",
    "Dates:\n",
    "  - 2016-04-25 to\n",
    "  - 2016-05-09 \n",
    "\n",
    "and:\n",
    "  - 2016-01-07 to\n",
    "  - 2016-01-22"
   ]
  },
  {
   "cell_type": "code",
   "execution_count": 1,
   "metadata": {
    "ExecuteTime": {
     "end_time": "2023-01-09T06:31:30.799092Z",
     "start_time": "2023-01-09T06:31:30.794388Z"
    },
    "pycharm": {
     "name": "#%%\n"
    }
   },
   "outputs": [],
   "source": [
    "import socket"
   ]
  },
  {
   "cell_type": "code",
   "execution_count": 2,
   "metadata": {
    "ExecuteTime": {
     "end_time": "2023-01-09T06:31:31.691822Z",
     "start_time": "2023-01-09T06:31:31.538009Z"
    },
    "pycharm": {
     "name": "#%%\n"
    }
   },
   "outputs": [],
   "source": [
    "import os\n",
    "import numpy as np"
   ]
  },
  {
   "cell_type": "code",
   "execution_count": 3,
   "metadata": {
    "ExecuteTime": {
     "end_time": "2023-01-09T06:31:32.533415Z",
     "start_time": "2023-01-09T06:31:32.528749Z"
    },
    "pycharm": {
     "name": "#%%\n"
    }
   },
   "outputs": [],
   "source": [
    "def on_stoomboot():\n",
    "    '''Check that you can do stuff here otherwise raise an error'''\n",
    "    host = socket.gethostname()\n",
    "    if not 'nikhef' in host:\n",
    "        raise ValueError(f'You are not on stoomboot but on {host}. '\n",
    "                          'You can not do this operation! Perhaps continue below')\n",
    "        "
   ]
  },
  {
   "cell_type": "code",
   "execution_count": 4,
   "metadata": {
    "ExecuteTime": {
     "end_time": "2023-01-09T06:31:34.267861Z",
     "start_time": "2023-01-09T06:31:34.264297Z"
    },
    "pycharm": {
     "name": "#%%\n"
    }
   },
   "outputs": [],
   "source": [
    "base = '/dcache/xenon/tmons/Modulation/processed/'"
   ]
  },
  {
   "cell_type": "code",
   "execution_count": 5,
   "metadata": {
    "ExecuteTime": {
     "end_time": "2023-01-09T06:31:34.980238Z",
     "start_time": "2023-01-09T06:31:34.975968Z"
    },
    "pycharm": {
     "name": "#%%\n"
    }
   },
   "outputs": [],
   "source": [
    "all_files = []"
   ]
  },
  {
   "cell_type": "code",
   "execution_count": 6,
   "metadata": {
    "ExecuteTime": {
     "end_time": "2023-01-09T06:31:37.397993Z",
     "start_time": "2023-01-09T06:31:36.914261Z"
    },
    "pycharm": {
     "name": "#%%\n"
    }
   },
   "outputs": [
    {
     "ename": "ValueError",
     "evalue": "You are not on stoomboot but on DESKTOP-7U5FNIR. You can not do this operation! Perhaps continue below",
     "output_type": "error",
     "traceback": [
      "\u001B[0;31m---------------------------------------------------------------------------\u001B[0m",
      "\u001B[0;31mValueError\u001B[0m                                Traceback (most recent call last)",
      "Cell \u001B[0;32mIn [6], line 1\u001B[0m\n\u001B[0;32m----> 1\u001B[0m on_stoomboot()\n\u001B[1;32m      2\u001B[0m \u001B[38;5;28;01mfor\u001B[39;00m d \u001B[38;5;129;01min\u001B[39;00m \u001B[38;5;28mrange\u001B[39m(\u001B[38;5;241m7\u001B[39m,\u001B[38;5;241m23\u001B[39m):\n\u001B[1;32m      3\u001B[0m     \u001B[38;5;28;01mif\u001B[39;00m d \u001B[38;5;241m>\u001B[39m\u001B[38;5;241m=\u001B[39m \u001B[38;5;241m10\u001B[39m:\n",
      "Cell \u001B[0;32mIn [3], line 5\u001B[0m, in \u001B[0;36mon_stoomboot\u001B[0;34m()\u001B[0m\n\u001B[1;32m      3\u001B[0m host \u001B[38;5;241m=\u001B[39m socket\u001B[38;5;241m.\u001B[39mgethostname()\n\u001B[1;32m      4\u001B[0m \u001B[38;5;28;01mif\u001B[39;00m \u001B[38;5;129;01mnot\u001B[39;00m \u001B[38;5;124m'\u001B[39m\u001B[38;5;124mnikhef\u001B[39m\u001B[38;5;124m'\u001B[39m \u001B[38;5;129;01min\u001B[39;00m host:\n\u001B[0;32m----> 5\u001B[0m     \u001B[38;5;28;01mraise\u001B[39;00m \u001B[38;5;167;01mValueError\u001B[39;00m(\u001B[38;5;124mf\u001B[39m\u001B[38;5;124m'\u001B[39m\u001B[38;5;124mYou are not on stoomboot but on \u001B[39m\u001B[38;5;132;01m{\u001B[39;00mhost\u001B[38;5;132;01m}\u001B[39;00m\u001B[38;5;124m. \u001B[39m\u001B[38;5;124m'\u001B[39m\n\u001B[1;32m      6\u001B[0m                       \u001B[38;5;124m'\u001B[39m\u001B[38;5;124mYou can not do this operation! Perhaps continue below\u001B[39m\u001B[38;5;124m'\u001B[39m)\n",
      "\u001B[0;31mValueError\u001B[0m: You are not on stoomboot but on DESKTOP-7U5FNIR. You can not do this operation! Perhaps continue below"
     ]
    }
   ],
   "source": [
    "on_stoomboot()\n",
    "for d in range(7,23):\n",
    "    if d >= 10:\n",
    "        date = f'201601{d}'\n",
    "    else:\n",
    "        date = f'2016010{d}'\n",
    "    files = !ls $base | grep $date\n",
    "    all_files += files"
   ]
  },
  {
   "cell_type": "code",
   "execution_count": 7,
   "metadata": {
    "pycharm": {
     "name": "#%%\n"
    }
   },
   "outputs": [
    {
     "data": {
      "text/plain": [
       "['mx_n_20160107_1209',\n",
       " 'mx_n_20160108_1934',\n",
       " 'mx_n_20160113_1228',\n",
       " 'mx_n_20160116_0940',\n",
       " 'mx_n_20160119_0803',\n",
       " 'mx_n_20160122_1556']"
      ]
     },
     "execution_count": 7,
     "metadata": {},
     "output_type": "execute_result"
    }
   ],
   "source": [
    "all_files"
   ]
  },
  {
   "cell_type": "code",
   "execution_count": 8,
   "metadata": {
    "pycharm": {
     "name": "#%%\n"
    }
   },
   "outputs": [],
   "source": [
    "on_stoomboot()\n",
    "for d in range(25,31):\n",
    "    date = f'201604{d}'\n",
    "    files = !ls $base | grep $date\n",
    "    all_files += files"
   ]
  },
  {
   "cell_type": "code",
   "execution_count": 9,
   "metadata": {
    "pycharm": {
     "name": "#%%\n"
    }
   },
   "outputs": [
    {
     "data": {
      "text/plain": [
       "['mx_n_20160107_1209',\n",
       " 'mx_n_20160108_1934',\n",
       " 'mx_n_20160113_1228',\n",
       " 'mx_n_20160116_0940',\n",
       " 'mx_n_20160119_0803',\n",
       " 'mx_n_20160122_1556',\n",
       " 'mx_n_20160425_0752',\n",
       " 'mx_n_20160426_0736',\n",
       " 'mx_n_20160428_0755',\n",
       " 'mx_n_20160430_0840']"
      ]
     },
     "execution_count": 9,
     "metadata": {},
     "output_type": "execute_result"
    }
   ],
   "source": [
    "all_files"
   ]
  },
  {
   "cell_type": "code",
   "execution_count": 10,
   "metadata": {
    "pycharm": {
     "name": "#%%\n"
    }
   },
   "outputs": [],
   "source": [
    "on_stoomboot()\n",
    "for d in range(0,10):\n",
    "    date = f'2016050{d}'\n",
    "    files = !ls $base | grep $date\n",
    "    all_files += files"
   ]
  },
  {
   "cell_type": "code",
   "execution_count": 11,
   "metadata": {
    "pycharm": {
     "name": "#%%\n"
    }
   },
   "outputs": [
    {
     "data": {
      "text/plain": [
       "['mx_n_20160107_1209',\n",
       " 'mx_n_20160108_1934',\n",
       " 'mx_n_20160113_1228',\n",
       " 'mx_n_20160116_0940',\n",
       " 'mx_n_20160119_0803',\n",
       " 'mx_n_20160122_1556',\n",
       " 'mx_n_20160425_0752',\n",
       " 'mx_n_20160426_0736',\n",
       " 'mx_n_20160428_0755',\n",
       " 'mx_n_20160430_0840',\n",
       " 'mx_n_20160502_0752',\n",
       " 'mx_n_20160504_0846',\n",
       " 'mx_n_20160506_1521',\n",
       " 'mx_n_20160509_0805']"
      ]
     },
     "execution_count": 11,
     "metadata": {},
     "output_type": "execute_result"
    }
   ],
   "source": [
    "all_files"
   ]
  },
  {
   "cell_type": "code",
   "execution_count": 30,
   "metadata": {
    "pycharm": {
     "name": "#%%\n"
    }
   },
   "outputs": [],
   "source": [
    "first_chuncks = []\n",
    "for f in all_files:\n",
    "    p = os.path.join(base, f)\n",
    "    f = !ls $p | grep 000000\n",
    "    first_chuncks.append(os.path.join(p,f[0]))"
   ]
  },
  {
   "cell_type": "code",
   "execution_count": 13,
   "metadata": {
    "pycharm": {
     "name": "#%%\n"
    }
   },
   "outputs": [
    {
     "data": {
      "text/plain": [
       "['/dcache/xenon/tmons/Modulation/processed/mx_n_20160107_1209/mx_n_20160107_1209_000000.root',\n",
       " '/dcache/xenon/tmons/Modulation/processed/mx_n_20160108_1934/mx_n_20160108_1934_000000.root',\n",
       " '/dcache/xenon/tmons/Modulation/processed/mx_n_20160113_1228/mx_n_20160113_1228_000000.root',\n",
       " '/dcache/xenon/tmons/Modulation/processed/mx_n_20160116_0940/mx_n_20160116_0940_000000.root',\n",
       " '/dcache/xenon/tmons/Modulation/processed/mx_n_20160119_0803/mx_n_20160119_0803_000000.root',\n",
       " '/dcache/xenon/tmons/Modulation/processed/mx_n_20160122_1556/mx_n_20160122_1556_000000.root',\n",
       " '/dcache/xenon/tmons/Modulation/processed/mx_n_20160425_0752/mx_n_20160425_0752_000000.root',\n",
       " '/dcache/xenon/tmons/Modulation/processed/mx_n_20160426_0736/mx_n_20160426_0736_000000.root',\n",
       " '/dcache/xenon/tmons/Modulation/processed/mx_n_20160428_0755/mx_n_20160428_0755_000000.root',\n",
       " '/dcache/xenon/tmons/Modulation/processed/mx_n_20160430_0840/mx_n_20160430_0840_000000.root',\n",
       " '/dcache/xenon/tmons/Modulation/processed/mx_n_20160502_0752/mx_n_20160502_0752_000000.root',\n",
       " '/dcache/xenon/tmons/Modulation/processed/mx_n_20160504_0846/mx_n_20160504_0846_000000.root',\n",
       " '/dcache/xenon/tmons/Modulation/processed/mx_n_20160506_1521/mx_n_20160506_1521_000000.root',\n",
       " '/dcache/xenon/tmons/Modulation/processed/mx_n_20160509_0805/mx_n_20160509_0805_000000.root']"
      ]
     },
     "execution_count": 13,
     "metadata": {},
     "output_type": "execute_result"
    }
   ],
   "source": [
    "first_chuncks"
   ]
  },
  {
   "cell_type": "code",
   "execution_count": 27,
   "metadata": {
    "pycharm": {
     "name": "#%%\n"
    }
   },
   "outputs": [],
   "source": [
    "import pandas as pd\n",
    "import numpy as np\n",
    "import matplotlib.pyplot as plt\n",
    "from matplotlib.colors import LogNorm\n",
    "import numba\n",
    "import uproot3\n",
    "import tqdm"
   ]
  },
  {
   "cell_type": "code",
   "execution_count": 17,
   "metadata": {
    "pycharm": {
     "name": "#%%\n"
    }
   },
   "outputs": [],
   "source": [
    "file = uproot3.open(first_chuncks[0])\n",
    "tree = file['T;2']\n",
    "data = tree.pandas.df()"
   ]
  },
  {
   "cell_type": "code",
   "execution_count": 20,
   "metadata": {
    "pycharm": {
     "name": "#%%\n"
    }
   },
   "outputs": [
    {
     "data": {
      "text/html": [
       "<div>\n",
       "<style scoped>\n",
       "    .dataframe tbody tr th:only-of-type {\n",
       "        vertical-align: middle;\n",
       "    }\n",
       "\n",
       "    .dataframe tbody tr th {\n",
       "        vertical-align: top;\n",
       "    }\n",
       "\n",
       "    .dataframe thead th {\n",
       "        text-align: right;\n",
       "    }\n",
       "</style>\n",
       "<table border=\"1\" class=\"dataframe\">\n",
       "  <thead>\n",
       "    <tr style=\"text-align: right;\">\n",
       "      <th></th>\n",
       "      <th>channel</th>\n",
       "      <th>integral</th>\n",
       "      <th>time</th>\n",
       "      <th>temp</th>\n",
       "    </tr>\n",
       "    <tr>\n",
       "      <th>entry</th>\n",
       "      <th></th>\n",
       "      <th></th>\n",
       "      <th></th>\n",
       "      <th></th>\n",
       "    </tr>\n",
       "  </thead>\n",
       "  <tbody>\n",
       "    <tr>\n",
       "      <th>0</th>\n",
       "      <td>4</td>\n",
       "      <td>643.492432</td>\n",
       "      <td>3.661157e+09</td>\n",
       "      <td>28.7</td>\n",
       "    </tr>\n",
       "    <tr>\n",
       "      <th>1</th>\n",
       "      <td>1</td>\n",
       "      <td>4089.272949</td>\n",
       "      <td>3.661157e+09</td>\n",
       "      <td>28.7</td>\n",
       "    </tr>\n",
       "    <tr>\n",
       "      <th>2</th>\n",
       "      <td>7</td>\n",
       "      <td>647.649597</td>\n",
       "      <td>3.661157e+09</td>\n",
       "      <td>28.7</td>\n",
       "    </tr>\n",
       "    <tr>\n",
       "      <th>3</th>\n",
       "      <td>1</td>\n",
       "      <td>502.088806</td>\n",
       "      <td>3.661157e+09</td>\n",
       "      <td>28.7</td>\n",
       "    </tr>\n",
       "    <tr>\n",
       "      <th>4</th>\n",
       "      <td>2</td>\n",
       "      <td>682.318359</td>\n",
       "      <td>3.661157e+09</td>\n",
       "      <td>28.7</td>\n",
       "    </tr>\n",
       "    <tr>\n",
       "      <th>...</th>\n",
       "      <td>...</td>\n",
       "      <td>...</td>\n",
       "      <td>...</td>\n",
       "      <td>...</td>\n",
       "    </tr>\n",
       "    <tr>\n",
       "      <th>3559521</th>\n",
       "      <td>6</td>\n",
       "      <td>486.438202</td>\n",
       "      <td>3.661159e+09</td>\n",
       "      <td>28.7</td>\n",
       "    </tr>\n",
       "    <tr>\n",
       "      <th>3559522</th>\n",
       "      <td>2</td>\n",
       "      <td>503.663025</td>\n",
       "      <td>3.661159e+09</td>\n",
       "      <td>28.7</td>\n",
       "    </tr>\n",
       "    <tr>\n",
       "      <th>3559523</th>\n",
       "      <td>3</td>\n",
       "      <td>507.591431</td>\n",
       "      <td>3.661159e+09</td>\n",
       "      <td>28.7</td>\n",
       "    </tr>\n",
       "    <tr>\n",
       "      <th>3559524</th>\n",
       "      <td>5</td>\n",
       "      <td>864.327820</td>\n",
       "      <td>3.661159e+09</td>\n",
       "      <td>28.7</td>\n",
       "    </tr>\n",
       "    <tr>\n",
       "      <th>3559525</th>\n",
       "      <td>3</td>\n",
       "      <td>890.603699</td>\n",
       "      <td>3.661159e+09</td>\n",
       "      <td>28.7</td>\n",
       "    </tr>\n",
       "  </tbody>\n",
       "</table>\n",
       "<p>3559526 rows × 4 columns</p>\n",
       "</div>"
      ],
      "text/plain": [
       "         channel     integral          time  temp\n",
       "entry                                            \n",
       "0              4   643.492432  3.661157e+09  28.7\n",
       "1              1  4089.272949  3.661157e+09  28.7\n",
       "2              7   647.649597  3.661157e+09  28.7\n",
       "3              1   502.088806  3.661157e+09  28.7\n",
       "4              2   682.318359  3.661157e+09  28.7\n",
       "...          ...          ...           ...   ...\n",
       "3559521        6   486.438202  3.661159e+09  28.7\n",
       "3559522        2   503.663025  3.661159e+09  28.7\n",
       "3559523        3   507.591431  3.661159e+09  28.7\n",
       "3559524        5   864.327820  3.661159e+09  28.7\n",
       "3559525        3   890.603699  3.661159e+09  28.7\n",
       "\n",
       "[3559526 rows x 4 columns]"
      ]
     },
     "execution_count": 20,
     "metadata": {},
     "output_type": "execute_result"
    }
   ],
   "source": [
    "data[['channel', 'integral','time', 'temp']]"
   ]
  },
  {
   "cell_type": "code",
   "execution_count": 21,
   "metadata": {
    "pycharm": {
     "name": "#%%\n"
    }
   },
   "outputs": [],
   "source": [
    "!mkdir ../data/temperature"
   ]
  },
  {
   "cell_type": "code",
   "execution_count": 46,
   "metadata": {
    "pycharm": {
     "name": "#%%\n"
    }
   },
   "outputs": [
    {
     "name": "stderr",
     "output_type": "stream",
     "text": [
      "\r",
      "  0%|          | 0/14 [00:00<?, ?it/s]"
     ]
    },
    {
     "name": "stdout",
     "output_type": "stream",
     "text": [
      "mx_n_20160107_1209_000000\tT = 28.70580900378319 +/- 0.023391362793922142\n"
     ]
    },
    {
     "name": "stderr",
     "output_type": "stream",
     "text": [
      "\r",
      "  7%|▋         | 1/14 [00:04<00:58,  4.49s/it]"
     ]
    },
    {
     "name": "stdout",
     "output_type": "stream",
     "text": [
      "mx_n_20160108_1934_000000\tT = 23.494752756406317 +/- 0.02229777554007703\n"
     ]
    },
    {
     "name": "stderr",
     "output_type": "stream",
     "text": [
      "\r",
      " 14%|█▍        | 2/14 [00:08<00:53,  4.42s/it]"
     ]
    },
    {
     "name": "stdout",
     "output_type": "stream",
     "text": [
      "mx_n_20160113_1228_000000\tT = 22.912019605981104 +/- 0.032519066256278206\n"
     ]
    },
    {
     "name": "stderr",
     "output_type": "stream",
     "text": [
      "\r",
      " 21%|██▏       | 3/14 [00:13<00:48,  4.38s/it]"
     ]
    },
    {
     "name": "stdout",
     "output_type": "stream",
     "text": [
      "mx_n_20160116_0940_000000\tT = 27.399176482286723 +/- 0.009037344183018648\n"
     ]
    },
    {
     "name": "stderr",
     "output_type": "stream",
     "text": [
      "\r",
      " 29%|██▊       | 4/14 [00:17<00:44,  4.44s/it]"
     ]
    },
    {
     "name": "stdout",
     "output_type": "stream",
     "text": [
      "mx_n_20160119_0803_000000\tT = 29.5 +/- 0.0\n"
     ]
    },
    {
     "name": "stderr",
     "output_type": "stream",
     "text": [
      "\r",
      " 36%|███▌      | 5/14 [00:21<00:39,  4.42s/it]"
     ]
    },
    {
     "name": "stdout",
     "output_type": "stream",
     "text": [
      "mx_n_20160122_1556_000000\tT = 32.282882140646066 +/- 0.03766649474709884\n"
     ]
    },
    {
     "name": "stderr",
     "output_type": "stream",
     "text": [
      "\r",
      " 43%|████▎     | 6/14 [00:26<00:35,  4.39s/it]"
     ]
    },
    {
     "name": "stdout",
     "output_type": "stream",
     "text": [
      "mx_n_20160425_0752_000000\tT = 28.5 +/- 0.0\n"
     ]
    },
    {
     "name": "stderr",
     "output_type": "stream",
     "text": [
      "\r",
      " 50%|█████     | 7/14 [00:30<00:30,  4.36s/it]"
     ]
    },
    {
     "name": "stdout",
     "output_type": "stream",
     "text": [
      "mx_n_20160426_0736_000000\tT = 32.20000000000022 +/- 2.2026824808563106e-13\n"
     ]
    },
    {
     "name": "stderr",
     "output_type": "stream",
     "text": [
      "\r",
      " 57%|█████▋    | 8/14 [00:34<00:25,  4.32s/it]"
     ]
    },
    {
     "name": "stdout",
     "output_type": "stream",
     "text": [
      "mx_n_20160428_0755_000000\tT = 32.5 +/- 0.0\n"
     ]
    },
    {
     "name": "stderr",
     "output_type": "stream",
     "text": [
      "\r",
      " 64%|██████▍   | 9/14 [00:39<00:21,  4.39s/it]"
     ]
    },
    {
     "name": "stdout",
     "output_type": "stream",
     "text": [
      "mx_n_20160430_0840_000000\tT = 31.100000000000236 +/- 2.3447910280083306e-13\n"
     ]
    },
    {
     "name": "stderr",
     "output_type": "stream",
     "text": [
      "\r",
      " 71%|███████▏  | 10/14 [00:43<00:17,  4.33s/it]"
     ]
    },
    {
     "name": "stdout",
     "output_type": "stream",
     "text": [
      "mx_n_20160502_0752_000000\tT = 29.799999999999812 +/- 1.8829382497642655e-13\n"
     ]
    },
    {
     "name": "stderr",
     "output_type": "stream",
     "text": [
      "\r",
      " 79%|███████▊  | 11/14 [00:47<00:12,  4.31s/it]"
     ]
    },
    {
     "name": "stdout",
     "output_type": "stream",
     "text": [
      "mx_n_20160504_0846_000000\tT = 28.39496894919375 +/- 0.021858490533177424\n"
     ]
    },
    {
     "name": "stderr",
     "output_type": "stream",
     "text": [
      "\r",
      " 86%|████████▌ | 12/14 [00:52<00:08,  4.31s/it]"
     ]
    },
    {
     "name": "stdout",
     "output_type": "stream",
     "text": [
      "mx_n_20160506_1521_000000\tT = 27.375153624803488 +/- 0.0432122107653618\n"
     ]
    },
    {
     "name": "stderr",
     "output_type": "stream",
     "text": [
      "\r",
      " 93%|█████████▎| 13/14 [00:56<00:04,  4.38s/it]"
     ]
    },
    {
     "name": "stdout",
     "output_type": "stream",
     "text": [
      "mx_n_20160509_0805_000000\tT = 23.0 +/- 0.0\n"
     ]
    },
    {
     "name": "stderr",
     "output_type": "stream",
     "text": [
      "100%|██████████| 14/14 [01:00<00:00,  4.35s/it]\n"
     ]
    }
   ],
   "source": [
    "sources = {'bg':[0,1], \n",
    "           'ti44':[2,3], \n",
    "           'co60':[4,5], \n",
    "           'cs137':[6,7]}\n",
    "store_columns = ['channel', 'integral','time', 'temp']\n",
    "for root_file in tqdm.tqdm(first_chuncks):\n",
    "    if not '.root' in root_file:\n",
    "        # This is not a rootfile\n",
    "        continue\n",
    "    else:\n",
    "        name = root_file.split('/')[-1].split('.root')[0]\n",
    "    file = uproot.open(root_file)\n",
    "    tree = file['T;2']\n",
    "    data = tree.pandas.df()\n",
    "    print(f'{name}\\tT = {np.mean(data[\"temp\"])} +/- {np.std(data[\"temp\"])}')\n",
    "    for source, channels in sources.items():\n",
    "        mask = ( \n",
    "            (data['channel'] == channels[0] ) | (data['channel'] == channels[1] ) \n",
    "            & (data['istestpulse'] == 0) \n",
    "            & (data['error'] == 0) \n",
    "        )\n",
    "        save_dir = f'../data/temperature/{source}'\n",
    "        if not os.path.exists(save_dir):\n",
    "            os.mkdir(save_dir)\n",
    "        save_name = f'{save_dir}/{source}_{name}.zip'\n",
    "#         data['tot_time'] = data['time'].max() - data['time'].min()\n",
    "#         data['dtemp'] = np.std(data['temp'])\n",
    "#         data['temp'] = np.mean(data['temp'])\n",
    "        data[mask][store_columns].to_parquet(save_name,index=False)\n",
    "    # Double check that we free up memory\n",
    "    del data, mask"
   ]
  },
  {
   "cell_type": "markdown",
   "metadata": {
    "pycharm": {
     "name": "#%% md\n"
    }
   },
   "source": [
    "# Alright let's continue to 7.) we are done here"
   ]
  }
 ],
 "metadata": {
  "kernelspec": {
   "display_name": "Python 3 (ipykernel)",
   "language": "python",
   "name": "python3"
  },
  "language_info": {
   "codemirror_mode": {
    "name": "ipython",
    "version": 3
   },
   "file_extension": ".py",
   "mimetype": "text/x-python",
   "name": "python",
   "nbconvert_exporter": "python",
   "pygments_lexer": "ipython3",
   "version": "3.10.8"
  },
  "varInspector": {
   "cols": {
    "lenName": 16,
    "lenType": 16,
    "lenVar": 40
   },
   "kernels_config": {
    "python": {
     "delete_cmd_postfix": "",
     "delete_cmd_prefix": "del ",
     "library": "var_list.py",
     "varRefreshCmd": "print(var_dic_list())"
    },
    "r": {
     "delete_cmd_postfix": ") ",
     "delete_cmd_prefix": "rm(",
     "library": "var_list.r",
     "varRefreshCmd": "cat(var_dic_list()) "
    }
   },
   "types_to_exclude": [
    "module",
    "function",
    "builtin_function_or_method",
    "instance",
    "_Feature"
   ],
   "window_display": false
  }
 },
 "nbformat": 4,
 "nbformat_minor": 4
}