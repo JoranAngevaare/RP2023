{
 "cells": [
  {
   "cell_type": "markdown",
   "metadata": {
    "pycharm": {
     "name": "#%% md\n"
    }
   },
   "source": [
    "# Utilities\n",
    "Author:\n",
    "\n",
    "J. Angevaare // <j.angevaare@nikhef.nl> // 2020-06-05\n",
    "\n",
    "\n"
   ]
  },
  {
   "cell_type": "markdown",
   "metadata": {
    "pycharm": {
     "name": "#%% md\n"
    }
   },
   "source": [
    "## Useful tools for analyses\n",
    "In this notebook we will learn how to:\n",
    "  - Fit\n",
    "  - Do basic pandas operations"
   ]
  },
  {
   "cell_type": "code",
   "execution_count": 1,
   "metadata": {
    "ExecuteTime": {
     "end_time": "2023-01-09T06:31:30.136953Z",
     "start_time": "2023-01-09T06:31:28.693433Z"
    },
    "pycharm": {
     "name": "#%%\n"
    }
   },
   "outputs": [],
   "source": [
    "import numpy as np\n",
    "import pandas as pd\n",
    "from scipy.optimize import curve_fit\n",
    "import matplotlib.pyplot as plt"
   ]
  },
  {
   "cell_type": "markdown",
   "metadata": {
    "pycharm": {
     "name": "#%% md\n"
    }
   },
   "source": [
    "### Fitting"
   ]
  },
  {
   "cell_type": "markdown",
   "metadata": {
    "pycharm": {
     "name": "#%% md\n"
    }
   },
   "source": [
    "Let's first make some data and then fit it"
   ]
  },
  {
   "cell_type": "code",
   "execution_count": 2,
   "metadata": {
    "ExecuteTime": {
     "end_time": "2023-01-09T06:31:30.157371Z",
     "start_time": "2023-01-09T06:31:30.140325Z"
    },
    "pycharm": {
     "name": "#%%\n"
    }
   },
   "outputs": [
    {
     "data": {
      "text/html": [
       "<div>\n",
       "<style scoped>\n",
       "    .dataframe tbody tr th:only-of-type {\n",
       "        vertical-align: middle;\n",
       "    }\n",
       "\n",
       "    .dataframe tbody tr th {\n",
       "        vertical-align: top;\n",
       "    }\n",
       "\n",
       "    .dataframe thead th {\n",
       "        text-align: right;\n",
       "    }\n",
       "</style>\n",
       "<table border=\"1\" class=\"dataframe\">\n",
       "  <thead>\n",
       "    <tr style=\"text-align: right;\">\n",
       "      <th></th>\n",
       "      <th>x</th>\n",
       "      <th>y</th>\n",
       "    </tr>\n",
       "  </thead>\n",
       "  <tbody>\n",
       "    <tr>\n",
       "      <th>0</th>\n",
       "      <td>0.0</td>\n",
       "      <td>0.0</td>\n",
       "    </tr>\n",
       "    <tr>\n",
       "      <th>1</th>\n",
       "      <td>1.0</td>\n",
       "      <td>2.0</td>\n",
       "    </tr>\n",
       "    <tr>\n",
       "      <th>2</th>\n",
       "      <td>2.0</td>\n",
       "      <td>4.0</td>\n",
       "    </tr>\n",
       "    <tr>\n",
       "      <th>3</th>\n",
       "      <td>3.0</td>\n",
       "      <td>6.0</td>\n",
       "    </tr>\n",
       "    <tr>\n",
       "      <th>4</th>\n",
       "      <td>4.0</td>\n",
       "      <td>8.0</td>\n",
       "    </tr>\n",
       "    <tr>\n",
       "      <th>5</th>\n",
       "      <td>5.0</td>\n",
       "      <td>10.0</td>\n",
       "    </tr>\n",
       "    <tr>\n",
       "      <th>6</th>\n",
       "      <td>6.0</td>\n",
       "      <td>12.0</td>\n",
       "    </tr>\n",
       "    <tr>\n",
       "      <th>7</th>\n",
       "      <td>7.0</td>\n",
       "      <td>14.0</td>\n",
       "    </tr>\n",
       "    <tr>\n",
       "      <th>8</th>\n",
       "      <td>8.0</td>\n",
       "      <td>16.0</td>\n",
       "    </tr>\n",
       "    <tr>\n",
       "      <th>9</th>\n",
       "      <td>9.0</td>\n",
       "      <td>18.0</td>\n",
       "    </tr>\n",
       "    <tr>\n",
       "      <th>10</th>\n",
       "      <td>10.0</td>\n",
       "      <td>20.0</td>\n",
       "    </tr>\n",
       "  </tbody>\n",
       "</table>\n",
       "</div>"
      ],
      "text/plain": [
       "       x     y\n",
       "0    0.0   0.0\n",
       "1    1.0   2.0\n",
       "2    2.0   4.0\n",
       "3    3.0   6.0\n",
       "4    4.0   8.0\n",
       "5    5.0  10.0\n",
       "6    6.0  12.0\n",
       "7    7.0  14.0\n",
       "8    8.0  16.0\n",
       "9    9.0  18.0\n",
       "10  10.0  20.0"
      ]
     },
     "execution_count": 2,
     "metadata": {},
     "output_type": "execute_result"
    }
   ],
   "source": [
    "lin_data = {'x':np.linspace(0,10,11), \n",
    "            'y':np.linspace(0,20,11)}\n",
    "lin_data = pd.DataFrame(lin_data)\n",
    "lin_data"
   ]
  },
  {
   "cell_type": "code",
   "execution_count": 3,
   "metadata": {
    "ExecuteTime": {
     "end_time": "2023-01-09T06:31:30.375859Z",
     "start_time": "2023-01-09T06:31:30.159327Z"
    },
    "pycharm": {
     "name": "#%%\n"
    }
   },
   "outputs": [
    {
     "data": {
      "text/plain": [
       "Text(0, 0.5, 'y')"
      ]
     },
     "execution_count": 3,
     "metadata": {},
     "output_type": "execute_result"
    },
    {
     "data": {
      "image/png": "[encoded data removed]",
      "text/plain": [
       "<Figure size 640x480 with 1 Axes>"
      ]
     },
     "metadata": {},
     "output_type": "display_data"
    }
   ],
   "source": [
    "# Great let's plot this\n",
    "plt.scatter(lin_data['x'], lin_data['y'])\n",
    "plt.xlabel('x')\n",
    "plt.ylabel('y')"
   ]
  },
  {
   "cell_type": "markdown",
   "metadata": {
    "pycharm": {
     "name": "#%% md\n"
    }
   },
   "source": [
    "Alright that's quite boring, lets add some randomness to this data"
   ]
  },
  {
   "cell_type": "code",
   "execution_count": 4,
   "metadata": {
    "ExecuteTime": {
     "end_time": "2023-01-09T06:31:30.390285Z",
     "start_time": "2023-01-09T06:31:30.377925Z"
    },
    "pycharm": {
     "name": "#%%\n"
    }
   },
   "outputs": [
    {
     "data": {
      "text/html": [
       "<div>\n",
       "<style scoped>\n",
       "    .dataframe tbody tr th:only-of-type {\n",
       "        vertical-align: middle;\n",
       "    }\n",
       "\n",
       "    .dataframe tbody tr th {\n",
       "        vertical-align: top;\n",
       "    }\n",
       "\n",
       "    .dataframe thead th {\n",
       "        text-align: right;\n",
       "    }\n",
       "</style>\n",
       "<table border=\"1\" class=\"dataframe\">\n",
       "  <thead>\n",
       "    <tr style=\"text-align: right;\">\n",
       "      <th></th>\n",
       "      <th>x</th>\n",
       "      <th>y</th>\n",
       "    </tr>\n",
       "  </thead>\n",
       "  <tbody>\n",
       "    <tr>\n",
       "      <th>0</th>\n",
       "      <td>0.0</td>\n",
       "      <td>-0.928892</td>\n",
       "    </tr>\n",
       "    <tr>\n",
       "      <th>1</th>\n",
       "      <td>1.0</td>\n",
       "      <td>2.833502</td>\n",
       "    </tr>\n",
       "    <tr>\n",
       "      <th>2</th>\n",
       "      <td>2.0</td>\n",
       "      <td>3.153316</td>\n",
       "    </tr>\n",
       "    <tr>\n",
       "      <th>3</th>\n",
       "      <td>3.0</td>\n",
       "      <td>5.467109</td>\n",
       "    </tr>\n",
       "    <tr>\n",
       "      <th>4</th>\n",
       "      <td>4.0</td>\n",
       "      <td>8.742635</td>\n",
       "    </tr>\n",
       "    <tr>\n",
       "      <th>5</th>\n",
       "      <td>5.0</td>\n",
       "      <td>10.899041</td>\n",
       "    </tr>\n",
       "    <tr>\n",
       "      <th>6</th>\n",
       "      <td>6.0</td>\n",
       "      <td>12.886468</td>\n",
       "    </tr>\n",
       "    <tr>\n",
       "      <th>7</th>\n",
       "      <td>7.0</td>\n",
       "      <td>14.003842</td>\n",
       "    </tr>\n",
       "    <tr>\n",
       "      <th>8</th>\n",
       "      <td>8.0</td>\n",
       "      <td>16.475030</td>\n",
       "    </tr>\n",
       "    <tr>\n",
       "      <th>9</th>\n",
       "      <td>9.0</td>\n",
       "      <td>17.711309</td>\n",
       "    </tr>\n",
       "    <tr>\n",
       "      <th>10</th>\n",
       "      <td>10.0</td>\n",
       "      <td>20.072908</td>\n",
       "    </tr>\n",
       "  </tbody>\n",
       "</table>\n",
       "</div>"
      ],
      "text/plain": [
       "       x          y\n",
       "0    0.0  -0.928892\n",
       "1    1.0   2.833502\n",
       "2    2.0   3.153316\n",
       "3    3.0   5.467109\n",
       "4    4.0   8.742635\n",
       "5    5.0  10.899041\n",
       "6    6.0  12.886468\n",
       "7    7.0  14.003842\n",
       "8    8.0  16.475030\n",
       "9    9.0  17.711309\n",
       "10  10.0  20.072908"
      ]
     },
     "execution_count": 4,
     "metadata": {},
     "output_type": "execute_result"
    }
   ],
   "source": [
    "# Make a new dataframe\n",
    "lin_data_rand = pd.DataFrame()\n",
    "# keep x the same\n",
    "lin_data_rand['x'] = lin_data['x']\n",
    "# change y values by adding random_gitter\n",
    "random_gitter = ( 2 * np.random.random(size = len(lin_data)) - 1)\n",
    "lin_data_rand['y'] = lin_data['y'] + random_gitter\n",
    "lin_data_rand"
   ]
  },
  {
   "cell_type": "code",
   "execution_count": 5,
   "metadata": {
    "ExecuteTime": {
     "end_time": "2023-01-09T06:31:30.399292Z",
     "start_time": "2023-01-09T06:31:30.392336Z"
    },
    "pycharm": {
     "name": "#%%\n"
    }
   },
   "outputs": [
    {
     "data": {
      "text/plain": [
       "array([-0.92889164,  0.83350178, -0.84668422, -0.53289062,  0.74263452,\n",
       "        0.89904066,  0.88646846,  0.0038418 ,  0.47503029, -0.28869116,\n",
       "        0.07290772])"
      ]
     },
     "execution_count": 5,
     "metadata": {},
     "output_type": "execute_result"
    }
   ],
   "source": [
    "# Maybe good to know the random gitter is in the interval [-1,1]\n",
    "random_gitter"
   ]
  },
  {
   "cell_type": "code",
   "execution_count": 6,
   "metadata": {
    "ExecuteTime": {
     "end_time": "2023-01-09T06:31:30.591520Z",
     "start_time": "2023-01-09T06:31:30.401457Z"
    },
    "pycharm": {
     "name": "#%%\n"
    }
   },
   "outputs": [
    {
     "data": {
      "image/png": "[encoded data removed]",
      "text/plain": [
       "<Figure size 640x480 with 1 Axes>"
      ]
     },
     "metadata": {},
     "output_type": "display_data"
    }
   ],
   "source": [
    "# Let's plot this randomized data and compare it to the other dataset\n",
    "# Great let's plot this boring set\n",
    "plt.scatter(lin_data['x'], lin_data['y'], label = 'linear')\n",
    "plt.plot(lin_data['x'], lin_data['y'], label = 'linear')\n",
    "# Great let's plot this randomized dataset\n",
    "plt.scatter(lin_data_rand['x'], lin_data_rand['y'], label = 'linear + randomness')\n",
    "plt.xlabel('x')\n",
    "plt.ylabel('y')\n",
    "plt.legend();"
   ]
  },
  {
   "cell_type": "markdown",
   "metadata": {
    "pycharm": {
     "name": "#%% md\n"
    }
   },
   "source": [
    "Great we see indeed that the data is somewhat random compared to the previous dataset "
   ]
  },
  {
   "cell_type": "markdown",
   "metadata": {
    "pycharm": {
     "name": "#%% md\n"
    }
   },
   "source": [
    "# Fitting\n",
    "Let's fit the function above"
   ]
  },
  {
   "cell_type": "code",
   "execution_count": 7,
   "metadata": {
    "ExecuteTime": {
     "end_time": "2023-01-09T06:31:30.600443Z",
     "start_time": "2023-01-09T06:31:30.596494Z"
    },
    "pycharm": {
     "name": "#%%\n"
    }
   },
   "outputs": [],
   "source": [
    "def linear_function(x, a, b):\n",
    "    \"\"\"Function y = a * x + b\"\"\"\n",
    "    return a * x + b"
   ]
  },
  {
   "cell_type": "markdown",
   "metadata": {
    "pycharm": {
     "name": "#%% md\n"
    }
   },
   "source": [
    "This example is rather dull since we already know that the correct answer is that: \n",
    "    - a = 2\n",
    "    - b = 0\n",
    "   \n",
    "for the set above (you can also see by eye easily)"
   ]
  },
  {
   "cell_type": "code",
   "execution_count": 8,
   "metadata": {
    "ExecuteTime": {
     "end_time": "2023-01-09T06:31:30.611643Z",
     "start_time": "2023-01-09T06:31:30.602627Z"
    },
    "pycharm": {
     "name": "#%%\n"
    }
   },
   "outputs": [],
   "source": [
    "# plot that this is true"
   ]
  },
  {
   "cell_type": "code",
   "execution_count": 9,
   "metadata": {
    "ExecuteTime": {
     "end_time": "2023-01-09T06:31:30.816453Z",
     "start_time": "2023-01-09T06:31:30.613790Z"
    },
    "pycharm": {
     "name": "#%%\n"
    }
   },
   "outputs": [
    {
     "data": {
      "image/png": "[encoded data removed]",
      "text/plain": [
       "<Figure size 640x480 with 1 Axes>"
      ]
     },
     "metadata": {},
     "output_type": "display_data"
    }
   ],
   "source": [
    "x = lin_data_rand['x']\n",
    "plt.plot(x, linear_function(x, 2, 0), label = 'my guess')\n",
    "plt.scatter(lin_data_rand['x'], lin_data_rand['y'], label = 'linear + randomness')\n",
    "plt.xlabel('x')\n",
    "plt.ylabel('y')\n",
    "plt.legend();"
   ]
  },
  {
   "cell_type": "code",
   "execution_count": 10,
   "metadata": {
    "ExecuteTime": {
     "end_time": "2023-01-09T06:31:30.914942Z",
     "start_time": "2023-01-09T06:31:30.819415Z"
    },
    "pycharm": {
     "name": "#%%\n"
    }
   },
   "outputs": [],
   "source": [
    "# First, read the documentation:\n",
    "??curve_fit"
   ]
  },
  {
   "cell_type": "code",
   "execution_count": 11,
   "metadata": {
    "ExecuteTime": {
     "end_time": "2023-01-09T06:31:30.934378Z",
     "start_time": "2023-01-09T06:31:30.918187Z"
    },
    "pycharm": {
     "name": "#%%\n"
    }
   },
   "outputs": [],
   "source": [
    "# Do a fit\n",
    "fit_res = curve_fit(\n",
    "    linear_function, # Function without ()!\n",
    "    lin_data_rand['x'], # x data\n",
    "    lin_data_rand['y'], # y data\n",
    "    p0 = [2,0], # My guess for [a,b]. NB: make sure the order is function(x, a, b) that order should match here!\n",
    "    sigma = None, # Here I could add some errors on y to take into account for fitting but I have none at the moment\n",
    "    )"
   ]
  },
  {
   "cell_type": "code",
   "execution_count": 12,
   "metadata": {
    "ExecuteTime": {
     "end_time": "2023-01-09T06:31:30.944186Z",
     "start_time": "2023-01-09T06:31:30.937695Z"
    },
    "pycharm": {
     "name": "#%%\n"
    }
   },
   "outputs": [],
   "source": [
    "# Alright lets have a look at what fit_res looks like"
   ]
  },
  {
   "cell_type": "code",
   "execution_count": 13,
   "metadata": {
    "ExecuteTime": {
     "end_time": "2023-01-09T06:31:30.955935Z",
     "start_time": "2023-01-09T06:31:30.948522Z"
    },
    "pycharm": {
     "name": "#%%\n"
    }
   },
   "outputs": [
    {
     "data": {
      "text/plain": [
       "(array([ 2.05184243, -0.13955146]),\n",
       " array([[ 0.00461132, -0.02305659],\n",
       "        [-0.02305659,  0.16139608]]))"
      ]
     },
     "execution_count": 13,
     "metadata": {},
     "output_type": "execute_result"
    }
   ],
   "source": [
    "fit_res"
   ]
  },
  {
   "cell_type": "code",
   "execution_count": 14,
   "metadata": {
    "ExecuteTime": {
     "end_time": "2023-01-09T06:31:30.965259Z",
     "start_time": "2023-01-09T06:31:30.958114Z"
    },
    "pycharm": {
     "name": "#%%\n"
    }
   },
   "outputs": [
    {
     "name": "stdout",
     "output_type": "stream",
     "text": [
      "Fit results [a, b] = [ 2.05184243 -0.13955146]\n",
      "Covariance matrix =\n",
      " [[ 0.00461132 -0.02305659]\n",
      " [-0.02305659  0.16139608]]\n"
     ]
    }
   ],
   "source": [
    "# What is this????\n",
    "print(f'Fit results [a, b] = {fit_res[0]}\\nCovariance matrix =\\n {fit_res[1]}')"
   ]
  },
  {
   "cell_type": "code",
   "execution_count": 15,
   "metadata": {
    "ExecuteTime": {
     "end_time": "2023-01-09T06:31:30.975366Z",
     "start_time": "2023-01-09T06:31:30.967841Z"
    },
    "pycharm": {
     "name": "#%%\n"
    }
   },
   "outputs": [
    {
     "name": "stdout",
     "output_type": "stream",
     "text": [
      "Fitted value for a = 2.05 +/- 0.07\n"
     ]
    }
   ],
   "source": [
    "# So for the error on x and y we can do:\n",
    "a_fit = fit_res[0][0]\n",
    "a_fit_variance = fit_res[1][0][0]\n",
    "a_fit_err = np.sqrt(a_fit_variance)\n",
    "print(f'Fitted value for a = %.2f +/- %.2f'%(a_fit, a_fit_err))"
   ]
  },
  {
   "cell_type": "code",
   "execution_count": 16,
   "metadata": {
    "ExecuteTime": {
     "end_time": "2023-01-09T06:31:30.985368Z",
     "start_time": "2023-01-09T06:31:30.979657Z"
    },
    "pycharm": {
     "name": "#%%\n"
    }
   },
   "outputs": [
    {
     "name": "stdout",
     "output_type": "stream",
     "text": [
      "Fitted value for b = -0.14 +/- 0.07\n"
     ]
    }
   ],
   "source": [
    "# for b we can do the same (only we need the second entry, ergo index 1\n",
    "# So for the error on x and y we can do:\n",
    "b_fit = fit_res[0][1]\n",
    "b_fit_variance = fit_res[1][1][1]\n",
    "b_fit_err = np.sqrt(a_fit_variance)\n",
    "print(f'Fitted value for b = %.2f +/- %.2f'%(b_fit, b_fit_err))"
   ]
  },
  {
   "cell_type": "code",
   "execution_count": 17,
   "metadata": {
    "ExecuteTime": {
     "end_time": "2023-01-09T06:31:31.214692Z",
     "start_time": "2023-01-09T06:31:30.987814Z"
    },
    "pycharm": {
     "name": "#%%\n"
    }
   },
   "outputs": [
    {
     "data": {
      "image/png": "[encoded data removed]",
      "text/plain": [
       "<Figure size 640x480 with 1 Axes>"
      ]
     },
     "metadata": {},
     "output_type": "display_data"
    }
   ],
   "source": [
    "# For completeness let's compare our guess to the data:\n",
    "# You see the two verlap perfectly (phew!)\n",
    "plt.plot(x, linear_function(x, 2, 0), label = 'my guess')\n",
    "plt.plot(x, linear_function(x, a_fit, b_fit), linestyle = '--', label = 'fit_res')\n",
    "# plt.scatter(lin_data_rand['x'], lin_data_rand['y'], label = 'linear + randomness')\n",
    "plt.xlabel('x')\n",
    "plt.ylabel('y')\n",
    "plt.legend();"
   ]
  },
  {
   "cell_type": "code",
   "execution_count": 18,
   "metadata": {
    "ExecuteTime": {
     "end_time": "2023-01-09T06:31:31.420575Z",
     "start_time": "2023-01-09T06:31:31.217505Z"
    },
    "pycharm": {
     "name": "#%%\n"
    }
   },
   "outputs": [
    {
     "data": {
      "image/png": "[encoded data removed]",
      "text/plain": [
       "<Figure size 640x480 with 1 Axes>"
      ]
     },
     "metadata": {},
     "output_type": "display_data"
    }
   ],
   "source": [
    "# If you are not convinced we can also subtract the one by the other:\n",
    "# For completeness let's compare our guess to the data:\n",
    "# You see the two verlap perfectly (phew!)\n",
    "subtract = linear_function(x, a_fit, b_fit)\n",
    "plt.plot(x, linear_function(x, 2, 0) - subtract, label = 'my guess - fit')\n",
    "# The line below should be at 0 (since we subtract it with its own values)\n",
    "plt.plot(x, linear_function(x, a_fit, b_fit) - subtract, linestyle = '--', label = 'fit_res - fit')\n",
    "plt.scatter(lin_data_rand['x'], lin_data_rand['y'] - subtract, label = 'linear + randomness - fit')\n",
    "plt.xlabel('x')\n",
    "plt.ylabel('y')\n",
    "plt.legend();"
   ]
  },
  {
   "cell_type": "code",
   "execution_count": 19,
   "metadata": {
    "ExecuteTime": {
     "end_time": "2023-01-09T06:31:31.427306Z",
     "start_time": "2023-01-09T06:31:31.422800Z"
    },
    "pycharm": {
     "name": "#%%\n"
    }
   },
   "outputs": [],
   "source": [
    "# we can also fit a polynomal of order 2:\n",
    "def parabolic_function(x, a, b, c):\n",
    "    \"\"\"Function y = a * x^2 + b * x + c\"\"\"\n",
    "    return a * (x**2) + b * x + c"
   ]
  },
  {
   "cell_type": "code",
   "execution_count": 20,
   "metadata": {
    "ExecuteTime": {
     "end_time": "2023-01-09T06:31:31.443078Z",
     "start_time": "2023-01-09T06:31:31.430047Z"
    },
    "pycharm": {
     "name": "#%%\n"
    }
   },
   "outputs": [
    {
     "name": "stdout",
     "output_type": "stream",
     "text": [
      "You can have a look at the covariance matrix yourself. The best fit parameters [a,b,c] are [-0.03458891  2.39773149 -0.65838506]\n"
     ]
    }
   ],
   "source": [
    "# Do a fit\n",
    "fit_res_parabole = curve_fit(\n",
    "    parabolic_function, # Function without ()!\n",
    "    lin_data_rand['x'], # x data\n",
    "    lin_data_rand['y'], # y data\n",
    "    p0 = [0, 2, 0], # My guess for [a,b, c]. NB: make sure the order is function(x, a, b, c) that order should match here!\n",
    "    sigma = None, # Here I could add some errors on y to take into account for fitting but I have none at the moment\n",
    "    )\n",
    "print(f'You can have a look at the covariance matrix yourself. The best fit parameters [a,b,c] are {fit_res_parabole[0]}')"
   ]
  },
  {
   "cell_type": "code",
   "execution_count": 21,
   "metadata": {
    "ExecuteTime": {
     "end_time": "2023-01-09T06:31:31.614617Z",
     "start_time": "2023-01-09T06:31:31.445348Z"
    },
    "pycharm": {
     "name": "#%%\n"
    }
   },
   "outputs": [
    {
     "data": {
      "image/png": "[encoded data removed]",
      "text/plain": [
       "<Figure size 640x480 with 1 Axes>"
      ]
     },
     "metadata": {},
     "output_type": "display_data"
    }
   ],
   "source": [
    "# since the value of a is close to zero, this is approximately linear in values of x considered:\n",
    "plt.plot(x, parabolic_function(x, \n",
    "                               fit_res_parabole[0][0], # best fit a\n",
    "                               fit_res_parabole[0][1], # best fit b\n",
    "                               fit_res_parabole[0][2]), # best fit c\n",
    "         label = 'parabolic fit')\n",
    "plt.legend();"
   ]
  },
  {
   "cell_type": "markdown",
   "metadata": {
    "pycharm": {
     "name": "#%% md\n"
    }
   },
   "source": [
    "# Function for a normal ('Gaussian') distribution"
   ]
  },
  {
   "cell_type": "code",
   "execution_count": 22,
   "metadata": {
    "ExecuteTime": {
     "end_time": "2023-01-09T06:31:31.650299Z",
     "start_time": "2023-01-09T06:31:31.637354Z"
    },
    "pycharm": {
     "name": "#%%\n"
    }
   },
   "outputs": [],
   "source": [
    "# Stolen from https://stackoverflow.com/questions/14873203/plotting-of-1-dimensional-gaussian-distribution-function\n",
    "def norm_gaussian(x, mu, sig):\n",
    "    \"\"\"mu is center and sig the standad deviation\"\"\"\n",
    "    return 1./(np.sqrt(2.*np.pi)*sig)*np.exp(-np.power((x - mu)/sig, 2.)/2)\n",
    "\n",
    "def gaussian(x, mu, sig, norm):\n",
    "    \"\"\"mu is center, sig the standad deviation and norm is the overal normalization\"\"\"\n",
    "    return norm * norm_gaussian(x, mu, sig)"
   ]
  },
  {
   "cell_type": "code",
   "execution_count": 23,
   "metadata": {
    "ExecuteTime": {
     "end_time": "2023-01-09T06:31:31.882197Z",
     "start_time": "2023-01-09T06:31:31.654691Z"
    },
    "pycharm": {
     "name": "#%%\n"
    }
   },
   "outputs": [
    {
     "data": {
      "image/png": "[encoded data removed]",
      "text/plain": [
       "<Figure size 640x480 with 1 Axes>"
      ]
     },
     "metadata": {},
     "output_type": "display_data"
    }
   ],
   "source": [
    "x_gaus = np.linspace(-10,10,100)\n",
    "y_gaus = gaussian(x_gaus,\n",
    "                  0, # center\n",
    "                  1, # std\n",
    "                  1  # norm\n",
    "                 ) \n",
    "plt.plot(x_gaus,\n",
    "         y_gaus, \n",
    "         label = 'example of Gaussian')\n",
    "plt.xlabel('x')\n",
    "plt.ylabel('y')\n",
    "plt.legend();"
   ]
  },
  {
   "cell_type": "markdown",
   "metadata": {
    "pycharm": {
     "name": "#%% md\n"
    }
   },
   "source": [
    "# Basic pandas operations\n",
    "Pandas dataframes are kind of a fancy way of keeping excel files. Here I'll show some basic tricks"
   ]
  },
  {
   "cell_type": "code",
   "execution_count": 24,
   "metadata": {
    "ExecuteTime": {
     "end_time": "2023-01-09T06:31:31.896890Z",
     "start_time": "2023-01-09T06:31:31.885091Z"
    },
    "pycharm": {
     "name": "#%%\n"
    }
   },
   "outputs": [
    {
     "data": {
      "text/html": [
       "<div>\n",
       "<style scoped>\n",
       "    .dataframe tbody tr th:only-of-type {\n",
       "        vertical-align: middle;\n",
       "    }\n",
       "\n",
       "    .dataframe tbody tr th {\n",
       "        vertical-align: top;\n",
       "    }\n",
       "\n",
       "    .dataframe thead th {\n",
       "        text-align: right;\n",
       "    }\n",
       "</style>\n",
       "<table border=\"1\" class=\"dataframe\">\n",
       "  <thead>\n",
       "    <tr style=\"text-align: right;\">\n",
       "      <th></th>\n",
       "      <th>x</th>\n",
       "      <th>y</th>\n",
       "    </tr>\n",
       "  </thead>\n",
       "  <tbody>\n",
       "    <tr>\n",
       "      <th>0</th>\n",
       "      <td>0.0</td>\n",
       "      <td>-0.928892</td>\n",
       "    </tr>\n",
       "    <tr>\n",
       "      <th>1</th>\n",
       "      <td>1.0</td>\n",
       "      <td>2.833502</td>\n",
       "    </tr>\n",
       "    <tr>\n",
       "      <th>2</th>\n",
       "      <td>2.0</td>\n",
       "      <td>3.153316</td>\n",
       "    </tr>\n",
       "    <tr>\n",
       "      <th>3</th>\n",
       "      <td>3.0</td>\n",
       "      <td>5.467109</td>\n",
       "    </tr>\n",
       "    <tr>\n",
       "      <th>4</th>\n",
       "      <td>4.0</td>\n",
       "      <td>8.742635</td>\n",
       "    </tr>\n",
       "    <tr>\n",
       "      <th>5</th>\n",
       "      <td>5.0</td>\n",
       "      <td>10.899041</td>\n",
       "    </tr>\n",
       "    <tr>\n",
       "      <th>6</th>\n",
       "      <td>6.0</td>\n",
       "      <td>12.886468</td>\n",
       "    </tr>\n",
       "    <tr>\n",
       "      <th>7</th>\n",
       "      <td>7.0</td>\n",
       "      <td>14.003842</td>\n",
       "    </tr>\n",
       "    <tr>\n",
       "      <th>8</th>\n",
       "      <td>8.0</td>\n",
       "      <td>16.475030</td>\n",
       "    </tr>\n",
       "    <tr>\n",
       "      <th>9</th>\n",
       "      <td>9.0</td>\n",
       "      <td>17.711309</td>\n",
       "    </tr>\n",
       "    <tr>\n",
       "      <th>10</th>\n",
       "      <td>10.0</td>\n",
       "      <td>20.072908</td>\n",
       "    </tr>\n",
       "  </tbody>\n",
       "</table>\n",
       "</div>"
      ],
      "text/plain": [
       "       x          y\n",
       "0    0.0  -0.928892\n",
       "1    1.0   2.833502\n",
       "2    2.0   3.153316\n",
       "3    3.0   5.467109\n",
       "4    4.0   8.742635\n",
       "5    5.0  10.899041\n",
       "6    6.0  12.886468\n",
       "7    7.0  14.003842\n",
       "8    8.0  16.475030\n",
       "9    9.0  17.711309\n",
       "10  10.0  20.072908"
      ]
     },
     "execution_count": 24,
     "metadata": {},
     "output_type": "execute_result"
    }
   ],
   "source": [
    "# let'start with our previous set:\n",
    "data = lin_data_rand.copy()\n",
    "data"
   ]
  },
  {
   "cell_type": "code",
   "execution_count": 25,
   "metadata": {
    "ExecuteTime": {
     "end_time": "2023-01-09T06:31:31.909837Z",
     "start_time": "2023-01-09T06:31:31.899425Z"
    },
    "pycharm": {
     "name": "#%%\n"
    }
   },
   "outputs": [
    {
     "data": {
      "text/html": [
       "<div>\n",
       "<style scoped>\n",
       "    .dataframe tbody tr th:only-of-type {\n",
       "        vertical-align: middle;\n",
       "    }\n",
       "\n",
       "    .dataframe tbody tr th {\n",
       "        vertical-align: top;\n",
       "    }\n",
       "\n",
       "    .dataframe thead th {\n",
       "        text-align: right;\n",
       "    }\n",
       "</style>\n",
       "<table border=\"1\" class=\"dataframe\">\n",
       "  <thead>\n",
       "    <tr style=\"text-align: right;\">\n",
       "      <th></th>\n",
       "      <th>x</th>\n",
       "      <th>y</th>\n",
       "      <th>x_plus_y</th>\n",
       "    </tr>\n",
       "  </thead>\n",
       "  <tbody>\n",
       "    <tr>\n",
       "      <th>0</th>\n",
       "      <td>0.0</td>\n",
       "      <td>-0.928892</td>\n",
       "      <td>-0.928892</td>\n",
       "    </tr>\n",
       "    <tr>\n",
       "      <th>1</th>\n",
       "      <td>1.0</td>\n",
       "      <td>2.833502</td>\n",
       "      <td>3.833502</td>\n",
       "    </tr>\n",
       "    <tr>\n",
       "      <th>2</th>\n",
       "      <td>2.0</td>\n",
       "      <td>3.153316</td>\n",
       "      <td>5.153316</td>\n",
       "    </tr>\n",
       "    <tr>\n",
       "      <th>3</th>\n",
       "      <td>3.0</td>\n",
       "      <td>5.467109</td>\n",
       "      <td>8.467109</td>\n",
       "    </tr>\n",
       "    <tr>\n",
       "      <th>4</th>\n",
       "      <td>4.0</td>\n",
       "      <td>8.742635</td>\n",
       "      <td>12.742635</td>\n",
       "    </tr>\n",
       "    <tr>\n",
       "      <th>5</th>\n",
       "      <td>5.0</td>\n",
       "      <td>10.899041</td>\n",
       "      <td>15.899041</td>\n",
       "    </tr>\n",
       "    <tr>\n",
       "      <th>6</th>\n",
       "      <td>6.0</td>\n",
       "      <td>12.886468</td>\n",
       "      <td>18.886468</td>\n",
       "    </tr>\n",
       "    <tr>\n",
       "      <th>7</th>\n",
       "      <td>7.0</td>\n",
       "      <td>14.003842</td>\n",
       "      <td>21.003842</td>\n",
       "    </tr>\n",
       "    <tr>\n",
       "      <th>8</th>\n",
       "      <td>8.0</td>\n",
       "      <td>16.475030</td>\n",
       "      <td>24.475030</td>\n",
       "    </tr>\n",
       "    <tr>\n",
       "      <th>9</th>\n",
       "      <td>9.0</td>\n",
       "      <td>17.711309</td>\n",
       "      <td>26.711309</td>\n",
       "    </tr>\n",
       "    <tr>\n",
       "      <th>10</th>\n",
       "      <td>10.0</td>\n",
       "      <td>20.072908</td>\n",
       "      <td>30.072908</td>\n",
       "    </tr>\n",
       "  </tbody>\n",
       "</table>\n",
       "</div>"
      ],
      "text/plain": [
       "       x          y   x_plus_y\n",
       "0    0.0  -0.928892  -0.928892\n",
       "1    1.0   2.833502   3.833502\n",
       "2    2.0   3.153316   5.153316\n",
       "3    3.0   5.467109   8.467109\n",
       "4    4.0   8.742635  12.742635\n",
       "5    5.0  10.899041  15.899041\n",
       "6    6.0  12.886468  18.886468\n",
       "7    7.0  14.003842  21.003842\n",
       "8    8.0  16.475030  24.475030\n",
       "9    9.0  17.711309  26.711309\n",
       "10  10.0  20.072908  30.072908"
      ]
     },
     "execution_count": 25,
     "metadata": {},
     "output_type": "execute_result"
    }
   ],
   "source": [
    "# Let's add x and y together like this\n",
    "data['x_plus_y']  = data['x'] + data['y']\n",
    "data"
   ]
  },
  {
   "cell_type": "code",
   "execution_count": 26,
   "metadata": {
    "ExecuteTime": {
     "end_time": "2023-01-09T06:31:31.924921Z",
     "start_time": "2023-01-09T06:31:31.913582Z"
    },
    "pycharm": {
     "name": "#%%\n"
    }
   },
   "outputs": [
    {
     "data": {
      "text/html": [
       "<div>\n",
       "<style scoped>\n",
       "    .dataframe tbody tr th:only-of-type {\n",
       "        vertical-align: middle;\n",
       "    }\n",
       "\n",
       "    .dataframe tbody tr th {\n",
       "        vertical-align: top;\n",
       "    }\n",
       "\n",
       "    .dataframe thead th {\n",
       "        text-align: right;\n",
       "    }\n",
       "</style>\n",
       "<table border=\"1\" class=\"dataframe\">\n",
       "  <thead>\n",
       "    <tr style=\"text-align: right;\">\n",
       "      <th></th>\n",
       "      <th>x</th>\n",
       "      <th>y</th>\n",
       "      <th>x_plus_y</th>\n",
       "      <th>gaus</th>\n",
       "    </tr>\n",
       "  </thead>\n",
       "  <tbody>\n",
       "    <tr>\n",
       "      <th>0</th>\n",
       "      <td>0.0</td>\n",
       "      <td>-0.928892</td>\n",
       "      <td>-0.928892</td>\n",
       "      <td>2.419707e-01</td>\n",
       "    </tr>\n",
       "    <tr>\n",
       "      <th>1</th>\n",
       "      <td>1.0</td>\n",
       "      <td>2.833502</td>\n",
       "      <td>3.833502</td>\n",
       "      <td>3.989423e-01</td>\n",
       "    </tr>\n",
       "    <tr>\n",
       "      <th>2</th>\n",
       "      <td>2.0</td>\n",
       "      <td>3.153316</td>\n",
       "      <td>5.153316</td>\n",
       "      <td>2.419707e-01</td>\n",
       "    </tr>\n",
       "    <tr>\n",
       "      <th>3</th>\n",
       "      <td>3.0</td>\n",
       "      <td>5.467109</td>\n",
       "      <td>8.467109</td>\n",
       "      <td>5.399097e-02</td>\n",
       "    </tr>\n",
       "    <tr>\n",
       "      <th>4</th>\n",
       "      <td>4.0</td>\n",
       "      <td>8.742635</td>\n",
       "      <td>12.742635</td>\n",
       "      <td>4.431848e-03</td>\n",
       "    </tr>\n",
       "    <tr>\n",
       "      <th>5</th>\n",
       "      <td>5.0</td>\n",
       "      <td>10.899041</td>\n",
       "      <td>15.899041</td>\n",
       "      <td>1.338302e-04</td>\n",
       "    </tr>\n",
       "    <tr>\n",
       "      <th>6</th>\n",
       "      <td>6.0</td>\n",
       "      <td>12.886468</td>\n",
       "      <td>18.886468</td>\n",
       "      <td>1.486720e-06</td>\n",
       "    </tr>\n",
       "    <tr>\n",
       "      <th>7</th>\n",
       "      <td>7.0</td>\n",
       "      <td>14.003842</td>\n",
       "      <td>21.003842</td>\n",
       "      <td>6.075883e-09</td>\n",
       "    </tr>\n",
       "    <tr>\n",
       "      <th>8</th>\n",
       "      <td>8.0</td>\n",
       "      <td>16.475030</td>\n",
       "      <td>24.475030</td>\n",
       "      <td>9.134720e-12</td>\n",
       "    </tr>\n",
       "    <tr>\n",
       "      <th>9</th>\n",
       "      <td>9.0</td>\n",
       "      <td>17.711309</td>\n",
       "      <td>26.711309</td>\n",
       "      <td>5.052271e-15</td>\n",
       "    </tr>\n",
       "    <tr>\n",
       "      <th>10</th>\n",
       "      <td>10.0</td>\n",
       "      <td>20.072908</td>\n",
       "      <td>30.072908</td>\n",
       "      <td>1.027977e-18</td>\n",
       "    </tr>\n",
       "  </tbody>\n",
       "</table>\n",
       "</div>"
      ],
      "text/plain": [
       "       x          y   x_plus_y          gaus\n",
       "0    0.0  -0.928892  -0.928892  2.419707e-01\n",
       "1    1.0   2.833502   3.833502  3.989423e-01\n",
       "2    2.0   3.153316   5.153316  2.419707e-01\n",
       "3    3.0   5.467109   8.467109  5.399097e-02\n",
       "4    4.0   8.742635  12.742635  4.431848e-03\n",
       "5    5.0  10.899041  15.899041  1.338302e-04\n",
       "6    6.0  12.886468  18.886468  1.486720e-06\n",
       "7    7.0  14.003842  21.003842  6.075883e-09\n",
       "8    8.0  16.475030  24.475030  9.134720e-12\n",
       "9    9.0  17.711309  26.711309  5.052271e-15\n",
       "10  10.0  20.072908  30.072908  1.027977e-18"
      ]
     },
     "execution_count": 26,
     "metadata": {},
     "output_type": "execute_result"
    }
   ],
   "source": [
    "# Let's add a column showing a gausian based on x!\n",
    "gaus_data = norm_gaussian(data['x'].values, 1, 1)\n",
    "data['gaus'] = gaus_data\n",
    "data"
   ]
  },
  {
   "cell_type": "code",
   "execution_count": 27,
   "metadata": {
    "ExecuteTime": {
     "end_time": "2023-01-09T06:31:32.110140Z",
     "start_time": "2023-01-09T06:31:31.928133Z"
    },
    "pycharm": {
     "name": "#%%\n"
    }
   },
   "outputs": [
    {
     "data": {
      "text/plain": [
       "<matplotlib.legend.Legend at 0x7f672c837070>"
      ]
     },
     "execution_count": 27,
     "metadata": {},
     "output_type": "execute_result"
    },
    {
     "data": {
      "image/png": "[encoded data removed]",
      "text/plain": [
       "<Figure size 640x480 with 1 Axes>"
      ]
     },
     "metadata": {},
     "output_type": "display_data"
    }
   ],
   "source": [
    "# Now I'm actually curious what we made:\n",
    "plt.plot(data['x'],\n",
    "        data['gaus'], label = 'some gaus')\n",
    "plt.xlabel('x')\n",
    "plt.ylabel('y (gaus)');\n",
    "plt.legend()"
   ]
  },
  {
   "cell_type": "markdown",
   "metadata": {
    "pycharm": {
     "name": "#%% md\n"
    }
   },
   "source": [
    "### making selections\n",
    "Now imagine that we want to make a selection based on the figure above where y (gaus) > 0.05. \n",
    "\n",
    "This can be done quite easily using the operators `==` or `<` and `>`. See the example below"
   ]
  },
  {
   "cell_type": "code",
   "execution_count": 28,
   "metadata": {
    "ExecuteTime": {
     "end_time": "2023-01-09T06:31:32.125629Z",
     "start_time": "2023-01-09T06:31:32.113986Z"
    },
    "pycharm": {
     "name": "#%%\n"
    }
   },
   "outputs": [
    {
     "data": {
      "text/html": [
       "<div>\n",
       "<style scoped>\n",
       "    .dataframe tbody tr th:only-of-type {\n",
       "        vertical-align: middle;\n",
       "    }\n",
       "\n",
       "    .dataframe tbody tr th {\n",
       "        vertical-align: top;\n",
       "    }\n",
       "\n",
       "    .dataframe thead th {\n",
       "        text-align: right;\n",
       "    }\n",
       "</style>\n",
       "<table border=\"1\" class=\"dataframe\">\n",
       "  <thead>\n",
       "    <tr style=\"text-align: right;\">\n",
       "      <th></th>\n",
       "      <th>x</th>\n",
       "      <th>y</th>\n",
       "      <th>x_plus_y</th>\n",
       "      <th>gaus</th>\n",
       "    </tr>\n",
       "  </thead>\n",
       "  <tbody>\n",
       "    <tr>\n",
       "      <th>0</th>\n",
       "      <td>0.0</td>\n",
       "      <td>-0.928892</td>\n",
       "      <td>-0.928892</td>\n",
       "      <td>2.419707e-01</td>\n",
       "    </tr>\n",
       "    <tr>\n",
       "      <th>1</th>\n",
       "      <td>1.0</td>\n",
       "      <td>2.833502</td>\n",
       "      <td>3.833502</td>\n",
       "      <td>3.989423e-01</td>\n",
       "    </tr>\n",
       "    <tr>\n",
       "      <th>2</th>\n",
       "      <td>2.0</td>\n",
       "      <td>3.153316</td>\n",
       "      <td>5.153316</td>\n",
       "      <td>2.419707e-01</td>\n",
       "    </tr>\n",
       "    <tr>\n",
       "      <th>3</th>\n",
       "      <td>3.0</td>\n",
       "      <td>5.467109</td>\n",
       "      <td>8.467109</td>\n",
       "      <td>5.399097e-02</td>\n",
       "    </tr>\n",
       "    <tr>\n",
       "      <th>4</th>\n",
       "      <td>4.0</td>\n",
       "      <td>8.742635</td>\n",
       "      <td>12.742635</td>\n",
       "      <td>4.431848e-03</td>\n",
       "    </tr>\n",
       "    <tr>\n",
       "      <th>5</th>\n",
       "      <td>5.0</td>\n",
       "      <td>10.899041</td>\n",
       "      <td>15.899041</td>\n",
       "      <td>1.338302e-04</td>\n",
       "    </tr>\n",
       "    <tr>\n",
       "      <th>6</th>\n",
       "      <td>6.0</td>\n",
       "      <td>12.886468</td>\n",
       "      <td>18.886468</td>\n",
       "      <td>1.486720e-06</td>\n",
       "    </tr>\n",
       "    <tr>\n",
       "      <th>7</th>\n",
       "      <td>7.0</td>\n",
       "      <td>14.003842</td>\n",
       "      <td>21.003842</td>\n",
       "      <td>6.075883e-09</td>\n",
       "    </tr>\n",
       "    <tr>\n",
       "      <th>8</th>\n",
       "      <td>8.0</td>\n",
       "      <td>16.475030</td>\n",
       "      <td>24.475030</td>\n",
       "      <td>9.134720e-12</td>\n",
       "    </tr>\n",
       "    <tr>\n",
       "      <th>9</th>\n",
       "      <td>9.0</td>\n",
       "      <td>17.711309</td>\n",
       "      <td>26.711309</td>\n",
       "      <td>5.052271e-15</td>\n",
       "    </tr>\n",
       "    <tr>\n",
       "      <th>10</th>\n",
       "      <td>10.0</td>\n",
       "      <td>20.072908</td>\n",
       "      <td>30.072908</td>\n",
       "      <td>1.027977e-18</td>\n",
       "    </tr>\n",
       "  </tbody>\n",
       "</table>\n",
       "</div>"
      ],
      "text/plain": [
       "       x          y   x_plus_y          gaus\n",
       "0    0.0  -0.928892  -0.928892  2.419707e-01\n",
       "1    1.0   2.833502   3.833502  3.989423e-01\n",
       "2    2.0   3.153316   5.153316  2.419707e-01\n",
       "3    3.0   5.467109   8.467109  5.399097e-02\n",
       "4    4.0   8.742635  12.742635  4.431848e-03\n",
       "5    5.0  10.899041  15.899041  1.338302e-04\n",
       "6    6.0  12.886468  18.886468  1.486720e-06\n",
       "7    7.0  14.003842  21.003842  6.075883e-09\n",
       "8    8.0  16.475030  24.475030  9.134720e-12\n",
       "9    9.0  17.711309  26.711309  5.052271e-15\n",
       "10  10.0  20.072908  30.072908  1.027977e-18"
      ]
     },
     "execution_count": 28,
     "metadata": {},
     "output_type": "execute_result"
    }
   ],
   "source": [
    "# let's select data where the y gaus is > 0.05. We start with this data:\n",
    "data"
   ]
  },
  {
   "cell_type": "code",
   "execution_count": 29,
   "metadata": {
    "ExecuteTime": {
     "end_time": "2023-01-09T06:31:32.140067Z",
     "start_time": "2023-01-09T06:31:32.129357Z"
    },
    "pycharm": {
     "name": "#%%\n"
    }
   },
   "outputs": [
    {
     "data": {
      "text/plain": [
       "0      True\n",
       "1      True\n",
       "2      True\n",
       "3      True\n",
       "4     False\n",
       "5     False\n",
       "6     False\n",
       "7     False\n",
       "8     False\n",
       "9     False\n",
       "10    False\n",
       "Name: gaus, dtype: bool"
      ]
     },
     "execution_count": 29,
     "metadata": {},
     "output_type": "execute_result"
    }
   ],
   "source": [
    "# check where this condition is true\n",
    "data['gaus'] > 0.05"
   ]
  },
  {
   "cell_type": "code",
   "execution_count": 30,
   "metadata": {
    "ExecuteTime": {
     "end_time": "2023-01-09T06:31:32.154415Z",
     "start_time": "2023-01-09T06:31:32.142250Z"
    },
    "pycharm": {
     "name": "#%%\n"
    }
   },
   "outputs": [
    {
     "data": {
      "text/html": [
       "<div>\n",
       "<style scoped>\n",
       "    .dataframe tbody tr th:only-of-type {\n",
       "        vertical-align: middle;\n",
       "    }\n",
       "\n",
       "    .dataframe tbody tr th {\n",
       "        vertical-align: top;\n",
       "    }\n",
       "\n",
       "    .dataframe thead th {\n",
       "        text-align: right;\n",
       "    }\n",
       "</style>\n",
       "<table border=\"1\" class=\"dataframe\">\n",
       "  <thead>\n",
       "    <tr style=\"text-align: right;\">\n",
       "      <th></th>\n",
       "      <th>x</th>\n",
       "      <th>y</th>\n",
       "      <th>x_plus_y</th>\n",
       "      <th>gaus</th>\n",
       "    </tr>\n",
       "  </thead>\n",
       "  <tbody>\n",
       "    <tr>\n",
       "      <th>0</th>\n",
       "      <td>0.0</td>\n",
       "      <td>-0.928892</td>\n",
       "      <td>-0.928892</td>\n",
       "      <td>0.241971</td>\n",
       "    </tr>\n",
       "    <tr>\n",
       "      <th>1</th>\n",
       "      <td>1.0</td>\n",
       "      <td>2.833502</td>\n",
       "      <td>3.833502</td>\n",
       "      <td>0.398942</td>\n",
       "    </tr>\n",
       "    <tr>\n",
       "      <th>2</th>\n",
       "      <td>2.0</td>\n",
       "      <td>3.153316</td>\n",
       "      <td>5.153316</td>\n",
       "      <td>0.241971</td>\n",
       "    </tr>\n",
       "    <tr>\n",
       "      <th>3</th>\n",
       "      <td>3.0</td>\n",
       "      <td>5.467109</td>\n",
       "      <td>8.467109</td>\n",
       "      <td>0.053991</td>\n",
       "    </tr>\n",
       "  </tbody>\n",
       "</table>\n",
       "</div>"
      ],
      "text/plain": [
       "     x         y  x_plus_y      gaus\n",
       "0  0.0 -0.928892 -0.928892  0.241971\n",
       "1  1.0  2.833502  3.833502  0.398942\n",
       "2  2.0  3.153316  5.153316  0.241971\n",
       "3  3.0  5.467109  8.467109  0.053991"
      ]
     },
     "execution_count": 30,
     "metadata": {},
     "output_type": "execute_result"
    }
   ],
   "source": [
    "# This might be new, you can select data based on the above array of True and False like this:\n",
    "selection = data['gaus'] > 0.05\n",
    "data[selection]"
   ]
  },
  {
   "cell_type": "code",
   "execution_count": 31,
   "metadata": {
    "ExecuteTime": {
     "end_time": "2023-01-09T06:31:32.325669Z",
     "start_time": "2023-01-09T06:31:32.156764Z"
    },
    "pycharm": {
     "name": "#%%\n"
    }
   },
   "outputs": [
    {
     "data": {
      "image/png": "[encoded data removed]",
      "text/plain": [
       "<Figure size 640x480 with 1 Axes>"
      ]
     },
     "metadata": {},
     "output_type": "display_data"
    }
   ],
   "source": [
    "# let's plot this\n",
    "data_sel = data[selection]\n",
    "plt.plot(data['x'],\n",
    "         data['gaus'], \n",
    "         linewidth = 0.5,\n",
    "         label = 'some gaus')\n",
    "plt.plot(data_sel['x'],\n",
    "         data_sel['gaus'],\n",
    "         linestyle = '--',\n",
    "         label = 'selected gaus')\n",
    "\n",
    "plt.xlabel('x')\n",
    "plt.ylabel('y (gaus)')\n",
    "plt.legend();"
   ]
  },
  {
   "cell_type": "markdown",
   "metadata": {
    "pycharm": {
     "name": "#%% md\n"
    }
   },
   "source": [
    "### More complex selections"
   ]
  },
  {
   "cell_type": "code",
   "execution_count": 32,
   "metadata": {
    "ExecuteTime": {
     "end_time": "2023-01-09T06:31:32.336036Z",
     "start_time": "2023-01-09T06:31:32.328418Z"
    },
    "pycharm": {
     "name": "#%%\n"
    }
   },
   "outputs": [
    {
     "data": {
      "text/plain": [
       "0      True\n",
       "1     False\n",
       "2      True\n",
       "3      True\n",
       "4     False\n",
       "5     False\n",
       "6     False\n",
       "7     False\n",
       "8     False\n",
       "9     False\n",
       "10    False\n",
       "Name: gaus, dtype: bool"
      ]
     },
     "execution_count": 32,
     "metadata": {},
     "output_type": "execute_result"
    }
   ],
   "source": [
    "# This might be new, you can select data based on the above array of True and False like this:\n",
    "selection = (data['gaus'] > 0.01) & (data['gaus'] < 0.3)\n",
    "selection"
   ]
  },
  {
   "cell_type": "code",
   "execution_count": 33,
   "metadata": {
    "ExecuteTime": {
     "end_time": "2023-01-09T06:31:32.498813Z",
     "start_time": "2023-01-09T06:31:32.338359Z"
    },
    "pycharm": {
     "name": "#%%\n"
    }
   },
   "outputs": [
    {
     "data": {
      "image/png": "[encoded data removed]",
      "text/plain": [
       "<Figure size 640x480 with 1 Axes>"
      ]
     },
     "metadata": {},
     "output_type": "display_data"
    }
   ],
   "source": [
    "# let's plot this\n",
    "data_sel = data[selection]\n",
    "plt.plot(data['x'],\n",
    "         data['gaus'], \n",
    "         linewidth = 0.5,\n",
    "         label = 'some gaus')\n",
    "plt.scatter(data_sel['x'],\n",
    "         data_sel['gaus'],\n",
    "         linestyle = '--',\n",
    "         label = 'selected gaus')\n",
    "\n",
    "plt.xlabel('x')\n",
    "plt.ylabel('y (gaus)')\n",
    "plt.legend();"
   ]
  },
  {
   "cell_type": "markdown",
   "metadata": {
    "pycharm": {
     "name": "#%% md\n"
    }
   },
   "source": [
    "# extract data from a hist"
   ]
  },
  {
   "cell_type": "code",
   "execution_count": 34,
   "metadata": {
    "ExecuteTime": {
     "end_time": "2023-01-09T06:31:32.701387Z",
     "start_time": "2023-01-09T06:31:32.501017Z"
    },
    "pycharm": {
     "name": "#%%\n"
    }
   },
   "outputs": [
    {
     "data": {
      "image/png": "[encoded data removed]",
      "text/plain": [
       "<Figure size 640x480 with 1 Axes>"
      ]
     },
     "metadata": {},
     "output_type": "display_data"
    }
   ],
   "source": [
    "counts, bins, _ = plt.hist(y_gaus, bins = 20)"
   ]
  },
  {
   "cell_type": "code",
   "execution_count": 35,
   "metadata": {
    "ExecuteTime": {
     "end_time": "2023-01-09T06:31:32.712908Z",
     "start_time": "2023-01-09T06:31:32.704470Z"
    },
    "pycharm": {
     "name": "#%%\n"
    }
   },
   "outputs": [
    {
     "data": {
      "text/plain": [
       "array([0.00992281, 0.02976842, 0.04961403, 0.06945964, 0.08930526,\n",
       "       0.10915087, 0.12899648, 0.14884209, 0.16868771, 0.18853332,\n",
       "       0.20837893, 0.22822454, 0.24807016, 0.26791577, 0.28776138,\n",
       "       0.30760699, 0.32745261, 0.34729822, 0.36714383, 0.38698944])"
      ]
     },
     "execution_count": 35,
     "metadata": {},
     "output_type": "execute_result"
    }
   ],
   "source": [
    "# The edges of \n",
    "bins\n",
    "bin_centers = (bins[1:] + bins[:-1])/2\n",
    "bin_centers"
   ]
  },
  {
   "cell_type": "code",
   "execution_count": 36,
   "metadata": {
    "ExecuteTime": {
     "end_time": "2023-01-09T06:31:32.913308Z",
     "start_time": "2023-01-09T06:31:32.716392Z"
    },
    "pycharm": {
     "name": "#%%\n"
    }
   },
   "outputs": [
    {
     "data": {
      "text/plain": [
       "<ErrorbarContainer object of 3 artists>"
      ]
     },
     "execution_count": 36,
     "metadata": {},
     "output_type": "execute_result"
    },
    {
     "data": {
      "image/png": "[encoded data removed]",
      "text/plain": [
       "<Figure size 640x480 with 1 Axes>"
      ]
     },
     "metadata": {},
     "output_type": "display_data"
    }
   ],
   "source": [
    "plt.errorbar(bin_centers, counts, np.sqrt(counts), linestyle = 'None', marker = 'o')"
   ]
  },
  {
   "cell_type": "markdown",
   "metadata": {
    "pycharm": {
     "name": "#%% md\n"
    }
   },
   "source": [
    "## Writing functions to be used in notebooks\n",
    "\n",
    "If you want to have a function easily accessible in all your notebooks, all you have to do is adding a new function to the `RP2021/student_fuctions.py` such that you can easily use it here. For example, I've added a dummy function that will raise some error."
   ]
  },
  {
   "cell_type": "code",
   "execution_count": 38,
   "metadata": {
    "ExecuteTime": {
     "end_time": "2023-01-09T06:33:23.286506Z",
     "start_time": "2023-01-09T06:33:23.106873Z"
    },
    "pycharm": {
     "name": "#%%\n"
    }
   },
   "outputs": [],
   "source": [
    "import RP2023 as rp"
   ]
  },
  {
   "cell_type": "code",
   "execution_count": 41,
   "metadata": {
    "ExecuteTime": {
     "end_time": "2023-01-09T06:33:30.802942Z",
     "start_time": "2023-01-09T06:33:30.784509Z"
    },
    "pycharm": {
     "name": "#%%\n"
    }
   },
   "outputs": [
    {
     "ename": "NotImplementedError",
     "evalue": "At the time of writing, there was no function here, you may want to add one yourself in  order to be able to open this. Also might be a good idea to write a better name than \"some_function\" because its not very descriptive",
     "output_type": "error",
     "traceback": [
      "\u001B[0;31m---------------------------------------------------------------------------\u001B[0m",
      "\u001B[0;31mNotImplementedError\u001B[0m                       Traceback (most recent call last)",
      "Cell \u001B[0;32mIn [41], line 1\u001B[0m\n\u001B[0;32m----> 1\u001B[0m rp\u001B[38;5;241m.\u001B[39msome_function()\n",
      "File \u001B[0;32m~/software/RP2023/RP2023/student_fuctions.py:12\u001B[0m, in \u001B[0;36msome_function\u001B[0;34m()\u001B[0m\n\u001B[1;32m      4\u001B[0m \u001B[38;5;28;01mdef\u001B[39;00m \u001B[38;5;21msome_function\u001B[39m():\n\u001B[1;32m      5\u001B[0m     \u001B[38;5;124;03m\"\"\"\u001B[39;00m\n\u001B[1;32m      6\u001B[0m \u001B[38;5;124;03m    Placeholder for a function that you want to use (currently not\u001B[39;00m\n\u001B[1;32m      7\u001B[0m \u001B[38;5;124;03m    implemented).\u001B[39;00m\n\u001B[0;32m   (...)\u001B[0m\n\u001B[1;32m     10\u001B[0m \u001B[38;5;124;03m    super unclear.\u001B[39;00m\n\u001B[1;32m     11\u001B[0m \u001B[38;5;124;03m    \"\"\"\u001B[39;00m\n\u001B[0;32m---> 12\u001B[0m     \u001B[38;5;28;01mraise\u001B[39;00m \u001B[38;5;167;01mNotImplementedError\u001B[39;00m(\n\u001B[1;32m     13\u001B[0m         \u001B[38;5;124m'\u001B[39m\u001B[38;5;124mAt the time of writing, there was no function here, you may want to \u001B[39m\u001B[38;5;124m'\u001B[39m\n\u001B[1;32m     14\u001B[0m         \u001B[38;5;124m'\u001B[39m\u001B[38;5;124madd one yourself in  order to be able to open this. Also might be a \u001B[39m\u001B[38;5;124m'\u001B[39m\n\u001B[1;32m     15\u001B[0m         \u001B[38;5;124m'\u001B[39m\u001B[38;5;124mgood idea to write a better name than \u001B[39m\u001B[38;5;124m\"\u001B[39m\u001B[38;5;124msome_function\u001B[39m\u001B[38;5;124m\"\u001B[39m\u001B[38;5;124m because its \u001B[39m\u001B[38;5;124m'\u001B[39m\n\u001B[1;32m     16\u001B[0m         \u001B[38;5;124m'\u001B[39m\u001B[38;5;124mnot very descriptive\u001B[39m\u001B[38;5;124m'\u001B[39m)\n",
      "\u001B[0;31mNotImplementedError\u001B[0m: At the time of writing, there was no function here, you may want to add one yourself in  order to be able to open this. Also might be a good idea to write a better name than \"some_function\" because its not very descriptive"
     ]
    }
   ],
   "source": [
    "rp.some_function()"
   ]
  },
  {
   "cell_type": "code",
   "execution_count": null,
   "metadata": {
    "pycharm": {
     "name": "#%%\n"
    }
   },
   "outputs": [],
   "source": []
  }
 ],
 "metadata": {
  "kernelspec": {
   "display_name": "Python 3 (ipykernel)",
   "language": "python",
   "name": "python3"
  },
  "language_info": {
   "codemirror_mode": {
    "name": "ipython",
    "version": 3
   },
   "file_extension": ".py",
   "mimetype": "text/x-python",
   "name": "python",
   "nbconvert_exporter": "python",
   "pygments_lexer": "ipython3",
   "version": "3.10.8"
  },
  "varInspector": {
   "cols": {
    "lenName": 16,
    "lenType": 16,
    "lenVar": 40
   },
   "kernels_config": {
    "python": {
     "delete_cmd_postfix": "",
     "delete_cmd_prefix": "del ",
     "library": "var_list.py",
     "varRefreshCmd": "print(var_dic_list())"
    },
    "r": {
     "delete_cmd_postfix": ") ",
     "delete_cmd_prefix": "rm(",
     "library": "var_list.r",
     "varRefreshCmd": "cat(var_dic_list()) "
    }
   },
   "types_to_exclude": [
    "module",
    "function",
    "builtin_function_or_method",
    "instance",
    "_Feature"
   ],
   "window_display": false
  }
 },
 "nbformat": 4,
 "nbformat_minor": 4
}