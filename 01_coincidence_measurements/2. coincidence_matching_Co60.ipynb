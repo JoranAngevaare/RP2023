{
 "cells": [
  {
   "cell_type": "markdown",
   "metadata": {
    "pycharm": {
     "name": "#%% md\n"
    }
   },
   "source": [
    "# Coincidence in ${}^{60}$Co data\n",
    "Author:\n",
    "\n",
    "J. Angevaare // <j.angevaare@nikhef.nl> // 2020-05-25"
   ]
  },
  {
   "cell_type": "markdown",
   "metadata": {
    "pycharm": {
     "name": "#%% md\n"
    }
   },
   "source": [
    "Below we:\n",
    " - read a file of ${}^{60}$Co-data\n",
    " - Make a plot of the coincidence spectra"
   ]
  },
  {
   "cell_type": "markdown",
   "metadata": {
    "pycharm": {
     "name": "#%% md\n"
    }
   },
   "source": [
    "## Open the data\n",
    "Same as in previous tutorial, nothing new here"
   ]
  },
  {
   "cell_type": "code",
   "execution_count": 1,
   "metadata": {
    "ExecuteTime": {
     "end_time": "2023-01-09T08:53:40.268835Z",
     "start_time": "2023-01-09T08:53:39.328049Z"
    },
    "pycharm": {
     "name": "#%%\n"
    }
   },
   "outputs": [],
   "source": [
    "import pandas as pd\n",
    "import matplotlib.pyplot as plt\n",
    "from matplotlib.colors import LogNorm"
   ]
  },
  {
   "cell_type": "code",
   "execution_count": 2,
   "metadata": {
    "ExecuteTime": {
     "end_time": "2023-01-09T08:53:40.422135Z",
     "start_time": "2023-01-09T08:53:40.272170Z"
    },
    "pycharm": {
     "name": "#%%\n"
    }
   },
   "outputs": [],
   "source": [
    "try:\n",
    "    import RP2023 as rp\n",
    "except ModuleNotFoundError:\n",
    "    # This module is not installed correctly, let's hack it in\n",
    "    import sys\n",
    "    import os\n",
    "    path = os.path.join(os.path.abspath('.'), '..')\n",
    "    sys.path.append(path) \n",
    "    import RP2023 as rp"
   ]
  },
  {
   "cell_type": "code",
   "execution_count": 3,
   "metadata": {
    "ExecuteTime": {
     "end_time": "2023-01-09T08:53:40.427067Z",
     "start_time": "2023-01-09T08:53:40.423961Z"
    },
    "pycharm": {
     "name": "#%%\n"
    }
   },
   "outputs": [],
   "source": [
    "# Let's look at the first root file in the list above\n",
    "path = '../data/Co60_sample.csv'"
   ]
  },
  {
   "cell_type": "code",
   "execution_count": 4,
   "metadata": {
    "ExecuteTime": {
     "end_time": "2023-01-09T08:53:40.465645Z",
     "start_time": "2023-01-09T08:53:40.429576Z"
    },
    "pycharm": {
     "name": "#%%\n"
    }
   },
   "outputs": [],
   "source": [
    "co60 = pd.read_csv(path)"
   ]
  },
  {
   "cell_type": "code",
   "execution_count": 5,
   "metadata": {
    "ExecuteTime": {
     "end_time": "2023-01-09T08:53:40.482995Z",
     "start_time": "2023-01-09T08:53:40.467420Z"
    },
    "pycharm": {
     "name": "#%%\n"
    }
   },
   "outputs": [
    {
     "data": {
      "text/html": [
       "<div>\n",
       "<style scoped>\n",
       "    .dataframe tbody tr th:only-of-type {\n",
       "        vertical-align: middle;\n",
       "    }\n",
       "\n",
       "    .dataframe tbody tr th {\n",
       "        vertical-align: top;\n",
       "    }\n",
       "\n",
       "    .dataframe thead th {\n",
       "        text-align: right;\n",
       "    }\n",
       "</style>\n",
       "<table border=\"1\" class=\"dataframe\">\n",
       "  <thead>\n",
       "    <tr style=\"text-align: right;\">\n",
       "      <th></th>\n",
       "      <th>channel</th>\n",
       "      <th>integral</th>\n",
       "      <th>time</th>\n",
       "    </tr>\n",
       "  </thead>\n",
       "  <tbody>\n",
       "    <tr>\n",
       "      <th>0</th>\n",
       "      <td>5</td>\n",
       "      <td>1258.48970</td>\n",
       "      <td>3.787286e+09</td>\n",
       "    </tr>\n",
       "    <tr>\n",
       "      <th>1</th>\n",
       "      <td>4</td>\n",
       "      <td>1328.03430</td>\n",
       "      <td>3.787286e+09</td>\n",
       "    </tr>\n",
       "    <tr>\n",
       "      <th>2</th>\n",
       "      <td>4</td>\n",
       "      <td>1211.03720</td>\n",
       "      <td>3.787286e+09</td>\n",
       "    </tr>\n",
       "    <tr>\n",
       "      <th>3</th>\n",
       "      <td>4</td>\n",
       "      <td>893.12225</td>\n",
       "      <td>3.787286e+09</td>\n",
       "    </tr>\n",
       "    <tr>\n",
       "      <th>4</th>\n",
       "      <td>5</td>\n",
       "      <td>241.21430</td>\n",
       "      <td>3.787286e+09</td>\n",
       "    </tr>\n",
       "    <tr>\n",
       "      <th>...</th>\n",
       "      <td>...</td>\n",
       "      <td>...</td>\n",
       "      <td>...</td>\n",
       "    </tr>\n",
       "    <tr>\n",
       "      <th>99995</th>\n",
       "      <td>4</td>\n",
       "      <td>1379.15210</td>\n",
       "      <td>3.787287e+09</td>\n",
       "    </tr>\n",
       "    <tr>\n",
       "      <th>99996</th>\n",
       "      <td>5</td>\n",
       "      <td>777.09750</td>\n",
       "      <td>3.787287e+09</td>\n",
       "    </tr>\n",
       "    <tr>\n",
       "      <th>99997</th>\n",
       "      <td>4</td>\n",
       "      <td>1734.06140</td>\n",
       "      <td>3.787287e+09</td>\n",
       "    </tr>\n",
       "    <tr>\n",
       "      <th>99998</th>\n",
       "      <td>4</td>\n",
       "      <td>1367.85340</td>\n",
       "      <td>3.787287e+09</td>\n",
       "    </tr>\n",
       "    <tr>\n",
       "      <th>99999</th>\n",
       "      <td>4</td>\n",
       "      <td>645.00470</td>\n",
       "      <td>3.787287e+09</td>\n",
       "    </tr>\n",
       "  </tbody>\n",
       "</table>\n",
       "<p>100000 rows × 3 columns</p>\n",
       "</div>"
      ],
      "text/plain": [
       "       channel    integral          time\n",
       "0            5  1258.48970  3.787286e+09\n",
       "1            4  1328.03430  3.787286e+09\n",
       "2            4  1211.03720  3.787286e+09\n",
       "3            4   893.12225  3.787286e+09\n",
       "4            5   241.21430  3.787286e+09\n",
       "...        ...         ...           ...\n",
       "99995        4  1379.15210  3.787287e+09\n",
       "99996        5   777.09750  3.787287e+09\n",
       "99997        4  1734.06140  3.787287e+09\n",
       "99998        4  1367.85340  3.787287e+09\n",
       "99999        4   645.00470  3.787287e+09\n",
       "\n",
       "[100000 rows x 3 columns]"
      ]
     },
     "execution_count": 5,
     "metadata": {},
     "output_type": "execute_result"
    }
   ],
   "source": [
    "co60"
   ]
  },
  {
   "cell_type": "markdown",
   "metadata": {
    "pycharm": {
     "name": "#%% md\n"
    }
   },
   "source": [
    "# Coincidence"
   ]
  },
  {
   "cell_type": "code",
   "execution_count": 6,
   "metadata": {
    "ExecuteTime": {
     "end_time": "2023-01-09T08:53:40.498410Z",
     "start_time": "2023-01-09T08:53:40.484823Z"
    },
    "pycharm": {
     "name": "#%%\n"
    }
   },
   "outputs": [
    {
     "data": {
      "text/html": [
       "<div>\n",
       "<style scoped>\n",
       "    .dataframe tbody tr th:only-of-type {\n",
       "        vertical-align: middle;\n",
       "    }\n",
       "\n",
       "    .dataframe tbody tr th {\n",
       "        vertical-align: top;\n",
       "    }\n",
       "\n",
       "    .dataframe thead th {\n",
       "        text-align: right;\n",
       "    }\n",
       "</style>\n",
       "<table border=\"1\" class=\"dataframe\">\n",
       "  <thead>\n",
       "    <tr style=\"text-align: right;\">\n",
       "      <th></th>\n",
       "      <th>channel</th>\n",
       "      <th>integral</th>\n",
       "      <th>time</th>\n",
       "    </tr>\n",
       "  </thead>\n",
       "  <tbody>\n",
       "    <tr>\n",
       "      <th>0</th>\n",
       "      <td>5</td>\n",
       "      <td>1258.48970</td>\n",
       "      <td>3.787286e+09</td>\n",
       "    </tr>\n",
       "    <tr>\n",
       "      <th>1</th>\n",
       "      <td>4</td>\n",
       "      <td>1328.03430</td>\n",
       "      <td>3.787286e+09</td>\n",
       "    </tr>\n",
       "    <tr>\n",
       "      <th>2</th>\n",
       "      <td>4</td>\n",
       "      <td>1211.03720</td>\n",
       "      <td>3.787286e+09</td>\n",
       "    </tr>\n",
       "    <tr>\n",
       "      <th>3</th>\n",
       "      <td>4</td>\n",
       "      <td>893.12225</td>\n",
       "      <td>3.787286e+09</td>\n",
       "    </tr>\n",
       "    <tr>\n",
       "      <th>4</th>\n",
       "      <td>5</td>\n",
       "      <td>241.21430</td>\n",
       "      <td>3.787286e+09</td>\n",
       "    </tr>\n",
       "    <tr>\n",
       "      <th>...</th>\n",
       "      <td>...</td>\n",
       "      <td>...</td>\n",
       "      <td>...</td>\n",
       "    </tr>\n",
       "    <tr>\n",
       "      <th>99995</th>\n",
       "      <td>4</td>\n",
       "      <td>1379.15210</td>\n",
       "      <td>3.787287e+09</td>\n",
       "    </tr>\n",
       "    <tr>\n",
       "      <th>99996</th>\n",
       "      <td>5</td>\n",
       "      <td>777.09750</td>\n",
       "      <td>3.787287e+09</td>\n",
       "    </tr>\n",
       "    <tr>\n",
       "      <th>99997</th>\n",
       "      <td>4</td>\n",
       "      <td>1734.06140</td>\n",
       "      <td>3.787287e+09</td>\n",
       "    </tr>\n",
       "    <tr>\n",
       "      <th>99998</th>\n",
       "      <td>4</td>\n",
       "      <td>1367.85340</td>\n",
       "      <td>3.787287e+09</td>\n",
       "    </tr>\n",
       "    <tr>\n",
       "      <th>99999</th>\n",
       "      <td>4</td>\n",
       "      <td>645.00470</td>\n",
       "      <td>3.787287e+09</td>\n",
       "    </tr>\n",
       "  </tbody>\n",
       "</table>\n",
       "<p>99606 rows × 3 columns</p>\n",
       "</div>"
      ],
      "text/plain": [
       "       channel    integral          time\n",
       "0            5  1258.48970  3.787286e+09\n",
       "1            4  1328.03430  3.787286e+09\n",
       "2            4  1211.03720  3.787286e+09\n",
       "3            4   893.12225  3.787286e+09\n",
       "4            5   241.21430  3.787286e+09\n",
       "...        ...         ...           ...\n",
       "99995        4  1379.15210  3.787287e+09\n",
       "99996        5   777.09750  3.787287e+09\n",
       "99997        4  1734.06140  3.787287e+09\n",
       "99998        4  1367.85340  3.787287e+09\n",
       "99999        4   645.00470  3.787287e+09\n",
       "\n",
       "[99606 rows x 3 columns]"
      ]
     },
     "execution_count": 6,
     "metadata": {},
     "output_type": "execute_result"
    }
   ],
   "source": [
    "# Let's do a quick energy cut to get rid of events outside the [0 keV, 3000 keV] interval\n",
    "co60 = co60[\n",
    "    (co60['integral'] > 0) & \n",
    "    (co60['integral'] < 3000)\n",
    "]\n",
    "co60"
   ]
  },
  {
   "cell_type": "markdown",
   "metadata": {
    "pycharm": {
     "name": "#%% md\n"
    }
   },
   "source": [
    "# The coincidence matching. \n",
    "Below we will use a function called `easy_coincidence_matching`. This allows us to quickly match data from a given channel to data in another channel if it is withing a small time window. It is stored under `RP2021/coincidence_matching.py` in case you are interested but it does not fall under the scope of this course."
   ]
  },
  {
   "cell_type": "code",
   "execution_count": 7,
   "metadata": {
    "ExecuteTime": {
     "end_time": "2023-01-09T08:53:40.502842Z",
     "start_time": "2023-01-09T08:53:40.500123Z"
    },
    "pycharm": {
     "name": "#%%\n"
    }
   },
   "outputs": [],
   "source": [
    "# The first time running the command below this it may take a while, the second time will be MUCH faster!\n",
    "# the %%time on top monitors how long it takes to execute this cell"
   ]
  },
  {
   "cell_type": "code",
   "execution_count": 8,
   "metadata": {
    "ExecuteTime": {
     "end_time": "2023-01-09T08:53:41.065002Z",
     "start_time": "2023-01-09T08:53:40.504613Z"
    },
    "pycharm": {
     "name": "#%%\n"
    }
   },
   "outputs": [
    {
     "name": "stdout",
     "output_type": "stream",
     "text": [
      "CPU times: user 1.08 s, sys: 687 ms, total: 1.77 s\n",
      "Wall time: 553 ms\n"
     ]
    }
   ],
   "source": [
    "%%time\n",
    "matched_co60 = rp.easy_coincidence_matching(co60, check_time_order = False)"
   ]
  },
  {
   "cell_type": "code",
   "execution_count": 9,
   "metadata": {
    "ExecuteTime": {
     "end_time": "2023-01-09T08:53:41.070299Z",
     "start_time": "2023-01-09T08:53:41.066950Z"
    },
    "pycharm": {
     "name": "#%%\n"
    }
   },
   "outputs": [],
   "source": [
    "# See below, it'll be much better"
   ]
  },
  {
   "cell_type": "code",
   "execution_count": 10,
   "metadata": {
    "ExecuteTime": {
     "end_time": "2023-01-09T08:53:41.127228Z",
     "start_time": "2023-01-09T08:53:41.072201Z"
    },
    "pycharm": {
     "name": "#%%\n"
    }
   },
   "outputs": [
    {
     "name": "stdout",
     "output_type": "stream",
     "text": [
      "CPU times: user 49.1 ms, sys: 0 ns, total: 49.1 ms\n",
      "Wall time: 48.4 ms\n"
     ]
    }
   ],
   "source": [
    "%%time\n",
    "matched_co60 = rp.easy_coincidence_matching(co60, check_time_order = False)"
   ]
  },
  {
   "cell_type": "code",
   "execution_count": 11,
   "metadata": {
    "ExecuteTime": {
     "end_time": "2023-01-09T08:53:41.142857Z",
     "start_time": "2023-01-09T08:53:41.131455Z"
    },
    "pycharm": {
     "name": "#%%\n"
    }
   },
   "outputs": [
    {
     "data": {
      "text/html": [
       "<div>\n",
       "<style scoped>\n",
       "    .dataframe tbody tr th:only-of-type {\n",
       "        vertical-align: middle;\n",
       "    }\n",
       "\n",
       "    .dataframe tbody tr th {\n",
       "        vertical-align: top;\n",
       "    }\n",
       "\n",
       "    .dataframe thead th {\n",
       "        text-align: right;\n",
       "    }\n",
       "</style>\n",
       "<table border=\"1\" class=\"dataframe\">\n",
       "  <thead>\n",
       "    <tr style=\"text-align: right;\">\n",
       "      <th></th>\n",
       "      <th>e_ch4</th>\n",
       "      <th>e_ch5</th>\n",
       "      <th>t_ch4</th>\n",
       "      <th>t_ch5</th>\n",
       "    </tr>\n",
       "  </thead>\n",
       "  <tbody>\n",
       "    <tr>\n",
       "      <th>0</th>\n",
       "      <td>893.12225</td>\n",
       "      <td>241.21430</td>\n",
       "      <td>3.787286e+09</td>\n",
       "      <td>3.787286e+09</td>\n",
       "    </tr>\n",
       "    <tr>\n",
       "      <th>1</th>\n",
       "      <td>423.31165</td>\n",
       "      <td>890.62010</td>\n",
       "      <td>3.787286e+09</td>\n",
       "      <td>3.787286e+09</td>\n",
       "    </tr>\n",
       "    <tr>\n",
       "      <th>2</th>\n",
       "      <td>1221.42480</td>\n",
       "      <td>421.89755</td>\n",
       "      <td>3.787286e+09</td>\n",
       "      <td>3.787286e+09</td>\n",
       "    </tr>\n",
       "    <tr>\n",
       "      <th>3</th>\n",
       "      <td>997.63600</td>\n",
       "      <td>1112.39590</td>\n",
       "      <td>3.787286e+09</td>\n",
       "      <td>3.787286e+09</td>\n",
       "    </tr>\n",
       "    <tr>\n",
       "      <th>4</th>\n",
       "      <td>1330.85890</td>\n",
       "      <td>457.94452</td>\n",
       "      <td>3.787286e+09</td>\n",
       "      <td>3.787286e+09</td>\n",
       "    </tr>\n",
       "    <tr>\n",
       "      <th>...</th>\n",
       "      <td>...</td>\n",
       "      <td>...</td>\n",
       "      <td>...</td>\n",
       "      <td>...</td>\n",
       "    </tr>\n",
       "    <tr>\n",
       "      <th>10758</th>\n",
       "      <td>1455.23670</td>\n",
       "      <td>1068.05190</td>\n",
       "      <td>3.787287e+09</td>\n",
       "      <td>3.787287e+09</td>\n",
       "    </tr>\n",
       "    <tr>\n",
       "      <th>10759</th>\n",
       "      <td>1314.91310</td>\n",
       "      <td>592.48990</td>\n",
       "      <td>3.787287e+09</td>\n",
       "      <td>3.787287e+09</td>\n",
       "    </tr>\n",
       "    <tr>\n",
       "      <th>10760</th>\n",
       "      <td>991.43990</td>\n",
       "      <td>264.75974</td>\n",
       "      <td>3.787287e+09</td>\n",
       "      <td>3.787287e+09</td>\n",
       "    </tr>\n",
       "    <tr>\n",
       "      <th>10761</th>\n",
       "      <td>1391.36200</td>\n",
       "      <td>1184.32150</td>\n",
       "      <td>3.787287e+09</td>\n",
       "      <td>3.787287e+09</td>\n",
       "    </tr>\n",
       "    <tr>\n",
       "      <th>10762</th>\n",
       "      <td>797.62933</td>\n",
       "      <td>1191.55330</td>\n",
       "      <td>3.787287e+09</td>\n",
       "      <td>3.787287e+09</td>\n",
       "    </tr>\n",
       "  </tbody>\n",
       "</table>\n",
       "<p>10763 rows × 4 columns</p>\n",
       "</div>"
      ],
      "text/plain": [
       "            e_ch4       e_ch5         t_ch4         t_ch5\n",
       "0       893.12225   241.21430  3.787286e+09  3.787286e+09\n",
       "1       423.31165   890.62010  3.787286e+09  3.787286e+09\n",
       "2      1221.42480   421.89755  3.787286e+09  3.787286e+09\n",
       "3       997.63600  1112.39590  3.787286e+09  3.787286e+09\n",
       "4      1330.85890   457.94452  3.787286e+09  3.787286e+09\n",
       "...           ...         ...           ...           ...\n",
       "10758  1455.23670  1068.05190  3.787287e+09  3.787287e+09\n",
       "10759  1314.91310   592.48990  3.787287e+09  3.787287e+09\n",
       "10760   991.43990   264.75974  3.787287e+09  3.787287e+09\n",
       "10761  1391.36200  1184.32150  3.787287e+09  3.787287e+09\n",
       "10762   797.62933  1191.55330  3.787287e+09  3.787287e+09\n",
       "\n",
       "[10763 rows x 4 columns]"
      ]
     },
     "execution_count": 11,
     "metadata": {},
     "output_type": "execute_result"
    }
   ],
   "source": [
    "# Let's have a look at what this data looks like\n",
    "matched_co60"
   ]
  },
  {
   "cell_type": "markdown",
   "metadata": {
    "pycharm": {
     "name": "#%% md\n"
    }
   },
   "source": [
    "# Coincidence plot\n",
    "Below we'll plot the results we have just gotten, can you explain all the lines in there? Elaborate on what each of the following lines indicate:\n",
    "  - cyan\n",
    "  - lightgreen\n",
    "  - green\n",
    "  - red\n",
    "  - blue"
   ]
  },
  {
   "cell_type": "code",
   "execution_count": 12,
   "metadata": {
    "ExecuteTime": {
     "end_time": "2023-01-09T08:53:41.639150Z",
     "start_time": "2023-01-09T08:53:41.144829Z"
    },
    "pycharm": {
     "name": "#%%\n"
    }
   },
   "outputs": [
    {
     "data": {
      "text/plain": [
       "<matplotlib.lines.Line2D at 0x7f9f8f7f4f40>"
      ]
     },
     "execution_count": 12,
     "metadata": {},
     "output_type": "execute_result"
    },
    {
     "data": {
      "image/png": "[encoded data removed]",
      "text/plain": [
       "<Figure size 1000x700 with 2 Axes>"
      ]
     },
     "metadata": {},
     "output_type": "display_data"
    }
   ],
   "source": [
    "plt.figure(figsize=(10,7))\n",
    "plt.hist2d(\n",
    "    matched_co60['e_ch4'],\n",
    "    matched_co60['e_ch5'], \n",
    "    bins = 200, \n",
    "    norm=LogNorm(),\n",
    "    range=[[0,3000],[0,3000]]);\n",
    "plt.plot([1332.5,0], [0,1332.5], linestyle = '--', linewidth = 2, c = 'cyan')\n",
    "plt.plot([0,1173.2], [1173.2,0], linestyle = '--', linewidth = 2, c = 'lightgreen')\n",
    "plt.plot([0,1173.2+1332.5], [1173.2+1332.5,0], linestyle = '--', linewidth = 2, c = 'green')\n",
    "plt.gca().set_aspect(1)\n",
    "plt.colorbar(label='Counts/bin')\n",
    "plt.xlabel('Energy ch4 [keV]')\n",
    "plt.ylabel('Energy ch5 [keV]')\n",
    "plt.title('Coincidence ${}^{60}$Co');\n",
    "plt.axvline(1173.2, c = 'r', linestyle = '--')\n",
    "plt.axhline(1173.2, c = 'r', linestyle = '--')\n",
    "plt.axvline(1332.5, c = 'b', linestyle = '--')\n",
    "plt.axhline(1332.5, c = 'b', linestyle = '--')"
   ]
  },
  {
   "cell_type": "markdown",
   "metadata": {
    "pycharm": {
     "name": "#%% md\n"
    }
   },
   "source": [
    "# Plot the spectra of other channel for one of the photopeaks\n",
    "\n",
    "But we can do more fun stuff! What if we select the peaks that are around 1173.2 keV and check what we will see in the other peak. "
   ]
  },
  {
   "cell_type": "code",
   "execution_count": 13,
   "metadata": {
    "ExecuteTime": {
     "end_time": "2023-01-09T08:53:41.653678Z",
     "start_time": "2023-01-09T08:53:41.641736Z"
    },
    "pycharm": {
     "name": "#%%\n"
    }
   },
   "outputs": [],
   "source": [
    "selected_data = rp.select_peak(matched_co60, 'e_ch4', energy = 1332.5, energy_range = 75)"
   ]
  },
  {
   "cell_type": "code",
   "execution_count": 14,
   "metadata": {
    "ExecuteTime": {
     "end_time": "2023-01-09T08:53:41.675042Z",
     "start_time": "2023-01-09T08:53:41.657957Z"
    },
    "pycharm": {
     "name": "#%%\n"
    }
   },
   "outputs": [
    {
     "data": {
      "text/html": [
       "<div>\n",
       "<style scoped>\n",
       "    .dataframe tbody tr th:only-of-type {\n",
       "        vertical-align: middle;\n",
       "    }\n",
       "\n",
       "    .dataframe tbody tr th {\n",
       "        vertical-align: top;\n",
       "    }\n",
       "\n",
       "    .dataframe thead th {\n",
       "        text-align: right;\n",
       "    }\n",
       "</style>\n",
       "<table border=\"1\" class=\"dataframe\">\n",
       "  <thead>\n",
       "    <tr style=\"text-align: right;\">\n",
       "      <th></th>\n",
       "      <th>e_ch4</th>\n",
       "      <th>e_ch5</th>\n",
       "      <th>t_ch4</th>\n",
       "      <th>t_ch5</th>\n",
       "    </tr>\n",
       "  </thead>\n",
       "  <tbody>\n",
       "    <tr>\n",
       "      <th>4</th>\n",
       "      <td>1330.8589</td>\n",
       "      <td>457.94452</td>\n",
       "      <td>3.787286e+09</td>\n",
       "      <td>3.787286e+09</td>\n",
       "    </tr>\n",
       "    <tr>\n",
       "      <th>7</th>\n",
       "      <td>1348.6272</td>\n",
       "      <td>622.81870</td>\n",
       "      <td>3.787286e+09</td>\n",
       "      <td>3.787286e+09</td>\n",
       "    </tr>\n",
       "    <tr>\n",
       "      <th>14</th>\n",
       "      <td>1332.1346</td>\n",
       "      <td>1125.62610</td>\n",
       "      <td>3.787286e+09</td>\n",
       "      <td>3.787286e+09</td>\n",
       "    </tr>\n",
       "    <tr>\n",
       "      <th>15</th>\n",
       "      <td>1360.8372</td>\n",
       "      <td>262.18094</td>\n",
       "      <td>3.787286e+09</td>\n",
       "      <td>3.787286e+09</td>\n",
       "    </tr>\n",
       "    <tr>\n",
       "      <th>18</th>\n",
       "      <td>1283.1124</td>\n",
       "      <td>612.27930</td>\n",
       "      <td>3.787286e+09</td>\n",
       "      <td>3.787286e+09</td>\n",
       "    </tr>\n",
       "    <tr>\n",
       "      <th>...</th>\n",
       "      <td>...</td>\n",
       "      <td>...</td>\n",
       "      <td>...</td>\n",
       "      <td>...</td>\n",
       "    </tr>\n",
       "    <tr>\n",
       "      <th>10728</th>\n",
       "      <td>1374.5050</td>\n",
       "      <td>769.69745</td>\n",
       "      <td>3.787287e+09</td>\n",
       "      <td>3.787287e+09</td>\n",
       "    </tr>\n",
       "    <tr>\n",
       "      <th>10729</th>\n",
       "      <td>1309.5371</td>\n",
       "      <td>244.40974</td>\n",
       "      <td>3.787287e+09</td>\n",
       "      <td>3.787287e+09</td>\n",
       "    </tr>\n",
       "    <tr>\n",
       "      <th>10744</th>\n",
       "      <td>1348.3539</td>\n",
       "      <td>1200.18680</td>\n",
       "      <td>3.787287e+09</td>\n",
       "      <td>3.787287e+09</td>\n",
       "    </tr>\n",
       "    <tr>\n",
       "      <th>10759</th>\n",
       "      <td>1314.9131</td>\n",
       "      <td>592.48990</td>\n",
       "      <td>3.787287e+09</td>\n",
       "      <td>3.787287e+09</td>\n",
       "    </tr>\n",
       "    <tr>\n",
       "      <th>10761</th>\n",
       "      <td>1391.3620</td>\n",
       "      <td>1184.32150</td>\n",
       "      <td>3.787287e+09</td>\n",
       "      <td>3.787287e+09</td>\n",
       "    </tr>\n",
       "  </tbody>\n",
       "</table>\n",
       "<p>1858 rows × 4 columns</p>\n",
       "</div>"
      ],
      "text/plain": [
       "           e_ch4       e_ch5         t_ch4         t_ch5\n",
       "4      1330.8589   457.94452  3.787286e+09  3.787286e+09\n",
       "7      1348.6272   622.81870  3.787286e+09  3.787286e+09\n",
       "14     1332.1346  1125.62610  3.787286e+09  3.787286e+09\n",
       "15     1360.8372   262.18094  3.787286e+09  3.787286e+09\n",
       "18     1283.1124   612.27930  3.787286e+09  3.787286e+09\n",
       "...          ...         ...           ...           ...\n",
       "10728  1374.5050   769.69745  3.787287e+09  3.787287e+09\n",
       "10729  1309.5371   244.40974  3.787287e+09  3.787287e+09\n",
       "10744  1348.3539  1200.18680  3.787287e+09  3.787287e+09\n",
       "10759  1314.9131   592.48990  3.787287e+09  3.787287e+09\n",
       "10761  1391.3620  1184.32150  3.787287e+09  3.787287e+09\n",
       "\n",
       "[1858 rows x 4 columns]"
      ]
     },
     "execution_count": 14,
     "metadata": {},
     "output_type": "execute_result"
    }
   ],
   "source": [
    "selected_data"
   ]
  },
  {
   "cell_type": "code",
   "execution_count": 15,
   "metadata": {
    "ExecuteTime": {
     "end_time": "2023-01-09T08:53:42.946141Z",
     "start_time": "2023-01-09T08:53:41.678265Z"
    },
    "pycharm": {
     "name": "#%%\n"
    }
   },
   "outputs": [
    {
     "data": {
      "image/png": "[encoded data removed]",
      "text/plain": [
       "<Figure size 640x480 with 1 Axes>"
      ]
     },
     "metadata": {},
     "output_type": "display_data"
    }
   ],
   "source": [
    "plt.hist(selected_data['e_ch4'], bins = 150, range=[0,1500], label = 'Selected peak channel 4', zorder =10)\n",
    "plt.hist(matched_co60['e_ch4'], bins = 150, range=[0,1500], label = 'All data in channel 4', color = 'grey')\n",
    "plt.axvline(1173.2, c = 'r', linestyle = '--', label = '1173.2 keV')\n",
    "plt.axvline(1332.5, c = 'b', linestyle = '--', label = '1332.5 keV')\n",
    "plt.yscale('log')\n",
    "plt.legend()\n",
    "plt.xlabel('Energy [keV]')\n",
    "plt.ylabel('Counts / 10 keV');"
   ]
  },
  {
   "cell_type": "markdown",
   "metadata": {
    "pycharm": {
     "name": "#%% md\n"
    }
   },
   "source": [
    "Great, so in the plot above we select the blue peaks out of the grey spectrum. Great! But, what happens in the other channel if we have any of the events from the blue part of the spectrum above?\n",
    "\n",
    "Below we'll find out! Can you explain what we see happening in the spectrum below?"
   ]
  },
  {
   "cell_type": "code",
   "execution_count": 16,
   "metadata": {
    "ExecuteTime": {
     "end_time": "2023-01-09T08:53:43.922182Z",
     "start_time": "2023-01-09T08:53:42.948348Z"
    },
    "pycharm": {
     "name": "#%%\n"
    }
   },
   "outputs": [
    {
     "data": {
      "text/plain": [
       "Text(0, 0.5, 'Counts / 10 keV')"
      ]
     },
     "execution_count": 16,
     "metadata": {},
     "output_type": "execute_result"
    },
    {
     "data": {
      "image/png": "[encoded data removed]",
      "text/plain": [
       "<Figure size 640x480 with 1 Axes>"
      ]
     },
     "metadata": {},
     "output_type": "display_data"
    }
   ],
   "source": [
    "plt.hist(selected_data['e_ch4'], bins = 150, range=[0,1500], label = 'Selected peak channel 4')\n",
    "plt.hist(selected_data['e_ch5'], bins = 150, range=[0,1500], label = 'Coincident in channel 5')\n",
    "plt.axvline(1173.2, c = 'r', linestyle = '--', label = '1173.2 keV')\n",
    "plt.axvline(1332.5, c = 'b', linestyle = '--', label = '1332.5 keV')\n",
    "plt.yscale('log')\n",
    "plt.legend()\n",
    "plt.xlabel('Energy [keV]')\n",
    "plt.ylabel('Counts / 10 keV')"
   ]
  },
  {
   "cell_type": "markdown",
   "metadata": {
    "pycharm": {
     "name": "#%% md\n"
    }
   },
   "source": [
    "So now you can have a look at the spectra below. Here we do the same trick, we select events with a certain energy and check what happens in the other detector during those events. But this time it may be somewhat harder to see what is going on. Can you explain?"
   ]
  },
  {
   "cell_type": "code",
   "execution_count": 17,
   "metadata": {
    "ExecuteTime": {
     "end_time": "2023-01-09T08:53:44.889590Z",
     "start_time": "2023-01-09T08:53:43.925068Z"
    },
    "pycharm": {
     "name": "#%%\n"
    }
   },
   "outputs": [
    {
     "data": {
      "text/plain": [
       "Text(0, 0.5, 'Counts / 10 keV')"
      ]
     },
     "execution_count": 17,
     "metadata": {},
     "output_type": "execute_result"
    },
    {
     "data": {
      "image/png": "[encoded data removed]",
      "text/plain": [
       "<Figure size 640x480 with 1 Axes>"
      ]
     },
     "metadata": {},
     "output_type": "display_data"
    }
   ],
   "source": [
    "selected_data = rp.select_peak(matched_co60, 'e_ch4', energy = 1173.2, energy_range = 50)\n",
    "plt.hist(selected_data['e_ch4'], bins = 150, range=[0,1500], label = 'Selected peak channel 4')\n",
    "plt.hist(selected_data['e_ch5'], bins = 150, range=[0,1500], label = 'Coincident in channel 5')\n",
    "plt.axvline(1173.2, c = 'r', linestyle = '--', label = '1173.2 keV')\n",
    "plt.axvline(1332.5, c = 'b', linestyle = '--', label = '1332.5 keV')\n",
    "plt.yscale('log')\n",
    "plt.legend()\n",
    "plt.xlabel('Energy [keV]')\n",
    "plt.ylabel('Counts / 10 keV')"
   ]
  }
 ],
 "metadata": {
  "kernelspec": {
   "display_name": "Python 3 (ipykernel)",
   "language": "python",
   "name": "python3"
  },
  "language_info": {
   "codemirror_mode": {
    "name": "ipython",
    "version": 3
   },
   "file_extension": ".py",
   "mimetype": "text/x-python",
   "name": "python",
   "nbconvert_exporter": "python",
   "pygments_lexer": "ipython3",
   "version": "3.10.8"
  },
  "varInspector": {
   "cols": {
    "lenName": 16,
    "lenType": 16,
    "lenVar": 40
   },
   "kernels_config": {
    "python": {
     "delete_cmd_postfix": "",
     "delete_cmd_prefix": "del ",
     "library": "var_list.py",
     "varRefreshCmd": "print(var_dic_list())"
    },
    "r": {
     "delete_cmd_postfix": ") ",
     "delete_cmd_prefix": "rm(",
     "library": "var_list.r",
     "varRefreshCmd": "cat(var_dic_list()) "
    }
   },
   "types_to_exclude": [
    "module",
    "function",
    "builtin_function_or_method",
    "instance",
    "_Feature"
   ],
   "window_display": false
  }
 },
 "nbformat": 4,
 "nbformat_minor": 4
}
