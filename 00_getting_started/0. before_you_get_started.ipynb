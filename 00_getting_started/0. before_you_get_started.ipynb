{
 "cells": [
  {
   "cell_type": "markdown",
   "metadata": {
    "pycharm": {
     "name": "#%% md\n"
    }
   },
   "source": [
    "# A. Before you get started\n",
    "Author:\n",
    "\n",
    "J. Angevaare // <j.angevaare@nikhef.nl> //\n",
    "\n",
    "2020-05-25 & updates 2021-01-03"
   ]
  },
  {
   "cell_type": "markdown",
   "metadata": {
    "pycharm": {
     "name": "#%% md\n"
    }
   },
   "source": [
    "-----------\n",
    "\n",
    "# B. What is this project about anyway?\n",
    "\n",
    "Good question! We have recorded an introduction for you guys so you can start with that:\n",
    "  - https://surfdrive.surf.nl/files/index.php/s/rMOcq6C5CpCBf4Q\n",
    "  \n",
    "There are some questions in there that you want to figure out before you continue, otherwise you'll have no idea what you are doing. You may find it very helpful that we have actually nicely written down what this 'Modulation' experiment actually is. This is the experiment where also the data that you are going to look at is coming from. The paper can be found here:\n",
    "  - https://arxiv.org/abs/1804.02765\n",
    "  \n",
    "After that, you can continue doing some (essential) checks below and start with the next tutorial where we take a look at a Co-60 spectrum.\n",
    "\n",
    "Finally if you run into a question related to radioactivity and you want a __very__ complete answer try the following (rather lengthy but excellent) reference:\n",
    " - Glenn Knoll - radiation detection and measurement\n",
    "\n",
    "-----------"
   ]
  },
  {
   "cell_type": "markdown",
   "metadata": {
    "pycharm": {
     "name": "#%% md\n"
    }
   },
   "source": [
    "## C. Installing the required software\n",
    "These are some magic commands you can do in Ipython, I'm not going to explain it unless you ask because it is not needed to understand for the rest of the course."
   ]
  },
  {
   "cell_type": "code",
   "execution_count": 1,
   "metadata": {
    "ExecuteTime": {
     "end_time": "2023-01-09T08:53:46.769011Z",
     "start_time": "2023-01-09T08:53:32.697838Z"
    },
    "pycharm": {
     "name": "#%%\n"
    },
    "scrolled": true
   },
   "outputs": [
    {
     "name": "stdout",
     "output_type": "stream",
     "text": [
      "running develop\n",
      "/home/joran/yes/envs/py3.10/lib/python3.10/site-packages/setuptools/command/easy_install.py:156: EasyInstallDeprecationWarning: easy_install command is deprecated. Use build and pip and other standards-based tools.\n",
      "  warnings.warn(\n",
      "/home/joran/yes/envs/py3.10/lib/python3.10/site-packages/setuptools/command/install.py:34: SetuptoolsDeprecationWarning: setup.py install is deprecated. Use build and pip and other standards-based tools.\n",
      "  warnings.warn(\n",
      "running egg_info\n",
      "writing RP2023.egg-info/PKG-INFO\n",
      "writing dependency_links to RP2023.egg-info/dependency_links.txt\n",
      "writing requirements to RP2023.egg-info/requires.txt\n",
      "writing top-level names to RP2023.egg-info/top_level.txt\n",
      "reading manifest file 'RP2023.egg-info/SOURCES.txt'\n",
      "adding license file 'LICENSE'\n",
      "writing manifest file 'RP2023.egg-info/SOURCES.txt'\n",
      "running build_ext\n",
      "Creating /home/joran/yes/envs/py3.10/lib/python3.10/site-packages/RP2023.egg-link (link to .)\n",
      "RP2023 0.1.1 is already the active version in easy-install.pth\n",
      "\n",
      "Installed /home/joran/software/RP2023\n",
      "Processing dependencies for RP2023==0.1.1\n",
      "Searching for cramjam>=2.3\n",
      "Reading https://pypi.org/simple/cramjam/\n",
      "/home/joran/yes/envs/py3.10/lib/python3.10/site-packages/pkg_resources/__init__.py:116: PkgResourcesDeprecationWarning:  is an invalid version and will not be supported in a future release\n",
      "  warnings.warn(\n",
      "Downloading https://files.pythonhosted.org/packages/cc/65/892f19f459afa123c32a8f4f6e4e8a64d67d3600f77e8db7e89f60cd95df/cramjam-2.6.2-cp310-cp310-manylinux_2_17_x86_64.manylinux2014_x86_64.whl#sha256=76db0782d610644be01a6aabad16d51a5989c58a07b27353b7c10ce1fe8cdfd3\n",
      "Best match: cramjam 2.6.2\n",
      "Processing cramjam-2.6.2-cp310-cp310-manylinux_2_17_x86_64.manylinux2014_x86_64.whl\n",
      "Installing cramjam-2.6.2-cp310-cp310-manylinux_2_17_x86_64.manylinux2014_x86_64.whl to /home/joran/yes/envs/py3.10/lib/python3.10/site-packages\n",
      "Adding cramjam 2.6.2 to easy-install.pth file\n",
      "\n",
      "Installed /home/joran/yes/envs/py3.10/lib/python3.10/site-packages/cramjam-2.6.2-py3.10-linux-x86_64.egg\n",
      "Searching for qtconsole\n",
      "Reading https://pypi.org/simple/qtconsole/\n",
      "Downloading https://files.pythonhosted.org/packages/cc/00/4133199dc738e7f497385af86e619f5c29592aaa4c1731fbbc3ec7bb7080/qtconsole-5.4.0-py3-none-any.whl#sha256=be13560c19bdb3b54ed9741a915aa701a68d424519e8341ac479a91209e694b2\n",
      "Best match: qtconsole 5.4.0\n",
      "Processing qtconsole-5.4.0-py3-none-any.whl\n",
      "Installing qtconsole-5.4.0-py3-none-any.whl to /home/joran/yes/envs/py3.10/lib/python3.10/site-packages\n",
      "Adding qtconsole 5.4.0 to easy-install.pth file\n",
      "Installing jupyter-qtconsole script to /home/joran/yes/envs/py3.10/bin\n",
      "\n",
      "Installed /home/joran/yes/envs/py3.10/lib/python3.10/site-packages/qtconsole-5.4.0-py3.10.egg\n",
      "Searching for jupyter-console\n",
      "Reading https://pypi.org/simple/jupyter-console/\n",
      "Downloading https://files.pythonhosted.org/packages/8b/0c/f9382ca7b7499c8594a5158817a72c95b4c09a6c6f2de10553bfe8905924/jupyter_console-6.4.4-py3-none-any.whl#sha256=756df7f4f60c986e7bc0172e4493d3830a7e6e75c08750bbe59c0a5403ad6dee\n",
      "Best match: jupyter-console 6.4.4\n",
      "Processing jupyter_console-6.4.4-py3-none-any.whl\n",
      "Installing jupyter_console-6.4.4-py3-none-any.whl to /home/joran/yes/envs/py3.10/lib/python3.10/site-packages\n",
      "Adding jupyter-console 6.4.4 to easy-install.pth file\n",
      "Installing jupyter-console script to /home/joran/yes/envs/py3.10/bin\n",
      "\n",
      "Installed /home/joran/yes/envs/py3.10/lib/python3.10/site-packages/jupyter_console-6.4.4-py3.10.egg\n",
      "Searching for qtpy>=2.0.1\n",
      "Reading https://pypi.org/simple/qtpy/\n",
      "Downloading https://files.pythonhosted.org/packages/ca/56/3dfbcf8a6808d2b3566b75759c48a281bcdc2b9547760e5d044e6ec7e33b/QtPy-2.3.0-py3-none-any.whl#sha256=8d6d544fc20facd27360ea189592e6135c614785f0dec0b4f083289de6beb408\n",
      "Best match: QtPy 2.3.0\n",
      "Processing QtPy-2.3.0-py3-none-any.whl\n",
      "Installing QtPy-2.3.0-py3-none-any.whl to /home/joran/yes/envs/py3.10/lib/python3.10/site-packages\n",
      "Adding QtPy 2.3.0 to easy-install.pth file\n",
      "Installing qtpy script to /home/joran/yes/envs/py3.10/bin\n",
      "\n",
      "Installed /home/joran/yes/envs/py3.10/lib/python3.10/site-packages/QtPy-2.3.0-py3.10.egg\n",
      "Searching for tqdm==4.63.1\n",
      "Best match: tqdm 4.63.1\n",
      "Adding tqdm 4.63.1 to easy-install.pth file\n",
      "Installing tqdm script to /home/joran/yes/envs/py3.10/bin\n",
      "\n",
      "Using /home/joran/yes/envs/py3.10/lib/python3.10/site-packages\n",
      "Searching for awkward==1.9.0\n",
      "Best match: awkward 1.9.0\n",
      "Adding awkward 1.9.0 to easy-install.pth file\n",
      "\n",
      "Using /home/joran/yes/envs/py3.10/lib/python3.10/site-packages\n",
      "Searching for fastparquet==2022.12.0\n",
      "Best match: fastparquet 2022.12.0\n",
      "Processing fastparquet-2022.12.0-py3.10-linux-x86_64.egg\n",
      "fastparquet 2022.12.0 is already the active version in easy-install.pth\n",
      "\n",
      "Using /home/joran/yes/envs/py3.10/lib/python3.10/site-packages/fastparquet-2022.12.0-py3.10-linux-x86_64.egg\n",
      "Searching for pyarrow==9.0.0\n",
      "Best match: pyarrow 9.0.0\n",
      "Adding pyarrow 9.0.0 to easy-install.pth file\n",
      "Installing plasma_store script to /home/joran/yes/envs/py3.10/bin\n",
      "\n",
      "Using /home/joran/yes/envs/py3.10/lib/python3.10/site-packages\n",
      "Searching for scipy==1.9.1\n",
      "Best match: scipy 1.9.1\n",
      "Adding scipy 1.9.1 to easy-install.pth file\n",
      "\n",
      "Using /home/joran/yes/envs/py3.10/lib/python3.10/site-packages\n",
      "Searching for uproot3==3.14.4\n",
      "Best match: uproot3 3.14.4\n",
      "Processing uproot3-3.14.4-py3.10.egg\n",
      "uproot3 3.14.4 is already the active version in easy-install.pth\n",
      "\n",
      "Using /home/joran/yes/envs/py3.10/lib/python3.10/site-packages/uproot3-3.14.4-py3.10.egg\n",
      "Searching for uproot==4.3.5\n",
      "Best match: uproot 4.3.5\n",
      "Adding uproot 4.3.5 to easy-install.pth file\n",
      "\n",
      "Using /home/joran/yes/envs/py3.10/lib/python3.10/site-packages\n",
      "Searching for pandas==1.5.0\n",
      "Best match: pandas 1.5.0\n",
      "Adding pandas 1.5.0 to easy-install.pth file\n",
      "\n",
      "Using /home/joran/yes/envs/py3.10/lib/python3.10/site-packages\n",
      "Searching for matplotlib==3.5.2\n",
      "Best match: matplotlib 3.5.2\n",
      "Adding matplotlib 3.5.2 to easy-install.pth file\n",
      "\n",
      "Using /home/joran/yes/envs/py3.10/lib/python3.10/site-packages\n",
      "Searching for numpy==1.22.4\n",
      "Best match: numpy 1.22.4\n",
      "Adding numpy 1.22.4 to easy-install.pth file\n",
      "Installing f2py script to /home/joran/yes/envs/py3.10/bin\n",
      "Installing f2py3 script to /home/joran/yes/envs/py3.10/bin\n",
      "Installing f2py3.10 script to /home/joran/yes/envs/py3.10/bin\n",
      "\n",
      "Using /home/joran/yes/envs/py3.10/lib/python3.10/site-packages\n",
      "Searching for numba==0.56.2\n",
      "Best match: numba 0.56.2\n",
      "Adding numba 0.56.2 to easy-install.pth file\n",
      "\n",
      "Using /home/joran/yes/envs/py3.10/lib/python3.10/site-packages\n",
      "Searching for jupyter==1.0.0\n",
      "Best match: jupyter 1.0.0\n",
      "Processing jupyter-1.0.0-py3.10.egg\n",
      "jupyter 1.0.0 is already the active version in easy-install.pth\n",
      "\n",
      "Using /home/joran/yes/envs/py3.10/lib/python3.10/site-packages/jupyter-1.0.0-py3.10.egg\n",
      "Searching for setuptools==59.8.0\n",
      "Best match: setuptools 59.8.0\n",
      "Adding setuptools 59.8.0 to easy-install.pth file\n",
      "\n",
      "Using /home/joran/yes/envs/py3.10/lib/python3.10/site-packages\n",
      "Searching for packaging==21.3\n",
      "Best match: packaging 21.3\n",
      "Adding packaging 21.3 to easy-install.pth file\n",
      "\n",
      "Using /home/joran/yes/envs/py3.10/lib/python3.10/site-packages\n",
      "Searching for fsspec==2022.8.2\n",
      "Best match: fsspec 2022.8.2\n",
      "Adding fsspec 2022.8.2 to easy-install.pth file\n",
      "\n",
      "Using /home/joran/yes/envs/py3.10/lib/python3.10/site-packages\n",
      "Searching for uproot3-methods==0.10.1\n",
      "Best match: uproot3-methods 0.10.1\n",
      "Adding uproot3-methods 0.10.1 to easy-install.pth file\n",
      "\n",
      "Using /home/joran/yes/envs/py3.10/lib/python3.10/site-packages\n",
      "Searching for cachetools==5.2.0\n",
      "Best match: cachetools 5.2.0\n",
      "Adding cachetools 5.2.0 to easy-install.pth file\n",
      "\n",
      "Using /home/joran/yes/envs/py3.10/lib/python3.10/site-packages\n",
      "Searching for awkward0==0.15.5\n",
      "Best match: awkward0 0.15.5\n",
      "Adding awkward0 0.15.5 to easy-install.pth file\n",
      "\n",
      "Using /home/joran/yes/envs/py3.10/lib/python3.10/site-packages\n",
      "Searching for pytz==2022.1\n",
      "Best match: pytz 2022.1\n",
      "Adding pytz 2022.1 to easy-install.pth file\n",
      "\n",
      "Using /home/joran/yes/envs/py3.10/lib/python3.10/site-packages\n",
      "Searching for python-dateutil==2.8.2\n",
      "Best match: python-dateutil 2.8.2\n",
      "Adding python-dateutil 2.8.2 to easy-install.pth file\n",
      "\n",
      "Using /home/joran/yes/envs/py3.10/lib/python3.10/site-packages\n",
      "Searching for kiwisolver==1.4.4\n",
      "Best match: kiwisolver 1.4.4\n",
      "Adding kiwisolver 1.4.4 to easy-install.pth file\n",
      "\n",
      "Using /home/joran/yes/envs/py3.10/lib/python3.10/site-packages\n",
      "Searching for cycler==0.11.0\n",
      "Best match: cycler 0.11.0\n",
      "Adding cycler 0.11.0 to easy-install.pth file\n",
      "\n",
      "Using /home/joran/yes/envs/py3.10/lib/python3.10/site-packages\n",
      "Searching for fonttools==4.34.4\n",
      "Best match: fonttools 4.34.4\n",
      "Adding fonttools 4.34.4 to easy-install.pth file\n",
      "Installing fonttools script to /home/joran/yes/envs/py3.10/bin\n",
      "Installing pyftmerge script to /home/joran/yes/envs/py3.10/bin\n",
      "Installing pyftsubset script to /home/joran/yes/envs/py3.10/bin\n",
      "Installing ttx script to /home/joran/yes/envs/py3.10/bin\n",
      "\n",
      "Using /home/joran/yes/envs/py3.10/lib/python3.10/site-packages\n",
      "Searching for Pillow==9.2.0\n",
      "Best match: Pillow 9.2.0\n",
      "Adding Pillow 9.2.0 to easy-install.pth file\n",
      "\n",
      "Using /home/joran/yes/envs/py3.10/lib/python3.10/site-packages\n",
      "Searching for pyparsing==3.0.9\n",
      "Best match: pyparsing 3.0.9\n",
      "Adding pyparsing 3.0.9 to easy-install.pth file\n",
      "\n",
      "Using /home/joran/yes/envs/py3.10/lib/python3.10/site-packages\n",
      "Searching for llvmlite==0.39.1\n",
      "Best match: llvmlite 0.39.1\n",
      "Adding llvmlite 0.39.1 to easy-install.pth file\n",
      "\n",
      "Using /home/joran/yes/envs/py3.10/lib/python3.10/site-packages\n",
      "Searching for notebook==6.4.12\n",
      "Best match: notebook 6.4.12\n",
      "Adding notebook 6.4.12 to easy-install.pth file\n",
      "Installing jupyter-bundlerextension script to /home/joran/yes/envs/py3.10/bin\n",
      "Installing jupyter-nbextension script to /home/joran/yes/envs/py3.10/bin\n",
      "Installing jupyter-notebook script to /home/joran/yes/envs/py3.10/bin\n",
      "Installing jupyter-serverextension script to /home/joran/yes/envs/py3.10/bin\n",
      "\n",
      "Using /home/joran/yes/envs/py3.10/lib/python3.10/site-packages\n",
      "Searching for nbconvert==6.5.4\n",
      "Best match: nbconvert 6.5.4\n",
      "Adding nbconvert 6.5.4 to easy-install.pth file\n",
      "Installing jupyter-dejavu script to /home/joran/yes/envs/py3.10/bin\n",
      "Installing jupyter-nbconvert script to /home/joran/yes/envs/py3.10/bin\n",
      "\n",
      "Using /home/joran/yes/envs/py3.10/lib/python3.10/site-packages\n",
      "Searching for ipywidgets==8.0.2\n",
      "Best match: ipywidgets 8.0.2\n",
      "Adding ipywidgets 8.0.2 to easy-install.pth file\n",
      "\n",
      "Using /home/joran/yes/envs/py3.10/lib/python3.10/site-packages\n",
      "Searching for ipykernel==6.16.0\n",
      "Best match: ipykernel 6.16.0\n",
      "Adding ipykernel 6.16.0 to easy-install.pth file\n",
      "\n",
      "Using /home/joran/yes/envs/py3.10/lib/python3.10/site-packages\n",
      "Searching for six==1.16.0\n",
      "Best match: six 1.16.0\n",
      "Adding six 1.16.0 to easy-install.pth file\n",
      "\n",
      "Using /home/joran/yes/envs/py3.10/lib/python3.10/site-packages\n",
      "Searching for traitlets==5.4.0\n",
      "Best match: traitlets 5.4.0\n",
      "Adding traitlets 5.4.0 to easy-install.pth file\n",
      "\n",
      "Using /home/joran/yes/envs/py3.10/lib/python3.10/site-packages\n",
      "Searching for pyzmq==24.0.1\n",
      "Best match: pyzmq 24.0.1\n",
      "Adding pyzmq 24.0.1 to easy-install.pth file\n",
      "\n",
      "Using /home/joran/yes/envs/py3.10/lib/python3.10/site-packages\n",
      "Searching for Pygments==2.13.0\n",
      "Best match: Pygments 2.13.0\n",
      "Adding Pygments 2.13.0 to easy-install.pth file\n",
      "Installing pygmentize script to /home/joran/yes/envs/py3.10/bin\n",
      "\n",
      "Using /home/joran/yes/envs/py3.10/lib/python3.10/site-packages\n",
      "Searching for jupyter-core==4.11.1\n",
      "Best match: jupyter-core 4.11.1\n",
      "Adding jupyter-core 4.11.1 to easy-install.pth file\n",
      "Installing jupyter script to /home/joran/yes/envs/py3.10/bin\n"
     ]
    },
    {
     "name": "stdout",
     "output_type": "stream",
     "text": [
      "Installing jupyter-migrate script to /home/joran/yes/envs/py3.10/bin\r\n",
      "Installing jupyter-troubleshoot script to /home/joran/yes/envs/py3.10/bin\r\n",
      "\r\n",
      "Using /home/joran/yes/envs/py3.10/lib/python3.10/site-packages\r\n",
      "Searching for jupyter-client==7.3.5\r\n",
      "Best match: jupyter-client 7.3.5\r\n",
      "Adding jupyter-client 7.3.5 to easy-install.pth file\r\n",
      "Installing jupyter-kernel script to /home/joran/yes/envs/py3.10/bin\r\n",
      "Installing jupyter-kernelspec script to /home/joran/yes/envs/py3.10/bin\r\n",
      "Installing jupyter-run script to /home/joran/yes/envs/py3.10/bin\r\n",
      "\r\n",
      "Using /home/joran/yes/envs/py3.10/lib/python3.10/site-packages\r\n",
      "Searching for ipython-genutils==0.2.0\r\n",
      "Best match: ipython-genutils 0.2.0\r\n",
      "Adding ipython-genutils 0.2.0 to easy-install.pth file\r\n",
      "\r\n",
      "Using /home/joran/yes/envs/py3.10/lib/python3.10/site-packages\r\n",
      "Searching for terminado==0.16.0\r\n",
      "Best match: terminado 0.16.0\r\n",
      "Adding terminado 0.16.0 to easy-install.pth file\r\n",
      "\r\n",
      "Using /home/joran/yes/envs/py3.10/lib/python3.10/site-packages\r\n",
      "Searching for Send2Trash==1.8.0\r\n",
      "Best match: Send2Trash 1.8.0\r\n",
      "Adding Send2Trash 1.8.0 to easy-install.pth file\r\n",
      "Installing send2trash script to /home/joran/yes/envs/py3.10/bin\r\n",
      "\r\n",
      "Using /home/joran/yes/envs/py3.10/lib/python3.10/site-packages\r\n",
      "Searching for Jinja2==3.0.3\r\n",
      "Best match: Jinja2 3.0.3\r\n",
      "Adding Jinja2 3.0.3 to easy-install.pth file\r\n",
      "\r\n",
      "Using /home/joran/yes/envs/py3.10/lib/python3.10/site-packages\r\n",
      "Searching for prometheus-client==0.14.1\r\n",
      "Best match: prometheus-client 0.14.1\r\n",
      "Adding prometheus-client 0.14.1 to easy-install.pth file\r\n",
      "\r\n",
      "Using /home/joran/yes/envs/py3.10/lib/python3.10/site-packages\r\n",
      "Searching for tornado==6.2\r\n",
      "Best match: tornado 6.2\r\n",
      "Adding tornado 6.2 to easy-install.pth file\r\n",
      "\r\n",
      "Using /home/joran/yes/envs/py3.10/lib/python3.10/site-packages\r\n",
      "Searching for nbformat==5.6.1\r\n",
      "Best match: nbformat 5.6.1\r\n",
      "Adding nbformat 5.6.1 to easy-install.pth file\r\n",
      "Installing jupyter-trust script to /home/joran/yes/envs/py3.10/bin\r\n",
      "\r\n",
      "Using /home/joran/yes/envs/py3.10/lib/python3.10/site-packages\r\n",
      "Searching for argon2-cffi==21.3.0\r\n",
      "Best match: argon2-cffi 21.3.0\r\n",
      "Adding argon2-cffi 21.3.0 to easy-install.pth file\r\n",
      "\r\n",
      "Using /home/joran/yes/envs/py3.10/lib/python3.10/site-packages\r\n",
      "Searching for nest-asyncio==1.5.6\r\n",
      "Best match: nest-asyncio 1.5.6\r\n",
      "Adding nest-asyncio 1.5.6 to easy-install.pth file\r\n",
      "\r\n",
      "Using /home/joran/yes/envs/py3.10/lib/python3.10/site-packages\r\n",
      "Searching for pandocfilters==1.5.0\r\n",
      "Best match: pandocfilters 1.5.0\r\n",
      "Adding pandocfilters 1.5.0 to easy-install.pth file\r\n",
      "\r\n",
      "Using /home/joran/yes/envs/py3.10/lib/python3.10/site-packages\r\n",
      "Searching for lxml==4.9.1\r\n",
      "Best match: lxml 4.9.1\r\n",
      "Adding lxml 4.9.1 to easy-install.pth file\r\n",
      "\r\n",
      "Using /home/joran/yes/envs/py3.10/lib/python3.10/site-packages\r\n",
      "Searching for beautifulsoup4==4.11.1\r\n",
      "Best match: beautifulsoup4 4.11.1\r\n",
      "Adding beautifulsoup4 4.11.1 to easy-install.pth file\r\n",
      "\r\n",
      "Using /home/joran/yes/envs/py3.10/lib/python3.10/site-packages\r\n",
      "Searching for jupyterlab-pygments==0.2.2\r\n",
      "Best match: jupyterlab-pygments 0.2.2\r\n",
      "Adding jupyterlab-pygments 0.2.2 to easy-install.pth file\r\n",
      "\r\n",
      "Using /home/joran/yes/envs/py3.10/lib/python3.10/site-packages\r\n",
      "Searching for tinycss2==1.1.1\r\n",
      "Best match: tinycss2 1.1.1\r\n",
      "Adding tinycss2 1.1.1 to easy-install.pth file\r\n",
      "\r\n",
      "Using /home/joran/yes/envs/py3.10/lib/python3.10/site-packages\r\n",
      "Searching for entrypoints==0.4\r\n",
      "Best match: entrypoints 0.4\r\n",
      "Adding entrypoints 0.4 to easy-install.pth file\r\n",
      "\r\n",
      "Using /home/joran/yes/envs/py3.10/lib/python3.10/site-packages\r\n",
      "Searching for mistune==0.8.4\r\n",
      "Best match: mistune 0.8.4\r\n",
      "Adding mistune 0.8.4 to easy-install.pth file\r\n",
      "\r\n",
      "Using /home/joran/yes/envs/py3.10/lib/python3.10/site-packages\r\n",
      "Searching for defusedxml==0.7.1\r\n",
      "Best match: defusedxml 0.7.1\r\n",
      "Adding defusedxml 0.7.1 to easy-install.pth file\r\n",
      "\r\n",
      "Using /home/joran/yes/envs/py3.10/lib/python3.10/site-packages\r\n",
      "Searching for MarkupSafe==2.1.1\r\n",
      "Best match: MarkupSafe 2.1.1\r\n",
      "Adding MarkupSafe 2.1.1 to easy-install.pth file\r\n",
      "\r\n",
      "Using /home/joran/yes/envs/py3.10/lib/python3.10/site-packages\r\n",
      "Searching for bleach==5.0.1\r\n",
      "Best match: bleach 5.0.1\r\n",
      "Adding bleach 5.0.1 to easy-install.pth file\r\n",
      "\r\n",
      "Using /home/joran/yes/envs/py3.10/lib/python3.10/site-packages\r\n",
      "Searching for nbclient==0.5.13\r\n",
      "Best match: nbclient 0.5.13\r\n",
      "Adding nbclient 0.5.13 to easy-install.pth file\r\n",
      "Installing jupyter-execute script to /home/joran/yes/envs/py3.10/bin\r\n",
      "\r\n",
      "Using /home/joran/yes/envs/py3.10/lib/python3.10/site-packages\r\n",
      "Searching for prompt-toolkit==3.0.31\r\n",
      "Best match: prompt-toolkit 3.0.31\r\n",
      "Adding prompt-toolkit 3.0.31 to easy-install.pth file\r\n",
      "\r\n",
      "Using /home/joran/yes/envs/py3.10/lib/python3.10/site-packages\r\n",
      "Searching for ipython==8.5.0\r\n",
      "Best match: ipython 8.5.0\r\n",
      "Adding ipython 8.5.0 to easy-install.pth file\r\n",
      "Installing ipython script to /home/joran/yes/envs/py3.10/bin\r\n",
      "Installing ipython3 script to /home/joran/yes/envs/py3.10/bin\r\n",
      "\r\n",
      "Using /home/joran/yes/envs/py3.10/lib/python3.10/site-packages\r\n",
      "Searching for jupyterlab-widgets==3.0.3\r\n",
      "Best match: jupyterlab-widgets 3.0.3\r\n",
      "Adding jupyterlab-widgets 3.0.3 to easy-install.pth file\r\n",
      "\r\n",
      "Using /home/joran/yes/envs/py3.10/lib/python3.10/site-packages\r\n",
      "Searching for widgetsnbextension==4.0.3\r\n",
      "Best match: widgetsnbextension 4.0.3\r\n",
      "Adding widgetsnbextension 4.0.3 to easy-install.pth file\r\n",
      "\r\n",
      "Using /home/joran/yes/envs/py3.10/lib/python3.10/site-packages\r\n",
      "Searching for matplotlib-inline==0.1.6\r\n",
      "Best match: matplotlib-inline 0.1.6\r\n",
      "Adding matplotlib-inline 0.1.6 to easy-install.pth file\r\n",
      "\r\n",
      "Using /home/joran/yes/envs/py3.10/lib/python3.10/site-packages\r\n",
      "Searching for psutil==5.9.2\r\n",
      "Best match: psutil 5.9.2\r\n",
      "Adding psutil 5.9.2 to easy-install.pth file\r\n",
      "\r\n",
      "Using /home/joran/yes/envs/py3.10/lib/python3.10/site-packages\r\n",
      "Searching for debugpy==1.6.2\r\n",
      "Best match: debugpy 1.6.2\r\n",
      "Adding debugpy 1.6.2 to easy-install.pth file\r\n",
      "\r\n",
      "Using /home/joran/yes/envs/py3.10/lib/python3.10/site-packages\r\n",
      "Searching for ptyprocess==0.7.0\r\n",
      "Best match: ptyprocess 0.7.0\r\n",
      "Adding ptyprocess 0.7.0 to easy-install.pth file\r\n",
      "\r\n",
      "Using /home/joran/yes/envs/py3.10/lib/python3.10/site-packages\r\n",
      "Searching for fastjsonschema==2.16.2\r\n",
      "Best match: fastjsonschema 2.16.2\r\n",
      "Adding fastjsonschema 2.16.2 to easy-install.pth file\r\n",
      "\r\n",
      "Using /home/joran/yes/envs/py3.10/lib/python3.10/site-packages\r\n",
      "Searching for jsonschema==4.16.0\r\n",
      "Best match: jsonschema 4.16.0\r\n",
      "Adding jsonschema 4.16.0 to easy-install.pth file\r\n",
      "Installing jsonschema script to /home/joran/yes/envs/py3.10/bin\r\n",
      "\r\n",
      "Using /home/joran/yes/envs/py3.10/lib/python3.10/site-packages\r\n",
      "Searching for argon2-cffi-bindings==21.2.0\r\n",
      "Best match: argon2-cffi-bindings 21.2.0\r\n",
      "Adding argon2-cffi-bindings 21.2.0 to easy-install.pth file\r\n",
      "\r\n",
      "Using /home/joran/yes/envs/py3.10/lib/python3.10/site-packages\r\n",
      "Searching for soupsieve==2.3.2.post1\r\n",
      "Best match: soupsieve 2.3.2.post1\r\n",
      "Adding soupsieve 2.3.2.post1 to easy-install.pth file\r\n",
      "\r\n",
      "Using /home/joran/yes/envs/py3.10/lib/python3.10/site-packages\r\n",
      "Searching for webencodings==0.5.1\r\n",
      "Best match: webencodings 0.5.1\r\n",
      "Adding webencodings 0.5.1 to easy-install.pth file\r\n",
      "\r\n",
      "Using /home/joran/yes/envs/py3.10/lib/python3.10/site-packages\r\n",
      "Searching for wcwidth==0.2.5\r\n",
      "Best match: wcwidth 0.2.5\r\n",
      "Adding wcwidth 0.2.5 to easy-install.pth file\r\n",
      "\r\n",
      "Using /home/joran/yes/envs/py3.10/lib/python3.10/site-packages\r\n",
      "Searching for pexpect==4.8.0\r\n",
      "Best match: pexpect 4.8.0\r\n",
      "Adding pexpect 4.8.0 to easy-install.pth file\r\n",
      "\r\n",
      "Using /home/joran/yes/envs/py3.10/lib/python3.10/site-packages\r\n",
      "Searching for stack-data==0.5.1\r\n",
      "Best match: stack-data 0.5.1\r\n",
      "Adding stack-data 0.5.1 to easy-install.pth file\r\n",
      "\r\n",
      "Using /home/joran/yes/envs/py3.10/lib/python3.10/site-packages\r\n",
      "Searching for jedi==0.18.1\r\n",
      "Best match: jedi 0.18.1\r\n",
      "Adding jedi 0.18.1 to easy-install.pth file\r\n",
      "\r\n",
      "Using /home/joran/yes/envs/py3.10/lib/python3.10/site-packages\r\n",
      "Searching for pickleshare==0.7.5\r\n",
      "Best match: pickleshare 0.7.5\r\n",
      "Adding pickleshare 0.7.5 to easy-install.pth file\r\n",
      "\r\n",
      "Using /home/joran/yes/envs/py3.10/lib/python3.10/site-packages\r\n",
      "Searching for decorator==5.1.1\r\n",
      "Best match: decorator 5.1.1\r\n",
      "Adding decorator 5.1.1 to easy-install.pth file\r\n",
      "\r\n",
      "Using /home/joran/yes/envs/py3.10/lib/python3.10/site-packages\r\n",
      "Searching for backcall==0.2.0\r\n",
      "Best match: backcall 0.2.0\r\n",
      "Adding backcall 0.2.0 to easy-install.pth file\r\n",
      "\r\n",
      "Using /home/joran/yes/envs/py3.10/lib/python3.10/site-packages\r\n"
     ]
    },
    {
     "name": "stdout",
     "output_type": "stream",
     "text": [
      "Searching for pyrsistent==0.18.1\r\n",
      "Best match: pyrsistent 0.18.1\r\n",
      "Adding pyrsistent 0.18.1 to easy-install.pth file\r\n",
      "\r\n",
      "Using /home/joran/yes/envs/py3.10/lib/python3.10/site-packages\r\n",
      "Searching for attrs==22.1.0\r\n",
      "Best match: attrs 22.1.0\r\n",
      "Adding attrs 22.1.0 to easy-install.pth file\r\n",
      "\r\n",
      "Using /home/joran/yes/envs/py3.10/lib/python3.10/site-packages\r\n",
      "Searching for cffi==1.15.1\r\n",
      "Best match: cffi 1.15.1\r\n",
      "Adding cffi 1.15.1 to easy-install.pth file\r\n",
      "\r\n",
      "Using /home/joran/yes/envs/py3.10/lib/python3.10/site-packages\r\n",
      "Searching for executing==1.1.0\r\n",
      "Best match: executing 1.1.0\r\n",
      "Adding executing 1.1.0 to easy-install.pth file\r\n",
      "\r\n",
      "Using /home/joran/yes/envs/py3.10/lib/python3.10/site-packages\r\n",
      "Searching for pure-eval==0.2.2\r\n",
      "Best match: pure-eval 0.2.2\r\n",
      "Adding pure-eval 0.2.2 to easy-install.pth file\r\n",
      "\r\n",
      "Using /home/joran/yes/envs/py3.10/lib/python3.10/site-packages\r\n",
      "Searching for asttokens==2.0.8\r\n",
      "Best match: asttokens 2.0.8\r\n",
      "Adding asttokens 2.0.8 to easy-install.pth file\r\n",
      "\r\n",
      "Using /home/joran/yes/envs/py3.10/lib/python3.10/site-packages\r\n",
      "Searching for parso==0.8.3\r\n",
      "Best match: parso 0.8.3\r\n",
      "Adding parso 0.8.3 to easy-install.pth file\r\n",
      "\r\n",
      "Using /home/joran/yes/envs/py3.10/lib/python3.10/site-packages\r\n",
      "Searching for pycparser==2.21\r\n",
      "Best match: pycparser 2.21\r\n",
      "Adding pycparser 2.21 to easy-install.pth file\r\n",
      "\r\n",
      "Using /home/joran/yes/envs/py3.10/lib/python3.10/site-packages\r\n",
      "Finished processing dependencies for RP2023==0.1.1\r\n"
     ]
    }
   ],
   "source": [
    "# Lets try this, if it does not work, it's not much of a problem\n",
    "!cd .. && python setup.py develop "
   ]
  },
  {
   "cell_type": "markdown",
   "metadata": {
    "pycharm": {
     "name": "#%% md\n"
    }
   },
   "source": [
    "-----------\n",
    "## D. Checking the packages\n",
    "Before we can start with actually opening files and generating spectra we need to make sure you have a working python environment to work in. To this end we first need to have to cell below working otherwise we may need to install some packages.\n",
    "\n",
    "Execute the cell below:"
   ]
  },
  {
   "cell_type": "code",
   "execution_count": 2,
   "metadata": {
    "ExecuteTime": {
     "end_time": "2023-01-09T08:53:47.960273Z",
     "start_time": "2023-01-09T08:53:46.771506Z"
    },
    "pycharm": {
     "name": "#%%\n"
    }
   },
   "outputs": [],
   "source": [
    "import pandas as pd\n",
    "import numpy as np\n",
    "import matplotlib.pyplot as plt\n",
    "import uproot\n",
    "import numba"
   ]
  },
  {
   "cell_type": "code",
   "execution_count": 3,
   "metadata": {
    "ExecuteTime": {
     "end_time": "2023-01-09T08:53:47.996800Z",
     "start_time": "2023-01-09T08:53:47.964639Z"
    },
    "pycharm": {
     "name": "#%%\n"
    }
   },
   "outputs": [],
   "source": [
    "try:\n",
    "    import RP2023\n",
    "except ModuleNotFoundError:\n",
    "    # This module is not installed correctly, let's hack it in\n",
    "    import sys\n",
    "    import os\n",
    "    path = os.path.join(os.path.abspath('.'), '..')\n",
    "    sys.path.append(path) \n",
    "    import RP2023"
   ]
  },
  {
   "cell_type": "markdown",
   "metadata": {
    "pycharm": {
     "name": "#%% md\n"
    }
   },
   "source": [
    "**If** you get somthing  like:\n",
    "```\n",
    "---------------------------------------------------------------------------\n",
    "ModuleNotFoundError                       Traceback (most recent call last)\n",
    "<ipython-input-2-b7b06ad0c640> in <module>\n",
    "----> 1 import numba\n",
    "\n",
    "ModuleNotFoundError: No module named 'numba'\n",
    "```\n",
    "\n",
    "**Then, do the following:**\n",
    " 1. restart this notebook (Kernel -> Restart)\n",
    " 2. if the error persists after `1.`, we need to install that. You can do this by for example uncommenting the relevant line below (or if you are lazy just execute all of them or the last one).\n",
    " \n",
    "If you do not get such an error, you can proceed to `E.`. "
   ]
  },
  {
   "cell_type": "code",
   "execution_count": 4,
   "metadata": {
    "ExecuteTime": {
     "end_time": "2023-01-09T08:53:48.005162Z",
     "start_time": "2023-01-09T08:53:48.001913Z"
    },
    "pycharm": {
     "name": "#%%\n"
    }
   },
   "outputs": [],
   "source": [
    "# # Uncomment whatever you need\n",
    "# !pip install pandas\n",
    "# !pip install numpy\n",
    "# !pip install uproot\n",
    "# !pip install numba\n",
    "# !pip install matplotlib\n",
    "# !cd ../ ; python setup.py develop # if RP2021 does not import"
   ]
  },
  {
   "cell_type": "code",
   "execution_count": 5,
   "metadata": {
    "ExecuteTime": {
     "end_time": "2023-01-09T08:53:48.013266Z",
     "start_time": "2023-01-09T08:53:48.007360Z"
    },
    "pycharm": {
     "name": "#%%\n"
    }
   },
   "outputs": [],
   "source": [
    "# # Or, if you are lazy do this:\n",
    "# !pip install pandas numpy uproot numba matplotlib ; cd .. ; python setup.py develop "
   ]
  },
  {
   "cell_type": "markdown",
   "metadata": {
    "pycharm": {
     "name": "#%% md\n"
    }
   },
   "source": [
    "## E. Checking python version\n",
    "We assume you have python 3.6 or higher. Check that using the lines below:"
   ]
  },
  {
   "cell_type": "code",
   "execution_count": 6,
   "metadata": {
    "ExecuteTime": {
     "end_time": "2023-01-09T08:53:48.022375Z",
     "start_time": "2023-01-09T08:53:48.015106Z"
    },
    "pycharm": {
     "name": "#%%\n"
    }
   },
   "outputs": [
    {
     "name": "stdout",
     "output_type": "stream",
     "text": [
      "3.10.8\n"
     ]
    }
   ],
   "source": [
    "import platform\n",
    "print(platform.python_version())"
   ]
  },
  {
   "cell_type": "code",
   "execution_count": 7,
   "metadata": {
    "ExecuteTime": {
     "end_time": "2023-01-09T08:53:48.030681Z",
     "start_time": "2023-01-09T08:53:48.024963Z"
    },
    "pycharm": {
     "name": "#%%\n"
    }
   },
   "outputs": [
    {
     "name": "stdout",
     "output_type": "stream",
     "text": [
      "This wonderderfull line will not work in old python versions. If it does you have a good version: v3.10.8\n"
     ]
    }
   ],
   "source": [
    "print(f'This wonderderfull line will not work in old python versions. '\n",
    "      f'If it does you have a good version: v{platform.python_version()}')"
   ]
  },
  {
   "cell_type": "markdown",
   "metadata": {
    "pycharm": {
     "name": "#%% md\n"
    }
   },
   "source": [
    "## F. Done\n",
    "Let's go to the next notebook"
   ]
  }
 ],
 "metadata": {
  "kernelspec": {
   "display_name": "Python 3 (ipykernel)",
   "language": "python",
   "name": "python3"
  },
  "language_info": {
   "codemirror_mode": {
    "name": "ipython",
    "version": 3
   },
   "file_extension": ".py",
   "mimetype": "text/x-python",
   "name": "python",
   "nbconvert_exporter": "python",
   "pygments_lexer": "ipython3",
   "version": "3.10.8"
  },
  "varInspector": {
   "cols": {
    "lenName": 16,
    "lenType": 16,
    "lenVar": 40
   },
   "kernels_config": {
    "python": {
     "delete_cmd_postfix": "",
     "delete_cmd_prefix": "del ",
     "library": "var_list.py",
     "varRefreshCmd": "print(var_dic_list())"
    },
    "r": {
     "delete_cmd_postfix": ") ",
     "delete_cmd_prefix": "rm(",
     "library": "var_list.r",
     "varRefreshCmd": "cat(var_dic_list()) "
    }
   },
   "types_to_exclude": [
    "module",
    "function",
    "builtin_function_or_method",
    "instance",
    "_Feature"
   ],
   "window_display": false
  }
 },
 "nbformat": 4,
 "nbformat_minor": 4
}
