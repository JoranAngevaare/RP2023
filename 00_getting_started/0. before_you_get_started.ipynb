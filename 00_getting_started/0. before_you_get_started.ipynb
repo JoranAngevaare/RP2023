{
 "cells": [
  {
   "cell_type": "markdown",
   "metadata": {
    "pycharm": {
     "name": "#%% md\n"
    }
   },
   "source": [
    "# A. Before you get started\n",
    "Author:\n",
    "\n",
    "J. Angevaare // <j.angevaare@nikhef.nl> //\n",
    "\n",
    "2020-05-25 & updates 2021-01-03"
   ]
  },
  {
   "cell_type": "markdown",
   "metadata": {
    "pycharm": {
     "name": "#%% md\n"
    }
   },
   "source": [
    "-----------\n",
    "\n",
    "# B. What is this project about anyway?\n",
    "\n",
    "Good question! We have recorded an introduction for you guys so you can start with that:\n",
    "  - https://surfdrive.surf.nl/files/index.php/s/rMOcq6C5CpCBf4Q\n",
    "  \n",
    "There are some questions in there that you want to figure out before you continue, otherwise you'll have no idea what you are doing. You may find it very helpful that we have actually nicely written down what this 'Modulation' experiment actually is. This is the experiment where also the data that you are going to look at is coming from. The paper can be found here:\n",
    "  - https://arxiv.org/abs/1804.02765\n",
    "  \n",
    "After that, you can continue doing some (essential) checks below and start with the next tutorial where we take a look at a Co-60 spectrum.\n",
    "\n",
    "Finally if you run into a question related to radioactivity and you want a __very__ complete answer try the following (rather lengthy but excellent) reference:\n",
    " - Glenn Knoll - radiation detection and measurement\n",
    "\n",
    "-----------"
   ]
  },
  {
   "cell_type": "markdown",
   "metadata": {
    "pycharm": {
     "name": "#%% md\n"
    }
   },
   "source": [
    "## C. Installing the required software\n",
    "These are some magic commands you can do in Ipython, I'm not going to explain it unless you ask because it is not needed to understand for the rest of the course."
   ]
  },
  {
   "cell_type": "code",
   "execution_count": 1,
   "metadata": {
    "ExecuteTime": {
     "end_time": "2021-01-03T15:46:15.194787Z",
     "start_time": "2021-01-03T15:46:13.012564Z"
    },
    "scrolled": true,
    "pycharm": {
     "name": "#%%\n"
    }
   },
   "outputs": [
    {
     "name": "stdout",
     "output_type": "stream",
     "text": [
      "running develop\n",
      "running egg_info\n",
      "writing RP2021.egg-info\\PKG-INFO\n",
      "writing dependency_links to RP2021.egg-info\\dependency_links.txt\n",
      "writing requirements to RP2021.egg-info\\requires.txt\n",
      "writing top-level names to RP2021.egg-info\\top_level.txt\n",
      "reading manifest file 'RP2021.egg-info\\SOURCES.txt'\n",
      "writing manifest file 'RP2021.egg-info\\SOURCES.txt'\n",
      "running build_ext\n",
      "Creating c:\\users\\joran\\anaconda3\\envs\\rp2021\\lib\\site-packages\\RP2021.egg-link (link to .)\n",
      "RP2021 0.0.1 is already the active version in easy-install.pth\n",
      "\n",
      "Installed c:\\users\\joran\\rp2021\n",
      "Processing dependencies for RP2021==0.0.1\n",
      "Searching for tqdm==4.55.1\n",
      "Best match: tqdm 4.55.1\n",
      "Adding tqdm 4.55.1 to easy-install.pth file\n",
      "Installing tqdm-script.py script to C:\\Users\\joran\\Anaconda3\\envs\\RP2021\\Scripts\n",
      "Installing tqdm.exe script to C:\\Users\\joran\\Anaconda3\\envs\\RP2021\\Scripts\n",
      "\n",
      "Using c:\\users\\joran\\anaconda3\\envs\\rp2021\\lib\\site-packages\n",
      "Searching for awkward==1.0.1\n",
      "Best match: awkward 1.0.1\n",
      "Adding awkward 1.0.1 to easy-install.pth file\n",
      "\n",
      "Using c:\\users\\joran\\anaconda3\\envs\\rp2021\\lib\\site-packages\n",
      "Searching for fastparquet==0.5.0\n",
      "Best match: fastparquet 0.5.0\n",
      "Adding fastparquet 0.5.0 to easy-install.pth file\n",
      "\n",
      "Using c:\\users\\joran\\anaconda3\\envs\\rp2021\\lib\\site-packages\n",
      "Searching for pyarrow==2.0.0\n",
      "Best match: pyarrow 2.0.0\n",
      "Adding pyarrow 2.0.0 to easy-install.pth file\n",
      "Installing plasma_store-script.py script to C:\\Users\\joran\\Anaconda3\\envs\\RP2021\\Scripts\n",
      "Installing plasma_store.exe script to C:\\Users\\joran\\Anaconda3\\envs\\RP2021\\Scripts\n",
      "\n",
      "Using c:\\users\\joran\\anaconda3\\envs\\rp2021\\lib\\site-packages\n",
      "Searching for scipy==1.6.0\n",
      "Best match: scipy 1.6.0\n",
      "Adding scipy 1.6.0 to easy-install.pth file\n",
      "\n",
      "Using c:\\users\\joran\\anaconda3\\envs\\rp2021\\lib\\site-packages\n",
      "Searching for uproot3==3.14.2\n",
      "Best match: uproot3 3.14.2\n",
      "Adding uproot3 3.14.2 to easy-install.pth file\n",
      "\n",
      "Using c:\\users\\joran\\anaconda3\\envs\\rp2021\\lib\\site-packages\n",
      "Searching for uproot==4.0.0\n",
      "Best match: uproot 4.0.0\n",
      "Adding uproot 4.0.0 to easy-install.pth file\n",
      "\n",
      "Using c:\\users\\joran\\anaconda3\\envs\\rp2021\\lib\\site-packages\n",
      "Searching for pandas==1.2.0\n",
      "Best match: pandas 1.2.0\n",
      "Adding pandas 1.2.0 to easy-install.pth file\n",
      "\n",
      "Using c:\\users\\joran\\anaconda3\\envs\\rp2021\\lib\\site-packages\n",
      "Searching for matplotlib==3.3.3\n",
      "Best match: matplotlib 3.3.3\n",
      "Adding matplotlib 3.3.3 to easy-install.pth file\n",
      "\n",
      "Using c:\\users\\joran\\anaconda3\\envs\\rp2021\\lib\\site-packages\n",
      "Searching for numpy==1.19.1\n",
      "Best match: numpy 1.19.1\n",
      "Adding numpy 1.19.1 to easy-install.pth file\n",
      "Installing f2py-script.py script to C:\\Users\\joran\\Anaconda3\\envs\\RP2021\\Scripts\n",
      "Installing f2py.exe script to C:\\Users\\joran\\Anaconda3\\envs\\RP2021\\Scripts\n",
      "\n",
      "Using c:\\users\\joran\\anaconda3\\envs\\rp2021\\lib\\site-packages\n",
      "Searching for numba==0.52.0\n",
      "Best match: numba 0.52.0\n",
      "Adding numba 0.52.0 to easy-install.pth file\n",
      "\n",
      "Using c:\\users\\joran\\anaconda3\\envs\\rp2021\\lib\\site-packages\n",
      "Searching for jupyter==1.0.0\n",
      "Best match: jupyter 1.0.0\n",
      "Adding jupyter 1.0.0 to easy-install.pth file\n",
      "\n",
      "Using c:\\users\\joran\\anaconda3\\envs\\rp2021\\lib\\site-packages\n",
      "Searching for thrift==0.13.0\n",
      "Best match: thrift 0.13.0\n",
      "Adding thrift 0.13.0 to easy-install.pth file\n",
      "\n",
      "Using c:\\users\\joran\\anaconda3\\envs\\rp2021\\lib\\site-packages\n",
      "Searching for uproot3-methods==0.10.0\n",
      "Best match: uproot3-methods 0.10.0\n",
      "Adding uproot3-methods 0.10.0 to easy-install.pth file\n",
      "\n",
      "Using c:\\users\\joran\\anaconda3\\envs\\rp2021\\lib\\site-packages\n",
      "Searching for cachetools==4.2.0\n",
      "Best match: cachetools 4.2.0\n",
      "Adding cachetools 4.2.0 to easy-install.pth file\n",
      "\n",
      "Using c:\\users\\joran\\anaconda3\\envs\\rp2021\\lib\\site-packages\n",
      "Searching for awkward0==0.15.2\n",
      "Best match: awkward0 0.15.2\n",
      "Adding awkward0 0.15.2 to easy-install.pth file\n",
      "\n",
      "Using c:\\users\\joran\\anaconda3\\envs\\rp2021\\lib\\site-packages\n",
      "Searching for python-dateutil==2.8.1\n",
      "Best match: python-dateutil 2.8.1\n",
      "Adding python-dateutil 2.8.1 to easy-install.pth file\n",
      "\n",
      "Using c:\\users\\joran\\anaconda3\\envs\\rp2021\\lib\\site-packages\n",
      "Searching for pytz==2020.5\n",
      "Best match: pytz 2020.5\n",
      "Adding pytz 2020.5 to easy-install.pth file\n",
      "\n",
      "Using c:\\users\\joran\\anaconda3\\envs\\rp2021\\lib\\site-packages\n",
      "Searching for pyparsing==2.4.7\n",
      "Best match: pyparsing 2.4.7\n",
      "Adding pyparsing 2.4.7 to easy-install.pth file\n",
      "\n",
      "Using c:\\users\\joran\\anaconda3\\envs\\rp2021\\lib\\site-packages\n",
      "Searching for cycler==0.10.0\n",
      "Best match: cycler 0.10.0\n",
      "Adding cycler 0.10.0 to easy-install.pth file\n",
      "\n",
      "Using c:\\users\\joran\\anaconda3\\envs\\rp2021\\lib\\site-packages\n",
      "Searching for Pillow==8.1.0\n",
      "Best match: Pillow 8.1.0\n",
      "Adding Pillow 8.1.0 to easy-install.pth file\n",
      "\n",
      "Using c:\\users\\joran\\anaconda3\\envs\\rp2021\\lib\\site-packages\n",
      "Searching for kiwisolver==1.3.1\n",
      "Best match: kiwisolver 1.3.1\n",
      "Adding kiwisolver 1.3.1 to easy-install.pth file\n",
      "\n",
      "Using c:\\users\\joran\\anaconda3\\envs\\rp2021\\lib\\site-packages\n",
      "Searching for setuptools==51.0.0.post20201207\n",
      "Best match: setuptools 51.0.0.post20201207\n",
      "Adding setuptools 51.0.0.post20201207 to easy-install.pth file\n",
      "Installing easy_install-script.py script to C:\\Users\\joran\\Anaconda3\\envs\\RP2021\\Scripts\n",
      "Installing easy_install.exe script to C:\\Users\\joran\\Anaconda3\\envs\\RP2021\\Scripts\n",
      "\n",
      "Using c:\\users\\joran\\anaconda3\\envs\\rp2021\\lib\\site-packages\n",
      "Searching for llvmlite==0.35.0\n",
      "Best match: llvmlite 0.35.0\n",
      "Adding llvmlite 0.35.0 to easy-install.pth file\n",
      "\n",
      "Using c:\\users\\joran\\anaconda3\\envs\\rp2021\\lib\\site-packages\n",
      "Searching for notebook==6.1.5\n",
      "Best match: notebook 6.1.5\n",
      "Adding notebook 6.1.5 to easy-install.pth file\n",
      "Installing jupyter-bundlerextension-script.py script to C:\\Users\\joran\\Anaconda3\\envs\\RP2021\\Scripts\n",
      "Installing jupyter-bundlerextension.exe script to C:\\Users\\joran\\Anaconda3\\envs\\RP2021\\Scripts\n",
      "Installing jupyter-nbextension-script.py script to C:\\Users\\joran\\Anaconda3\\envs\\RP2021\\Scripts\n",
      "Installing jupyter-nbextension.exe script to C:\\Users\\joran\\Anaconda3\\envs\\RP2021\\Scripts\n",
      "Installing jupyter-notebook-script.py script to C:\\Users\\joran\\Anaconda3\\envs\\RP2021\\Scripts\n",
      "Installing jupyter-notebook.exe script to C:\\Users\\joran\\Anaconda3\\envs\\RP2021\\Scripts\n"
     ]
    },
    {
     "name": "stderr",
     "output_type": "stream",
     "text": [
      "error: [WinError 5] Access is denied: 'C:\\\\Users\\\\joran\\\\Anaconda3\\\\envs\\\\RP2021\\\\Scripts\\\\jupyter-notebook.exe'\n"
     ]
    }
   ],
   "source": [
    "# Lets try this, if it does not work, it's not much of a problem\n",
    "!cd .. && python setup.py develop "
   ]
  },
  {
   "cell_type": "markdown",
   "metadata": {
    "pycharm": {
     "name": "#%% md\n"
    }
   },
   "source": [
    "-----------\n",
    "## D. Checking the packages\n",
    "Before we can start with actually opening files and generating spectra we need to make sure you have a working python environment to work in. To this end we first need to have to cell below working otherwise we may need to install some packages.\n",
    "\n",
    "Execute the cell below:"
   ]
  },
  {
   "cell_type": "code",
   "execution_count": 1,
   "metadata": {
    "ExecuteTime": {
     "end_time": "2023-01-09T06:27:45.995960Z",
     "start_time": "2023-01-09T06:27:43.458074Z"
    },
    "pycharm": {
     "name": "#%%\n"
    }
   },
   "outputs": [],
   "source": [
    "import pandas as pd\n",
    "import numpy as np\n",
    "import matplotlib.pyplot as plt\n",
    "import uproot\n",
    "import numba"
   ]
  },
  {
   "cell_type": "code",
   "execution_count": 3,
   "metadata": {
    "ExecuteTime": {
     "end_time": "2023-01-09T06:27:53.262966Z",
     "start_time": "2023-01-09T06:27:52.508518Z"
    },
    "pycharm": {
     "name": "#%%\n"
    }
   },
   "outputs": [],
   "source": [
    "try:\n",
    "    import RP2023\n",
    "except ModuleNotFoundError:\n",
    "    # This module is not installed correctly, let's hack it in\n",
    "    import sys\n",
    "    import os\n",
    "    path = os.path.join(os.path.abspath('.'), '..')\n",
    "    sys.path.append(path) \n",
    "    import RP2023"
   ]
  },
  {
   "cell_type": "markdown",
   "metadata": {
    "pycharm": {
     "name": "#%% md\n"
    }
   },
   "source": [
    "**If** you get somthing  like:\n",
    "```\n",
    "---------------------------------------------------------------------------\n",
    "ModuleNotFoundError                       Traceback (most recent call last)\n",
    "<ipython-input-2-b7b06ad0c640> in <module>\n",
    "----> 1 import numba\n",
    "\n",
    "ModuleNotFoundError: No module named 'numba'\n",
    "```\n",
    "\n",
    "**Then, do the following:**\n",
    " 1. restart this notebook (Kernel -> Restart)\n",
    " 2. if the error persists after `1.`, we need to install that. You can do this by for example uncommenting the relevant line below (or if you are lazy just execute all of them or the last one).\n",
    " \n",
    "If you do not get such an error, you can proceed to `E.`. "
   ]
  },
  {
   "cell_type": "code",
   "execution_count": 4,
   "metadata": {
    "ExecuteTime": {
     "end_time": "2023-01-09T06:27:55.022217Z",
     "start_time": "2023-01-09T06:27:55.017725Z"
    },
    "pycharm": {
     "name": "#%%\n"
    }
   },
   "outputs": [],
   "source": [
    "# # Uncomment whatever you need\n",
    "# !pip install pandas\n",
    "# !pip install numpy\n",
    "# !pip install uproot\n",
    "# !pip install numba\n",
    "# !pip install matplotlib\n",
    "# !cd ../ ; python setup.py develop # if RP2021 does not import"
   ]
  },
  {
   "cell_type": "code",
   "execution_count": 5,
   "metadata": {
    "ExecuteTime": {
     "end_time": "2023-01-09T06:27:55.194289Z",
     "start_time": "2023-01-09T06:27:55.188687Z"
    },
    "pycharm": {
     "name": "#%%\n"
    }
   },
   "outputs": [],
   "source": [
    "# # Or, if you are lazy do this:\n",
    "# !pip install pandas numpy uproot numba matplotlib ; cd .. ; python setup.py develop "
   ]
  },
  {
   "cell_type": "markdown",
   "metadata": {
    "pycharm": {
     "name": "#%% md\n"
    }
   },
   "source": [
    "## E. Checking python version\n",
    "We assume you have python 3.6 or higher. Check that using the lines below:"
   ]
  },
  {
   "cell_type": "code",
   "execution_count": 6,
   "metadata": {
    "ExecuteTime": {
     "end_time": "2023-01-09T06:27:56.862846Z",
     "start_time": "2023-01-09T06:27:56.856922Z"
    },
    "pycharm": {
     "name": "#%%\n"
    }
   },
   "outputs": [
    {
     "name": "stdout",
     "output_type": "stream",
     "text": [
      "3.10.8\n"
     ]
    }
   ],
   "source": [
    "import platform\n",
    "print(platform.python_version())"
   ]
  },
  {
   "cell_type": "code",
   "execution_count": 7,
   "metadata": {
    "ExecuteTime": {
     "end_time": "2023-01-09T06:27:58.392022Z",
     "start_time": "2023-01-09T06:27:58.385920Z"
    },
    "pycharm": {
     "name": "#%%\n"
    }
   },
   "outputs": [
    {
     "name": "stdout",
     "output_type": "stream",
     "text": [
      "This wonderderfull line will not work in old python versions. If it does you have a good version: v3.10.8\n"
     ]
    }
   ],
   "source": [
    "print(f'This wonderderfull line will not work in old python versions. '\n",
    "      f'If it does you have a good version: v{platform.python_version()}')"
   ]
  },
  {
   "cell_type": "markdown",
   "metadata": {
    "pycharm": {
     "name": "#%% md\n"
    }
   },
   "source": [
    "## F. Done\n",
    "Let's go to the next notebook"
   ]
  }
 ],
 "metadata": {
  "kernelspec": {
   "display_name": "Python 3 (ipykernel)",
   "language": "python",
   "name": "python3"
  },
  "language_info": {
   "codemirror_mode": {
    "name": "ipython",
    "version": 3
   },
   "file_extension": ".py",
   "mimetype": "text/x-python",
   "name": "python",
   "nbconvert_exporter": "python",
   "pygments_lexer": "ipython3",
   "version": "3.10.8"
  },
  "varInspector": {
   "cols": {
    "lenName": 16,
    "lenType": 16,
    "lenVar": 40
   },
   "kernels_config": {
    "python": {
     "delete_cmd_postfix": "",
     "delete_cmd_prefix": "del ",
     "library": "var_list.py",
     "varRefreshCmd": "print(var_dic_list())"
    },
    "r": {
     "delete_cmd_postfix": ") ",
     "delete_cmd_prefix": "rm(",
     "library": "var_list.r",
     "varRefreshCmd": "cat(var_dic_list()) "
    }
   },
   "types_to_exclude": [
    "module",
    "function",
    "builtin_function_or_method",
    "instance",
    "_Feature"
   ],
   "window_display": false
  }
 },
 "nbformat": 4,
 "nbformat_minor": 4
}